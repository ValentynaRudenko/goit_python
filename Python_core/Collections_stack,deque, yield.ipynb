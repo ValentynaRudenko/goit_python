{
 "cells": [
  {
   "cell_type": "markdown",
   "metadata": {},
   "source": [
    "# Collections\n",
    "\n",
    "## namedtuple"
   ]
  },
  {
   "cell_type": "code",
   "execution_count": null,
   "metadata": {},
   "outputs": [],
   "source": [
    "import collections\n",
    "\n",
    "# Створення іменованого кортежу Person\n",
    "Person = collections.namedtuple('Person', ['first_name', 'last_name', 'age', 'birth_place', 'post_index'])\n",
    "\n",
    "# Створення екземпляра Person\n",
    "person = Person('Mick', 'Nitch', 35, 'Boston', '01146')\n",
    "\n",
    "# Виведення різних атрибутів іменованого кортежу\n",
    "print(person.first_name)       \n",
    "print(person.post_index) \n",
    "print(person.age)        \n",
    "print(person[3])         \n"
   ]
  },
  {
   "cell_type": "code",
   "execution_count": 1,
   "metadata": {},
   "outputs": [
    {
     "name": "stdout",
     "output_type": "stream",
     "text": [
      "This is a cat Simon, 4 age, his owner Krabat\n"
     ]
    }
   ],
   "source": [
    "import collections\n",
    "\n",
    "Cat = collections.namedtuple('Cat', ['nickname', 'age', 'owner'])\n",
    "\n",
    "cat = Cat('Simon', 4, 'Krabat')\n",
    "\n",
    "print(f'This is a cat {cat.nickname}, {cat.age} age, his owner {cat.owner}')\n"
   ]
  },
  {
   "cell_type": "markdown",
   "metadata": {},
   "source": [
    "## Counter"
   ]
  },
  {
   "cell_type": "code",
   "execution_count": 2,
   "metadata": {},
   "outputs": [
    {
     "name": "stdout",
     "output_type": "stream",
     "text": [
      "{4: 4, 2: 2, 6: 3, 7: 2, 3: 2, 5: 2, 1: 3}\n"
     ]
    }
   ],
   "source": [
    "student_marks = [4, 2, 4, 6, 7, 4, 2, 3, 4, 5, 6, 6, 7, 1, 1, 1, 3, 5]\n",
    "mark_counts = {}\n",
    "for mark in student_marks:\n",
    "    if mark in mark_counts:\n",
    "        mark_counts[mark] += 1\n",
    "    else:\n",
    "        mark_counts[mark] = 1\n",
    "\n",
    "print(mark_counts)\n"
   ]
  },
  {
   "cell_type": "code",
   "execution_count": 3,
   "metadata": {},
   "outputs": [
    {
     "name": "stdout",
     "output_type": "stream",
     "text": [
      "Counter({4: 4, 6: 3, 1: 3, 2: 2, 7: 2, 3: 2, 5: 2})\n"
     ]
    }
   ],
   "source": [
    "import collections\n",
    "\n",
    "student_marks = [4, 2, 4, 6, 7, 4, 2, 3, 4, 5, 6, 6, 7 , 1, 1, 1, 3, 5]\n",
    "mark_counts = collections.Counter(student_marks)\n",
    "print(mark_counts)\n"
   ]
  },
  {
   "cell_type": "markdown",
   "metadata": {},
   "source": [
    "## .most_common()"
   ]
  },
  {
   "cell_type": "code",
   "execution_count": 4,
   "metadata": {},
   "outputs": [
    {
     "name": "stdout",
     "output_type": "stream",
     "text": [
      "[(4, 4), (6, 3), (1, 3), (2, 2), (7, 2), (3, 2), (5, 2)]\n",
      "[(4, 4)]\n",
      "[(4, 4), (6, 3)]\n"
     ]
    }
   ],
   "source": [
    "import collections\n",
    "\n",
    "student_marks = [4, 2, 4, 6, 7, 4, 2 , 3, 4, 5, 6, 6, 7 , 1, 1, 1, 3, 5]\n",
    "mark_counts = collections.Counter(student_marks)\n",
    "\n",
    "print(mark_counts.most_common())\n",
    "print(mark_counts.most_common(1))\n",
    "print(mark_counts.most_common(2))\n"
   ]
  },
  {
   "cell_type": "code",
   "execution_count": 5,
   "metadata": {},
   "outputs": [
    {
     "name": "stdout",
     "output_type": "stream",
     "text": [
      "Counter({'a': 3, 'n': 2, 'b': 1})\n"
     ]
    }
   ],
   "source": [
    "from collections import Counter\n",
    "\n",
    "letter_count = Counter(\"banana\")\n",
    "print(letter_count)"
   ]
  },
  {
   "cell_type": "code",
   "execution_count": 6,
   "metadata": {},
   "outputs": [
    {
     "name": "stdout",
     "output_type": "stream",
     "text": [
      "the: 2\n",
      "quick: 1\n",
      "brown: 1\n",
      "fox: 1\n",
      "jumps: 1\n",
      "over: 1\n",
      "lazy: 1\n",
      "dog: 1\n"
     ]
    }
   ],
   "source": [
    "sentence = \"the quick brown fox jumps over the lazy dog\"\n",
    "words = sentence.split()\n",
    "word_count = Counter(words)\n",
    "\n",
    "# Виведення слова та його частоти\n",
    "for word, count in word_count.items():\n",
    "    print(f\"{word}: {count}\")\n"
   ]
  },
  {
   "cell_type": "markdown",
   "metadata": {},
   "source": [
    "## defaultdict\n"
   ]
  },
  {
   "cell_type": "code",
   "execution_count": 7,
   "metadata": {},
   "outputs": [
    {
     "name": "stdout",
     "output_type": "stream",
     "text": [
      "{'a': ['apple', 'appendix'], 'z': ['zoo'], 'l': ['lion', 'lama'], 'b': ['bear', 'bet'], 'w': ['wolf']}\n"
     ]
    }
   ],
   "source": [
    "words = ['apple', 'zoo', 'lion', 'lama', 'bear', 'bet', 'wolf', 'appendix']\n",
    "grouped_words = {}\n",
    "\n",
    "for word in words:\n",
    "    char = word[0]\n",
    "    if char not in grouped_words:\n",
    "        grouped_words[char] = []\n",
    "    grouped_words[char].append(word)\n",
    "\n",
    "print(grouped_words)\n",
    "\n"
   ]
  },
  {
   "cell_type": "code",
   "execution_count": 10,
   "metadata": {},
   "outputs": [
    {
     "name": "stdout",
     "output_type": "stream",
     "text": [
      "{'a': ['apple', 'appendix'], 'z': ['zoo'], 'l': ['lion', 'lama'], 'b': ['bear', 'bet'], 'w': ['wolf']}\n"
     ]
    }
   ],
   "source": [
    "from collections import defaultdict\n",
    "\n",
    "words = ['apple', 'zoo', 'lion', 'lama', 'bear', 'bet', 'wolf', 'appendix']\n",
    "grouped_words = defaultdict(list)\n",
    "\n",
    "for word in words:\n",
    "    char = word[0]\n",
    "    grouped_words[char].append(word)\n",
    "\n",
    "print(dict(grouped_words))\n"
   ]
  },
  {
   "cell_type": "markdown",
   "metadata": {},
   "source": [
    "# Stack"
   ]
  },
  {
   "cell_type": "markdown",
   "metadata": {},
   "source": []
  },
  {
   "cell_type": "code",
   "execution_count": 11,
   "metadata": {},
   "outputs": [],
   "source": [
    "# Створення стеку\n",
    "def create_stack():\n",
    "    return []\n",
    "\n",
    "# Перевірка на порожнечу\n",
    "def is_empty(stack):\n",
    "    return len(stack) == 0\n",
    "\n",
    "# Додавання елементу\n",
    "def push(stack, item):\n",
    "    stack.append(item)\n",
    "\n",
    "# Вилучення елементу\n",
    "def pop(stack):\n",
    "    if not is_empty(stack):\n",
    "        return stack.pop()\n",
    "    else:\n",
    "        print(\"Стек порожній\")\n",
    "\n",
    "# Перегляд верхнього елемента\n",
    "def peek(stack):\n",
    "    if not is_empty(stack):\n",
    "        return stack[-1]\n",
    "    else:\n",
    "        print(\"Стек порожній\")\n"
   ]
  },
  {
   "cell_type": "code",
   "execution_count": 12,
   "metadata": {},
   "outputs": [],
   "source": [
    "stack = create_stack()\n",
    "push(stack, 'a')\n",
    "push(stack, 'b')\n",
    "push(stack, 'c')\n"
   ]
  },
  {
   "cell_type": "code",
   "execution_count": 13,
   "metadata": {},
   "outputs": [
    {
     "name": "stdout",
     "output_type": "stream",
     "text": [
      "c\n"
     ]
    }
   ],
   "source": [
    "print(peek(stack))  # Виведе 'c'\n"
   ]
  },
  {
   "cell_type": "code",
   "execution_count": 14,
   "metadata": {},
   "outputs": [
    {
     "name": "stdout",
     "output_type": "stream",
     "text": [
      "c\n"
     ]
    }
   ],
   "source": [
    "print(pop(stack))  # Виведе 'c'\n"
   ]
  },
  {
   "cell_type": "markdown",
   "metadata": {},
   "source": [
    "# deque"
   ]
  },
  {
   "cell_type": "code",
   "execution_count": 15,
   "metadata": {},
   "outputs": [
    {
     "name": "stdout",
     "output_type": "stream",
     "text": [
      "Черга після додавання елементів: ['a', 'b', 'c']\n",
      "Видалений елемент: a\n",
      "Черга після видалення елемента: ['b', 'c']\n",
      "Перший елемент у черзі: b\n",
      "Чи черга порожня: False\n",
      "Розмір черги: 2\n"
     ]
    }
   ],
   "source": [
    "from collections import deque\n",
    "\n",
    "# Створення черги\n",
    "queue = deque()\n",
    "\n",
    "# Enqueue: Додавання елементів\n",
    "queue.append('a')\n",
    "queue.append('b')\n",
    "queue.append('c')\n",
    "\n",
    "print(\"Черга після додавання елементів:\", list(queue))\n",
    "\n",
    "# Dequeue: Видалення елемента\n",
    "print(\"Видалений елемент:\", queue.popleft())\n",
    "\n",
    "print(\"Черга після видалення елемента:\", list(queue))\n",
    "\n",
    "# Peek: Перегляд першого елемента\n",
    "print(\"Перший елемент у черзі:\", queue[0])\n",
    "\n",
    "# IsEmpty: Перевірка на порожнечу\n",
    "print(\"Чи черга порожня:\", len(queue) == 0)\n",
    "\n",
    "# Size: Розмір черги\n",
    "print(\"Розмір черги:\", len(queue))\n"
   ]
  },
  {
   "cell_type": "code",
   "execution_count": 16,
   "metadata": {},
   "outputs": [
    {
     "name": "stdout",
     "output_type": "stream",
     "text": [
      "Черга після додавання елементів: ['first', 'middle', 'last']\n",
      "Видалений останній елемент: last\n",
      "Видалений перший елемент: first\n",
      "Черга після видалення елементів: ['middle']\n"
     ]
    }
   ],
   "source": [
    "from collections import deque\n",
    "\n",
    "# Створення пустої двосторонньої черги\n",
    "d = deque()\n",
    "\n",
    "# Додаємо елементи в чергу\n",
    "d.append('middle')  # Додаємо 'middle' в кінець черги\n",
    "d.append('last')    # Додаємо 'last' в кінець черги\n",
    "d.appendleft('first')  # Додаємо 'first' на початок черги\n",
    "\n",
    "# Виведення поточного стану черги\n",
    "print(\"Черга після додавання елементів:\", list(d))\n",
    "\n",
    "# Видалення та виведення останнього елемента (з правого кінця)\n",
    "print(\"Видалений останній елемент:\", d.pop())\n",
    "\n",
    "# Видалення та виведення першого елемента (з лівого кінця)\n",
    "print(\"Видалений перший елемент:\", d.popleft())\n",
    "\n",
    "# Виведення поточного стану черги після видалення елементів\n",
    "print(\"Черга після видалення елементів:\", list(d))\n"
   ]
  },
  {
   "cell_type": "code",
   "execution_count": 17,
   "metadata": {},
   "outputs": [
    {
     "name": "stdout",
     "output_type": "stream",
     "text": [
      "deque([5, 6, 7, 8, 9], maxlen=5)\n"
     ]
    }
   ],
   "source": [
    "from collections import deque\n",
    "\n",
    "d = deque(maxlen=5)\n",
    "for i in range(10):\n",
    "    d.append(i)\n",
    "\n",
    "print(d)\n"
   ]
  },
  {
   "cell_type": "code",
   "execution_count": 18,
   "metadata": {},
   "outputs": [
    {
     "name": "stdout",
     "output_type": "stream",
     "text": [
      "Додано швидке завдання: Помити посуд\n",
      "Додано повільне завдання: Подивитись серіал\n",
      "Додано швидке завдання: Вигуляти собаку\n",
      "Додано повільне завдання: Почитати книгу\n",
      "Виконується завдання: Вигуляти собаку\n",
      "Виконується завдання: Помити посуд\n",
      "Виконується завдання: Подивитись серіал\n",
      "Виконується завдання: Почитати книгу\n"
     ]
    }
   ],
   "source": [
    "from collections import deque\n",
    "\n",
    "# Список завдань, де кожне завдання - це словник\n",
    "tasks = [\n",
    "    {\"type\": \"fast\", \"name\": \"Помити посуд\"},\n",
    "    {\"type\": \"slow\", \"name\": \"Подивитись серіал\"},\n",
    "    {\"type\": \"fast\", \"name\": \"Вигуляти собаку\"},\n",
    "    {\"type\": \"slow\", \"name\": \"Почитати книгу\"}\n",
    "]\n",
    "\n",
    "# Ініціалізація черги завдань\n",
    "task_queue = deque()\n",
    "\n",
    "# Розподіл завдань у чергу відповідно до їх пріоритету\n",
    "for task in tasks:\n",
    "    if task[\"type\"] == \"fast\":\n",
    "        task_queue.appendleft(task)  # Додавання на високий пріоритет\n",
    "        print(f\"Додано швидке завдання: {task['name']}\")\n",
    "    else:\n",
    "        task_queue.append(task)  # Додавання на низький пріоритет\n",
    "        print(f\"Додано повільне завдання: {task['name']}\")\n",
    "\n",
    "# Виконання завдань\n",
    "while task_queue:\n",
    "    task = task_queue.popleft()\n",
    "    print(f\"Виконується завдання: {task['name']}\")\n"
   ]
  },
  {
   "cell_type": "markdown",
   "metadata": {},
   "source": [
    "## decimal"
   ]
  },
  {
   "cell_type": "code",
   "execution_count": 19,
   "metadata": {},
   "outputs": [
    {
     "name": "stdout",
     "output_type": "stream",
     "text": [
      "False\n",
      "0.30000000000000004\n"
     ]
    }
   ],
   "source": [
    "print(0.1 + 0.2 == 0.3)\n",
    "print(0.1 + 0.2)\n"
   ]
  },
  {
   "cell_type": "code",
   "execution_count": 20,
   "metadata": {},
   "outputs": [
    {
     "name": "stdout",
     "output_type": "stream",
     "text": [
      "True\n",
      "0.3\n"
     ]
    }
   ],
   "source": [
    "from decimal import Decimal\n",
    "\n",
    "print(Decimal(\"0.1\") + Decimal(\"0.2\") == Decimal(\"0.3\"))\n",
    "print(Decimal(\"0.1\") + Decimal(\"0.2\"))\n"
   ]
  },
  {
   "cell_type": "code",
   "execution_count": 21,
   "metadata": {},
   "outputs": [],
   "source": [
    "from decimal import getcontext\n",
    "getcontext().prec = 4\n"
   ]
  },
  {
   "cell_type": "code",
   "execution_count": 22,
   "metadata": {},
   "outputs": [
    {
     "name": "stdout",
     "output_type": "stream",
     "text": [
      "0.142857\n",
      "0.14285714\n"
     ]
    }
   ],
   "source": [
    "from decimal import Decimal, getcontext\n",
    "\n",
    "getcontext().prec = 6\n",
    "print(Decimal(\"1\") / Decimal(\"7\"))\n",
    "\n",
    "getcontext().prec = 8\n",
    "print(Decimal(\"1\") / Decimal(\"7\"))\n"
   ]
  },
  {
   "cell_type": "markdown",
   "metadata": {},
   "source": [
    "### ☝ Визначення значущих цифр:\n",
    "- Усі ненульові цифри є значущими: 1, 2, 3, 4, 5, 6, 7, 8, 9.\n",
    "- Нулі між ненульовими цифрами значущі: 102, 2005, 50009.\n",
    "- Провідні нулі ніколи не бувають значущими: 0.02; 001.887; 0.000515.\n",
    "- В числі з десятковою або без десяткової крапки знаходяться знакові нулі (праворуч від останньої ненульової цифри) за умови, якщо вони  обґрунтовані точністю їх використання: 389.000; 2.02000; 5.400; 57.5400. \n"
   ]
  },
  {
   "cell_type": "code",
   "execution_count": 23,
   "metadata": {},
   "outputs": [
    {
     "name": "stdout",
     "output_type": "stream",
     "text": [
      "33.2857\n"
     ]
    }
   ],
   "source": [
    "from decimal import Decimal, getcontext\n",
    "\n",
    "getcontext().prec = 6\n",
    "print(Decimal(\"233\") / Decimal(\"7\"))\n"
   ]
  },
  {
   "cell_type": "markdown",
   "metadata": {},
   "source": [
    "### .quantize()"
   ]
  },
  {
   "cell_type": "code",
   "execution_count": 24,
   "metadata": {},
   "outputs": [
    {
     "name": "stdout",
     "output_type": "stream",
     "text": [
      "3.14\n"
     ]
    }
   ],
   "source": [
    "from decimal import Decimal, ROUND_DOWN\n",
    "\n",
    "# Вихідне число Decimal\n",
    "number = Decimal('3.14159')\n",
    "\n",
    "# Встановлення точності до двох знаків після коми\n",
    "rounded_number = number.quantize(Decimal('0.00'), rounding=ROUND_DOWN)\n",
    "\n",
    "print(rounded_number)\n"
   ]
  },
  {
   "cell_type": "markdown",
   "metadata": {},
   "source": [
    "Decimal дозволяє вибирати різні режими округлення. Згідно з офіційною документацією Python, розглянемо основні режими:\n",
    "\n",
    "- ROUND_FLOOR число завжди округляє до найближчого меншого значення, незалежно від знаку числа.\n",
    "- ROUND_CEILING число завжди округляє до найближчого більшого значення, незалежно від знаку числа.\n",
    "- ROUND_HALF_DOWN числа округлюються до найближчого значення. У випадку, коли число знаходиться точно посередині між двома можливими варіантами округлення (наприклад, 2.5, де можливі варіанти — 2 або 3), число округляється вниз, тобто до найближчого меншого значення.\n",
    "- ROUND_HALF_UP числа округлюються до найближчого значення. Проте у випадку нічиї (коли число знаходиться точно посередині між двома варіантами), число округляється вгору, тобто до найближчого більшого значення.\n",
    "- ROUND_UP число округляється від нуля. Це означає, що додатні числа округлюються до більшого, а від'ємні - до меншого за модулем значення.\n",
    "- ROUND_DOWN число округляється до нуля. Тобто додатні числа округлюються до меншого, а від'ємні - до більшого за модулем значення.\n",
    "- ROUND_HALF_EVEN числа округлюються до найближчого числа. Цей режим, також відомий як \"банківське округлення\", округлює число до найближчого значення, але у випадку нічиї (коли число точно посередині між двома варіантами), воно округляється до найближчого парного цілого числа. Наприклад, як 2.5 округлиться до 2, а 3.5 - до 4. Цей метод зменшує сукупну помилку при серії округлень.\n",
    "\n",
    "За замовчуванням округлення описується константою ROUND_HALF_EVEN\n"
   ]
  },
  {
   "cell_type": "code",
   "execution_count": 25,
   "metadata": {},
   "outputs": [
    {
     "name": "stdout",
     "output_type": "stream",
     "text": [
      "Округлення за замовчуванням ROUND_HALF_EVEN: 1.4\n",
      "Округлення вгору ROUND_HALF_UP: 1.5\n",
      "Округлення вниз ROUND_FLOOR: 1.4\n",
      "Округлення вгору ROUND_CEILING: 1.5\n",
      "Округлення до трьох десяткових знаків: 3.142\n"
     ]
    }
   ],
   "source": [
    "import decimal\n",
    "from decimal import Decimal\n",
    " \n",
    "number = Decimal(\"1.45\")\n",
    "\n",
    "# Округлення за замовчуванням до одного десяткового знаку\n",
    "print(\"Округлення за замовчуванням ROUND_HALF_EVEN:\", number.quantize(Decimal(\"0.0\")))\n",
    "\n",
    "# Округлення вверх при нічиї (ROUND_HALF_UP)\n",
    "print(\"Округлення вгору ROUND_HALF_UP:\", number.quantize(Decimal(\"0.0\"), rounding=decimal.ROUND_HALF_UP))\n",
    "\n",
    "# Округлення вниз (ROUND_FLOOR)\n",
    "print(\"Округлення вниз ROUND_FLOOR:\", number.quantize(Decimal(\"0.0\"), rounding=decimal.ROUND_FLOOR))\n",
    "\n",
    "# Округлення вверх (ROUND_CEILING)\n",
    "print(\"Округлення вгору ROUND_CEILING:\", number.quantize(Decimal(\"0.0\"), rounding=decimal.ROUND_CEILING))\n",
    "\n",
    "# Округлення до трьох десяткових знаків за замовчуванням\n",
    "print(\"Округлення до трьох десяткових знаків:\", Decimal(\"3.14159\").quantize(Decimal(\"0.000\")))\n"
   ]
  },
  {
   "cell_type": "markdown",
   "metadata": {},
   "source": [
    "### yield"
   ]
  },
  {
   "cell_type": "code",
   "execution_count": 26,
   "metadata": {},
   "outputs": [
    {
     "name": "stdout",
     "output_type": "stream",
     "text": [
      "1\n",
      "2\n",
      "3\n"
     ]
    }
   ],
   "source": [
    "def my_generator():\n",
    "    yield 1\n",
    "    yield 2\n",
    "    yield 3\n",
    "\n",
    "gen = my_generator()\n",
    "\n",
    "# Використання next()\n",
    "print(next(gen))  # Виведе 1\n",
    "print(next(gen))  # Виведе 2\n",
    "print(next(gen))  # Виведе 3\n"
   ]
  },
  {
   "cell_type": "code",
   "execution_count": 28,
   "metadata": {},
   "outputs": [
    {
     "name": "stdout",
     "output_type": "stream",
     "text": [
      "Hello, world!\n",
      "2222222  k\n",
      "ghh\n"
     ]
    }
   ],
   "source": [
    "def read_lines(file_path):\n",
    "    with open(file_path, 'r', encoding=\"utf-8\") as file:\n",
    "        for line in file:\n",
    "            yield line.strip()\n",
    "\n",
    "# Використання генератора для читання рядків з файлу\n",
    "for line in read_lines(\"example.txt\"):\n",
    "    print(line)\n"
   ]
  }
 ],
 "metadata": {
  "kernelspec": {
   "display_name": "Python 3",
   "language": "python",
   "name": "python3"
  },
  "language_info": {
   "codemirror_mode": {
    "name": "ipython",
    "version": 3
   },
   "file_extension": ".py",
   "mimetype": "text/x-python",
   "name": "python",
   "nbconvert_exporter": "python",
   "pygments_lexer": "ipython3",
   "version": "3.11.4"
  }
 },
 "nbformat": 4,
 "nbformat_minor": 2
}
