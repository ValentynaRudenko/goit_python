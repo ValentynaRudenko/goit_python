{
 "cells": [
  {
   "cell_type": "code",
   "execution_count": 1,
   "metadata": {},
   "outputs": [
    {
     "name": "stdout",
     "output_type": "stream",
     "text": [
      "8 15\n"
     ]
    }
   ],
   "source": [
    "from typing import Callable\n",
    "\n",
    "def add(a: int, b: int) -> int:\n",
    "    return a + b\n",
    "\n",
    "def multiply(a: int, b: int) -> int:\n",
    "    return a * b\n",
    "\n",
    "def apply_operation(a: int, b: int, operation: Callable[[int, int], int]) -> int:\n",
    "    return operation(a, b)\n",
    "\n",
    "# Використання\n",
    "result_add = apply_operation(5, 3, add)\n",
    "result_multiply = apply_operation(5, 3, multiply)\n",
    "\n",
    "print(result_add, result_multiply)\n"
   ]
  },
  {
   "cell_type": "code",
   "execution_count": 2,
   "metadata": {},
   "outputs": [
    {
     "name": "stdout",
     "output_type": "stream",
     "text": [
      "16\n",
      "64\n"
     ]
    }
   ],
   "source": [
    "from typing import Callable\n",
    "\n",
    "def power(exponent: int) -> Callable[[int], int]:\n",
    "    def inner(base: int) -> int:\n",
    "        return base ** exponent\n",
    "    return inner\n",
    "\n",
    "# Використання\n",
    "square = power(2)\n",
    "cube = power(3)\n",
    "\n",
    "print(square(4)) \n",
    "print(cube(4))\n"
   ]
  },
  {
   "cell_type": "markdown",
   "metadata": {},
   "source": [
    "### operations: Dict[str, Callable] = {}"
   ]
  },
  {
   "cell_type": "code",
   "execution_count": 3,
   "metadata": {},
   "outputs": [
    {
     "name": "stdout",
     "output_type": "stream",
     "text": [
      "30\n",
      "25\n"
     ]
    }
   ],
   "source": [
    "from typing import Callable, Dict\n",
    "\n",
    "# Визначення функцій\n",
    "def add(a: int, b: int) -> int:\n",
    "    return a + b\n",
    "\n",
    "def multiply(a: int, b: int) -> int:\n",
    "    return a * b\n",
    "\n",
    "def power(exponent: int) -> Callable[[int], int]:\n",
    "    def inner(base: int) -> int:\n",
    "        return base ** exponent\n",
    "    return inner\n",
    "\n",
    "# Використання power для створення функцій square та cube\n",
    "square = power(2)\n",
    "cube = power(3)\n",
    "\n",
    "# Словник операцій\n",
    "operations: Dict[str, Callable] = {\n",
    "    'add': add,\n",
    "    'multiply': multiply,\n",
    "    'square': square,\n",
    "    'cube': cube\n",
    "}\n",
    "\n",
    "# Використання операцій\n",
    "result_add = operations['add'](10, 20)  # 30\n",
    "result_square = operations['square'](5)  # 25\n",
    "\n",
    "print(result_add)  \n",
    "print(result_square)  \n"
   ]
  },
  {
   "cell_type": "markdown",
   "metadata": {},
   "source": [
    "## closure\n",
    "\n",
    "Замикання відбувається, коли внутрішня функція запам'ятовує стан свого оточення в момент свого створення і може використовувати ці змінні навіть після того, як зовнішня функція завершила своє виконання.\n",
    "\n",
    "Ключовими аспектами замикань є:\n",
    "\n",
    "- Внутрішня функція має доступ до змінних, визначених у області видимості зовнішньої функції.\n",
    "- Зовнішня функція повертає внутрішню функцію як результат своєї роботи.\n",
    "- Після завершення роботи зовнішньої функції, внутрішня функція зберігає доступ до цих змінних, що відіграє важливу роль у певних програмних патернах та алгоритмах."
   ]
  },
  {
   "cell_type": "code",
   "execution_count": 1,
   "metadata": {},
   "outputs": [
    {
     "name": "stdout",
     "output_type": "stream",
     "text": [
      "Hello, world!\n"
     ]
    }
   ],
   "source": [
    "def outer_function(msg):\n",
    "    message = msg\n",
    "\n",
    "    def inner_function():\n",
    "        print(message)\n",
    "\n",
    "    return inner_function\n",
    "\n",
    "# Створення замикання\n",
    "my_func = outer_function(\"Hello, world!\")\n",
    "my_func()\n"
   ]
  },
  {
   "cell_type": "code",
   "execution_count": 2,
   "metadata": {},
   "outputs": [
    {
     "name": "stdout",
     "output_type": "stream",
     "text": [
      "1\n",
      "2\n",
      "3\n"
     ]
    }
   ],
   "source": [
    "from typing import Callable\n",
    "\n",
    "def counter() -> Callable[[], int]:\n",
    "    count = 0\n",
    "\n",
    "    def increment() -> int:\n",
    "        # використовуємо nonlocal, щоб змінити змінну в замиканні\n",
    "        nonlocal count  \n",
    "        count += 1\n",
    "        return count\n",
    "\n",
    "    return increment\n",
    "\n",
    "# Створення лічильника\n",
    "count_calls = counter()\n",
    "\n",
    "# Виклики лічильника\n",
    "print(count_calls())  # Виведе 1\n",
    "print(count_calls())  # Виведе 2\n",
    "print(count_calls())  # Виведе 3\n"
   ]
  },
  {
   "cell_type": "code",
   "execution_count": 3,
   "metadata": {},
   "outputs": [
    {
     "name": "stdout",
     "output_type": "stream",
     "text": [
      "4\n"
     ]
    }
   ],
   "source": [
    "print(count_calls()) "
   ]
  },
  {
   "cell_type": "markdown",
   "metadata": {},
   "source": [
    "## currying\n",
    "\n",
    "— це техніка в програмуванні, коли функція, яка приймає кілька аргументів, перетворюється на послідовність функцій, кожна з яких приймає один аргумент.\n",
    "\n"
   ]
  },
  {
   "cell_type": "code",
   "execution_count": 4,
   "metadata": {},
   "outputs": [
    {
     "name": "stdout",
     "output_type": "stream",
     "text": [
      "15\n"
     ]
    }
   ],
   "source": [
    "def add(a):\n",
    "    def add_b(b):\n",
    "        return a + b\n",
    "    return add_b\n",
    "\n",
    "# Використання:\n",
    "add_5 = add(5)\n",
    "result = add_5(10)\n",
    "print(result)\n"
   ]
  },
  {
   "cell_type": "code",
   "execution_count": 5,
   "metadata": {},
   "outputs": [
    {
     "name": "stdout",
     "output_type": "stream",
     "text": [
      "450.0\n",
      "400.0\n"
     ]
    }
   ],
   "source": [
    "def apply_discount(price: float, discount_percentage: int) -> float:\n",
    "    return price * (1 - discount_percentage / 100)\n",
    "\n",
    "# Використання\n",
    "discounted_price = apply_discount(500, 10)  # Знижка 10% на ціну 500\n",
    "print(discounted_price)\n",
    "\n",
    "discounted_price = apply_discount(500, 20)  # Знижка 20% на ціну 500\n",
    "print(discounted_price)\n"
   ]
  },
  {
   "cell_type": "code",
   "execution_count": 6,
   "metadata": {},
   "outputs": [
    {
     "name": "stdout",
     "output_type": "stream",
     "text": [
      "450.0\n",
      "400.0\n"
     ]
    }
   ],
   "source": [
    "from typing import Callable\n",
    "\n",
    "def discount(discount_percentage: int) -> Callable[[float], float]:\n",
    "    def apply_discount(price: float) -> float:\n",
    "        return price * (1 - discount_percentage / 100)\n",
    "    return apply_discount\n",
    "\n",
    "# Каррінг в дії\n",
    "ten_percent_discount = discount(10)\n",
    "twenty_percent_discount = discount(20)\n",
    "\n",
    "# Застосування знижок\n",
    "discounted_price = ten_percent_discount(500)  # 450.0\n",
    "print(discounted_price)\n",
    "\n",
    "discounted_price = twenty_percent_discount(500)  # 400.0\n",
    "print(discounted_price)\n"
   ]
  },
  {
   "cell_type": "code",
   "execution_count": 7,
   "metadata": {},
   "outputs": [
    {
     "name": "stdout",
     "output_type": "stream",
     "text": [
      "Ціна зі знижкою 20%: 400.0\n"
     ]
    }
   ],
   "source": [
    "from typing import Callable, Dict\n",
    "\n",
    "def discount(discount_percentage: int) -> Callable[[float], float]:\n",
    "    def apply_discount(price: float) -> float:\n",
    "        return price * (1 - discount_percentage / 100)\n",
    "    return apply_discount\n",
    "\n",
    "# Створення словника з функціями знижок\n",
    "discount_functions: Dict[str, Callable] = {\n",
    "    \"10%\": discount(10),\n",
    "    \"20%\": discount(20),\n",
    "    \"30%\": discount(30)\n",
    "}\n",
    "\n",
    "# Використання функції зі словника\n",
    "price = 500\n",
    "discount_type = \"20%\"\n",
    "\n",
    "discounted_price = discount_functions[discount_type](price)\n",
    "print(f\"Ціна зі знижкою {discount_type}: {discounted_price}\")\n"
   ]
  },
  {
   "cell_type": "markdown",
   "metadata": {},
   "source": [
    "## Decorators\n",
    "\n"
   ]
  },
  {
   "cell_type": "code",
   "execution_count": 8,
   "metadata": {},
   "outputs": [
    {
     "name": "stdout",
     "output_type": "stream",
     "text": [
      "Викликається функція: complicated: 2, 3\n",
      "Функція complicated завершила виконання: 5\n",
      "5\n"
     ]
    }
   ],
   "source": [
    "def complicated(x: int, y: int) -> int:\n",
    "    return x + y\n",
    "\n",
    "def logger(func):\n",
    "    def inner(x: int, y: int) -> int:\n",
    "        print(f\"Викликається функція: {func.__name__}: {x}, {y}\")\n",
    "        result = func(x, y)\n",
    "        print(f\"Функція {func.__name__} завершила виконання: {result}\")\n",
    "        return result\n",
    "\n",
    "    return inner\n",
    "\n",
    "complicated = logger(complicated)\n",
    "print(complicated(2, 3))\n"
   ]
  },
  {
   "cell_type": "code",
   "execution_count": 9,
   "metadata": {},
   "outputs": [
    {
     "name": "stdout",
     "output_type": "stream",
     "text": [
      "Викликається функція: complicated: 2, 3\n",
      "Функція complicated завершила виконання: 5\n",
      "5\n"
     ]
    }
   ],
   "source": [
    "def logger(func):\n",
    "    def inner(x: int, y: int) -> int:\n",
    "        print(f\"Викликається функція: {func.__name__}: {x}, {y}\")\n",
    "        result = func(x, y)\n",
    "        print(f\"Функція {func.__name__} завершила виконання: {result}\")\n",
    "        return result\n",
    "\n",
    "    return inner\n",
    "\n",
    "@logger\n",
    "def complicated(x: int, y: int) -> int:\n",
    "    return x + y\n",
    "\n",
    "print(complicated(2, 3))\n"
   ]
  },
  {
   "cell_type": "markdown",
   "metadata": {},
   "source": [
    "Декоратори широко використовуються для різних цілей. Основні застосування це:\n",
    "\n",
    "- Логування - запис інформації про виклики функцій для забезпечення прозорості та відстеження.\n",
    "- Перевірка доступу - перевірка прав користувача перед виконанням функції, щоб контролювати доступ.\n",
    "- Кешування - збереження результатів функції для підвищення ефективності та скорочення часу виконання.\n",
    "- Перевірка аргументів - аналіз та модифікація аргументів перед їх передачею функції для забезпечення правильності виклику."
   ]
  },
  {
   "cell_type": "markdown",
   "metadata": {},
   "source": [
    "### functools.wraps"
   ]
  },
  {
   "cell_type": "code",
   "execution_count": 10,
   "metadata": {},
   "outputs": [
    {
     "name": "stdout",
     "output_type": "stream",
     "text": [
      "Викликається функція: complicated: 2, 3\n",
      "Функція complicated завершила виконання: 5\n",
      "5\n",
      "complicated\n"
     ]
    }
   ],
   "source": [
    "from functools import wraps\n",
    "\n",
    "def logger(func):\n",
    "    @wraps(func)\n",
    "    def inner(x: int, y: int) -> int:\n",
    "        print(f\"Викликається функція: {func.__name__}: {x}, {y}\")\n",
    "        result = func(x, y)\n",
    "        print(f\"Функція {func.__name__} завершила виконання: {result}\")\n",
    "        return result\n",
    "\n",
    "    return inner\n",
    "\n",
    "@logger\n",
    "def complicated(x: int, y: int) -> int:\n",
    "    return x + y\n",
    "\n",
    "print(complicated(2, 3))\n",
    "print(complicated.__name__)\n"
   ]
  },
  {
   "cell_type": "markdown",
   "metadata": {},
   "source": [
    "## Comprehensions\n",
    "\n",
    "### List Comprehensions\n",
    "\n",
    "`[new_item for item in iterable if condition]`\n"
   ]
  },
  {
   "cell_type": "code",
   "execution_count": 11,
   "metadata": {},
   "outputs": [
    {
     "name": "stdout",
     "output_type": "stream",
     "text": [
      "[1, 4, 9, 16, 25]\n"
     ]
    }
   ],
   "source": [
    "sq = [x**2 for x in range(1, 6)]\n",
    "print(sq)\n"
   ]
  },
  {
   "cell_type": "code",
   "execution_count": 12,
   "metadata": {},
   "outputs": [
    {
     "name": "stdout",
     "output_type": "stream",
     "text": [
      "[4, 16, 36, 64]\n"
     ]
    }
   ],
   "source": [
    "even_squares = [x**2 for x in range(1, 10) if x % 2 == 0]\n",
    "print(even_squares)\n"
   ]
  },
  {
   "cell_type": "markdown",
   "metadata": {},
   "source": [
    "### Set Comprehensions\n",
    "\n",
    "`{new_item for item in iterable if condition}`"
   ]
  },
  {
   "cell_type": "code",
   "execution_count": 13,
   "metadata": {},
   "outputs": [
    {
     "name": "stdout",
     "output_type": "stream",
     "text": [
      "{1, 4, 36, 9, 16, 25}\n"
     ]
    }
   ],
   "source": [
    "numbers = [1, 4, 1, 3, 2, 5, 2, 6]\n",
    "sq = {i ** 2 for i in numbers}\n",
    "print(sq)\n"
   ]
  },
  {
   "cell_type": "code",
   "execution_count": 14,
   "metadata": {},
   "outputs": [
    {
     "name": "stdout",
     "output_type": "stream",
     "text": [
      "{1, 9, 81, 49, 25}\n"
     ]
    }
   ],
   "source": [
    "odd_squares = {x**2 for x in range(1, 10) if x % 2 != 0}\n",
    "print(odd_squares)\n"
   ]
  },
  {
   "cell_type": "markdown",
   "metadata": {},
   "source": [
    "### Dictionary Comprehensions\n",
    "\n",
    "`{key: value for item in iterable if condition}`"
   ]
  },
  {
   "cell_type": "code",
   "execution_count": 15,
   "metadata": {},
   "outputs": [
    {
     "name": "stdout",
     "output_type": "stream",
     "text": [
      "{1: 1, 2: 4, 3: 9, 4: 16, 5: 25, 6: 36, 7: 49, 8: 64, 9: 81}\n"
     ]
    }
   ],
   "source": [
    "sq = {x: x**2 for x in range(1, 10)}\n",
    "print(sq)\n"
   ]
  },
  {
   "cell_type": "code",
   "execution_count": 16,
   "metadata": {},
   "outputs": [
    {
     "name": "stdout",
     "output_type": "stream",
     "text": [
      "{6: 36, 7: 49, 8: 64, 9: 81}\n"
     ]
    }
   ],
   "source": [
    "sq_dict = {x: x**2 for x in range(1, 10) if x > 5}\n",
    "print(sq_dict)\n"
   ]
  },
  {
   "cell_type": "markdown",
   "metadata": {},
   "source": [
    "## Functional Programming\n",
    "\n",
    "### Lambda function\n",
    "\n",
    "`lambda arguments: expression`\n"
   ]
  },
  {
   "cell_type": "code",
   "execution_count": 17,
   "metadata": {},
   "outputs": [
    {
     "name": "stdout",
     "output_type": "stream",
     "text": [
      "8\n"
     ]
    }
   ],
   "source": [
    "add = lambda x, y: x + y\n",
    "print(add(5, 3))  # Виведе 8\n"
   ]
  },
  {
   "cell_type": "markdown",
   "metadata": {},
   "source": [
    "Лямбда-функції часто використовуються як аргументи для функцій вищого порядку, таких як map(), filter() або sorted(). Наприклад зворотне сортування списку для sorted():"
   ]
  },
  {
   "cell_type": "code",
   "execution_count": 18,
   "metadata": {},
   "outputs": [
    {
     "name": "stdout",
     "output_type": "stream",
     "text": [
      "[5, 4, 3, 2, 1]\n"
     ]
    }
   ],
   "source": [
    "nums = [1, 2, 3, 4, 5]\n",
    "nums_sorted = sorted(nums, key=lambda x: -x)\n",
    "print(nums_sorted)\n"
   ]
  },
  {
   "cell_type": "code",
   "execution_count": 21,
   "metadata": {},
   "outputs": [
    {
     "name": "stdout",
     "output_type": "stream",
     "text": [
      "[5, 4, 3, 2, 1]\n"
     ]
    }
   ],
   "source": [
    "nums = [1, 2, 3, 4, 5]\n",
    "nums_sorted = sorted(nums, reverse=True)\n",
    "print(nums_sorted)\n"
   ]
  },
  {
   "cell_type": "markdown",
   "metadata": {},
   "source": [
    "### map\n",
    "\n",
    "`map(function, iterable, ...)`\n",
    "\n",
    "- `function` - функція, яку треба застосувати до кожного елемента в iterable.\n",
    "- `iterable` - об'єкт ітерації (список, кортеж тощо), елементи якого будуть оброблятися function."
   ]
  },
  {
   "cell_type": "code",
   "execution_count": 22,
   "metadata": {},
   "outputs": [
    {
     "name": "stdout",
     "output_type": "stream",
     "text": [
      "1\n",
      "4\n",
      "9\n",
      "16\n",
      "25\n"
     ]
    }
   ],
   "source": [
    "numbers = [1, 2, 3, 4, 5]\n",
    "\n",
    "for i in map(lambda x: x ** 2, numbers):\n",
    "    print(i)\n"
   ]
  },
  {
   "cell_type": "code",
   "execution_count": 23,
   "metadata": {},
   "outputs": [
    {
     "name": "stdout",
     "output_type": "stream",
     "text": [
      "[1, 4, 9, 16, 25]\n"
     ]
    }
   ],
   "source": [
    "numbers = [1, 2, 3, 4, 5]\n",
    "\n",
    "squared_nums = list(map(lambda x: x ** 2, numbers))\n",
    "print(squared_nums)\n"
   ]
  },
  {
   "cell_type": "code",
   "execution_count": 25,
   "metadata": {},
   "outputs": [
    {
     "name": "stdout",
     "output_type": "stream",
     "text": [
      "[5, 7, 9]\n"
     ]
    }
   ],
   "source": [
    "nums1 = [1, 2, 3]\n",
    "nums2 = [4, 5, 6]\n",
    "sum_nums = map(lambda x, y: x + y, nums1, nums2)\n",
    "\n",
    "print(list(sum_nums))\n"
   ]
  },
  {
   "cell_type": "code",
   "execution_count": 26,
   "metadata": {},
   "outputs": [
    {
     "name": "stdout",
     "output_type": "stream",
     "text": [
      "[1, 4, 9, 16, 25]\n"
     ]
    }
   ],
   "source": [
    "numbers = [1, 2, 3, 4, 5]\n",
    "\n",
    "squared_nums = list(map(lambda x: x ** 2, numbers))\n",
    "print(squared_nums)\n"
   ]
  },
  {
   "cell_type": "code",
   "execution_count": 27,
   "metadata": {},
   "outputs": [
    {
     "name": "stdout",
     "output_type": "stream",
     "text": [
      "[1, 4, 9, 16, 25]\n"
     ]
    }
   ],
   "source": [
    "nums = [1, 2, 3, 4, 5]\n",
    "squared_nums = [x * x for x in nums]\n",
    "print(squared_nums)\n"
   ]
  },
  {
   "cell_type": "code",
   "execution_count": 28,
   "metadata": {},
   "outputs": [
    {
     "name": "stdout",
     "output_type": "stream",
     "text": [
      "[5, 7, 9]\n"
     ]
    }
   ],
   "source": [
    "nums1 = [1, 2, 3]\n",
    "nums2 = [4, 5, 6]\n",
    "sum_nums = [x + y for x, y in zip(nums1, nums2)]\n",
    "print(sum_nums)\n"
   ]
  },
  {
   "cell_type": "markdown",
   "metadata": {},
   "source": [
    "### filter\n",
    "\n",
    "`filter(function, iterable)`\n",
    "\n",
    "- `function` - функція, яка визначає, чи слід включати елемент у результат. Ця функція повинна приймати один аргумент і повертати булеве значення True або False.\n",
    "- `iterable` - об'єкт ітерації (наприклад, список, кортеж), елементи якого будуть перевірятися функцією function."
   ]
  },
  {
   "cell_type": "code",
   "execution_count": 29,
   "metadata": {},
   "outputs": [
    {
     "name": "stdout",
     "output_type": "stream",
     "text": [
      "[2, 4, 6, 8, 10]\n"
     ]
    }
   ],
   "source": [
    "even_nums = filter(lambda x: x % 2 == 0, range(1, 11))\n",
    "\n",
    "print(list(even_nums))\n"
   ]
  },
  {
   "cell_type": "code",
   "execution_count": 33,
   "metadata": {},
   "outputs": [
    {
     "name": "stdout",
     "output_type": "stream",
     "text": [
      "[2, 4, 6, 8, 10]\n"
     ]
    }
   ],
   "source": [
    "# nums = [1, 2, 3, 4, 5, 6]\n",
    "even_nums = [x for x in range(1, 11) if x % 2 == 0]\n",
    "print(even_nums)\n"
   ]
  },
  {
   "cell_type": "code",
   "execution_count": null,
   "metadata": {},
   "outputs": [],
   "source": [
    "nums = [1, 2, 3, 4, 5, 6]\n",
    "even_nums = [x for x in nums if x % 2 == 0]\n",
    "print(even_nums)\n"
   ]
  },
  {
   "cell_type": "code",
   "execution_count": 30,
   "metadata": {},
   "outputs": [
    {
     "name": "stdout",
     "output_type": "stream",
     "text": [
      "[1, 2]\n"
     ]
    }
   ],
   "source": [
    "def is_positive(x):\n",
    "    return x > 0\n",
    "\n",
    "nums = [-2, -1, 0, 1, 2]\n",
    "positive_nums = filter(is_positive, nums)\n",
    "\n",
    "print(list(positive_nums))\n"
   ]
  },
  {
   "cell_type": "code",
   "execution_count": 31,
   "metadata": {},
   "outputs": [
    {
     "name": "stdout",
     "output_type": "stream",
     "text": [
      "идавництво\n"
     ]
    }
   ],
   "source": [
    "some_str = 'Видавництво А-БА-БА-ГА-ЛА-МА-ГА'\n",
    "\n",
    "new_str = ''.join(list(filter(lambda x: x.islower(), some_str)))\n",
    "print(new_str)\n"
   ]
  },
  {
   "cell_type": "code",
   "execution_count": 34,
   "metadata": {},
   "outputs": [
    {
     "name": "stdout",
     "output_type": "stream",
     "text": [
      "идавництво\n"
     ]
    }
   ],
   "source": [
    "some_str = 'Видавництво А-БА-БА-ГА-ЛА-МА-ГА'\n",
    "\n",
    "new_str = ''.join([x for x in some_str if x.islower()])\n",
    "print(new_str)\n"
   ]
  },
  {
   "cell_type": "markdown",
   "metadata": {},
   "source": [
    "## any()\n",
    "\n",
    "- -> True if at least one of items is True\n",
    "- -> false the object is empty or all are False\n",
    "\n"
   ]
  },
  {
   "cell_type": "code",
   "execution_count": 35,
   "metadata": {},
   "outputs": [
    {
     "name": "stdout",
     "output_type": "stream",
     "text": [
      "True\n"
     ]
    }
   ],
   "source": [
    "nums = [0, False, 5, 0]\n",
    "result = any(nums)  \n",
    "print(result)\n"
   ]
  },
  {
   "cell_type": "code",
   "execution_count": 36,
   "metadata": {},
   "outputs": [
    {
     "name": "stdout",
     "output_type": "stream",
     "text": [
      "False\n"
     ]
    }
   ],
   "source": [
    "nums = [1, 3, 5, 7, 9]\n",
    "result = any(x % 2 == 0 for x in nums)  \n",
    "print(result)\n"
   ]
  },
  {
   "cell_type": "markdown",
   "metadata": {},
   "source": [
    "### all()\n",
    "\n",
    "- -> True if all are True (Not False, None, \"\", 0)\n",
    "- -> True if **empty**"
   ]
  },
  {
   "cell_type": "code",
   "execution_count": 37,
   "metadata": {},
   "outputs": [
    {
     "name": "stdout",
     "output_type": "stream",
     "text": [
      "True\n"
     ]
    }
   ],
   "source": [
    "nums = [1, 2, 3, 4]\n",
    "result = all(nums)  \n",
    "print(result)\n"
   ]
  },
  {
   "cell_type": "code",
   "execution_count": 38,
   "metadata": {},
   "outputs": [
    {
     "name": "stdout",
     "output_type": "stream",
     "text": [
      "False\n"
     ]
    }
   ],
   "source": [
    "nums = [1, 2, 3, 4]\n",
    "is_all_even = all(x % 2 == 0 for x in nums) \n",
    "print(is_all_even)\n"
   ]
  },
  {
   "cell_type": "code",
   "execution_count": 39,
   "metadata": {},
   "outputs": [
    {
     "name": "stdout",
     "output_type": "stream",
     "text": [
      "True\n"
     ]
    }
   ],
   "source": [
    "words = [\"Hello\", \"World\", \"Python\"]\n",
    "is_all_title_case = all(word.istitle() for word in words)\n",
    "print(is_all_title_case)\n"
   ]
  }
 ],
 "metadata": {
  "kernelspec": {
   "display_name": "Python 3",
   "language": "python",
   "name": "python3"
  },
  "language_info": {
   "codemirror_mode": {
    "name": "ipython",
    "version": 3
   },
   "file_extension": ".py",
   "mimetype": "text/x-python",
   "name": "python",
   "nbconvert_exporter": "python",
   "pygments_lexer": "ipython3",
   "version": "3.11.4"
  }
 },
 "nbformat": 4,
 "nbformat_minor": 2
}
