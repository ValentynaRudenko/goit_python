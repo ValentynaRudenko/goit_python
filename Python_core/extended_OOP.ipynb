{
 "cells": [
  {
   "cell_type": "markdown",
   "metadata": {},
   "source": [
    "# Використання спеціальних методів для керування об'єктами"
   ]
  },
  {
   "cell_type": "markdown",
   "metadata": {},
   "source": [
    "## Magic Methods\n",
    "\n",
    "Методи, що **відповідають за визначену поведінку об'єктів** при використанні операторів або інших синтаксичних конструкцій, називаються **магічними методами**.\n"
   ]
  },
  {
   "cell_type": "markdown",
   "metadata": {},
   "source": [
    "за цим [посиланням](https://minhhh.github.io/posts/a-guide-to-pythons-magic-methods), розміщено вичерпний матеріал, що описує ці методи з прикладами їх застосування, що є надзвичайно корисним ресурсом для глибшого розуміння та ефективного використання магічних методів у власних проєктах."
   ]
  },
  {
   "cell_type": "markdown",
   "metadata": {},
   "source": [
    "`__init__`  відповідає за ініціалізацію об'єкта. \n",
    "\n",
    "Коли ви створюєте об'єкт класу, то спочатку створюється порожній об'єкт, який містить лише обов'язкові службові атрибути. Після того як об'єкт створено, автоматично викликається метод `__init__`, який ми можемо модифікувати під наші потреби."
   ]
  },
  {
   "cell_type": "code",
   "execution_count": 1,
   "metadata": {},
   "outputs": [
    {
     "name": "stdout",
     "output_type": "stream",
     "text": [
      "Hello! I am Bill\n",
      "0\n",
      "Hello! I am Jill\n",
      "20\n"
     ]
    }
   ],
   "source": [
    "class Human:\n",
    "    def __init__(self, name: str, age: int = 0):\n",
    "        self.name = name\n",
    "        self.age = age\n",
    "\n",
    "    def say_hello(self) -> str:\n",
    "        return f'Hello! I am {self.name}'\n",
    "\n",
    "bill = Human('Bill')\n",
    "print(bill.say_hello())\n",
    "print(bill.age)\n",
    "\n",
    "jill = Human('Jill', 20)\n",
    "print(jill.say_hello())\n",
    "print(jill.age)\n"
   ]
  },
  {
   "cell_type": "code",
   "execution_count": 2,
   "metadata": {},
   "outputs": [
    {
     "name": "stdout",
     "output_type": "stream",
     "text": [
      "Створено Human: Bill, Вік: 0, Дорослий: False\n",
      "Hello! I am Bill\n",
      "Вік: 0, Дорослий: False\n",
      "Створено Human: Jill, Вік: 20, Дорослий: True\n",
      "Hello! I am Jill\n",
      "Вік: 20, Дорослий: True\n"
     ]
    }
   ],
   "source": [
    "class Human:\n",
    "    def __init__(self, name: str, age: int = 0):\n",
    "        self.name = name\n",
    "        self.age = age\n",
    "        # Виклик методу під час ініціалізації\n",
    "        self.is_adult = self.__check_adulthood()  \n",
    "        \n",
    "        # Приклад логування\n",
    "        print(f\"Створено Human: {self.name}, Вік: {self.age}, Дорослий: {self.is_adult}\")\n",
    "\n",
    "    def say_hello(self) -> str:\n",
    "        return f'Hello! I am {self.name}'\n",
    "\n",
    "    def __check_adulthood(self) -> bool:\n",
    "        return self.age >= 18\n",
    "\n",
    "bill = Human('Bill')\n",
    "print(bill.say_hello())\n",
    "print(f\"Вік: {bill.age}, Дорослий: {bill.is_adult}\")\n",
    "\n",
    "jill = Human('Jill', 20)\n",
    "print(jill.say_hello())\n",
    "print(f\"Вік: {jill.age}, Дорослий: {jill.is_adult}\")\n"
   ]
  },
  {
   "cell_type": "markdown",
   "metadata": {},
   "source": [
    "У цьому прикладі, коли створюється об'єкт класу Human, наш магічний метод `__init__` виконує наступні дії:\n",
    "-  Він, як і було до цього, ініціалізує поля name та age.\n",
    "- Але тепер він визначає, чи є особа дорослою, використовуючи метод check_adulthood, і зберігає результат в поле is_adult. - Також ми додали рядок який виводить інформацію про створення об'єкта.\n",
    "\n",
    "Отже метод `__init__` може використовуватись не лише для простої ініціалізації полів, але й для виконання будь-яких інших додаткових операцій, необхідних для підготовки об'єкта до використання."
   ]
  },
  {
   "cell_type": "markdown",
   "metadata": {},
   "source": [
    "## Methods `__str__` and `__repr__` \n",
    "\n",
    "Магічні методи `__str__` та `__repr__` в Python відіграють ключову роль у представленні об'єктів у вигляді рядків. \n",
    "\n"
   ]
  },
  {
   "cell_type": "markdown",
   "metadata": {},
   "source": [
    "### `__repr__`\n",
    "\n",
    "Метод `__repr__` призначений для **створення офіційного рядкового представлення об'єкта**. \n",
    "- однозначного ідентифікування об'єкта або навіть для відтворення об'єкта в іншому місці коду. "
   ]
  },
  {
   "cell_type": "code",
   "execution_count": 11,
   "metadata": {},
   "outputs": [
    {
     "name": "stdout",
     "output_type": "stream",
     "text": [
      "Point(x=2, y=3)\n"
     ]
    }
   ],
   "source": [
    "class Point:\n",
    "    def __init__(self, x, y):\n",
    "        self.x = x\n",
    "        self.y = y\n",
    "\n",
    "    def __repr__(self):\n",
    "        return f\"Point(x={self.x}, y={self.y})\"\n",
    "\n",
    "point = Point(2, 3)\n",
    "print(repr(point))  # Виводить: Point(x=2, y=3)\n",
    "\n"
   ]
  },
  {
   "cell_type": "markdown",
   "metadata": {},
   "source": [
    "- головне призначення `__repr__` це створення **офіційного рядкового представлення об'єкта**, яке можна використати для відновлення об'єкта. \n",
    "\n",
    "- Метод `__repr__` має повертати **рядок**, який, ідеально, міг би бути використаний в коді для відтворення об'єкта з тими самими даними.\n",
    "\n",
    "- ви можете **використовувати вираз, повернутий методом** `__repr__`, *як Python команду для створення нового об'єкта, який буде мати ті самі характеристики, що й оригінальний об'єкт. Ця особливість особливо корисна для налагодження, де ви можете легко відтворити об'єкти на основі їхнього `__repr__` представлення.\n",
    "\n",
    "**☝ Використання `__repr__` дозволяє розробникам отримати детальне представлення об'єкта, яке може бути використане для точного відтворення об'єкта або для налагодження програми, допомагаючи ідентифікувати та виправляти помилки.**"
   ]
  },
  {
   "cell_type": "code",
   "execution_count": 12,
   "metadata": {},
   "outputs": [
    {
     "name": "stdout",
     "output_type": "stream",
     "text": [
      "Point(x=2, y=3)\n",
      "Point(x=2, y=3)\n"
     ]
    }
   ],
   "source": [
    "class Point:\n",
    "    def __init__(self, x: float, y: float):\n",
    "        self.x = x\n",
    "        self.y = y\n",
    "\n",
    "    def __repr__(self):\n",
    "        return f\"Point(x={self.x}, y={self.y})\"\n",
    "\n",
    "original_point = Point(2, 3)\n",
    "print(repr(original_point))  \n",
    "\n",
    "# Використання рядка, повернутого __repr__, для створення нового об'єкта\n",
    "new_point = eval(repr(original_point))\n",
    "print(new_point)\n"
   ]
  },
  {
   "cell_type": "markdown",
   "metadata": {},
   "source": [
    "- створили об'єкт `original_point` класу Point та використали `__repr__` для отримання його представлення `repr(original_point)`\n",
    "- можемо використовувати це представлення для створення нового об'єкта з такими ж атрибутами. Для цього використовують функцію `eval`, яка і створює новий об'єкт `new_point` з рядкового представлення.\n",
    "\n",
    "- Функція `eval()` використовується для **виконання рядкового виразу як коду**. \n",
    "-  Вона приймає рядок і виконує його як вираз Python, повертаючи результат виконання цього виразу. \n",
    "- Коли метод `__repr__` класу повертає рядок, його можна передати до eval(). \n",
    "- Ідея полягає в тому, щоб виклик `eval()` з результатом `__repr__` створив новий об'єкт, ідентичний оригіналу.\n",
    "\n",
    "**☝ Важливо пам'ятати про обережне використання `eval()`, оскільки виконання коду, отриманого з ненадійних джерел, може призвести до серйозних проблем з безпекою.**"
   ]
  },
  {
   "cell_type": "markdown",
   "metadata": {},
   "source": [
    "### `__str__`\n",
    "\n",
    "Метод `__str__` призначений для **повернення рядкового представлення об'єкта**, яке має бути читабельним і зрозумілим для людини. \n",
    "\n",
    "Коли ви викликаєте функцію `str()` для об'єкта або друкуєте об'єкт за допомогою `print()`, Python автоматично використовує метод `__str__` вашого класу. \n",
    "\n",
    "Це дає вам, як розробнику, можливість визначити, як об'єкт має бути представлений у зрозумілій формі."
   ]
  },
  {
   "cell_type": "code",
   "execution_count": 13,
   "metadata": {},
   "outputs": [
    {
     "name": "stdout",
     "output_type": "stream",
     "text": [
      "Human named Alice who is 30 years old\n"
     ]
    }
   ],
   "source": [
    "class Human:\n",
    "    def __init__(self, name: str, age: int):\n",
    "        self.name = name\n",
    "        self.age = age\n",
    "\n",
    "    def __str__(self):\n",
    "        return f\"Human named {self.name} who is {self.age} years old\"\n",
    "    \n",
    "    def __repr__(self):\n",
    "        return f\"Human({self.name}, {self.age})\"\n",
    "\n",
    "human = Human(\"Alice\", 30)\n",
    "print(human)\n"
   ]
  },
  {
   "cell_type": "markdown",
   "metadata": {},
   "source": [
    "метод `__str__` призначений для повернення рядка, який є зрозумілим для кінцевого користувача. \n",
    "\n",
    "Якщо цей метод не визначено, Python використає метод `__repr__` як запасний варіант для перетворення об'єкта в рядок."
   ]
  },
  {
   "cell_type": "markdown",
   "metadata": {},
   "source": [
    "## Methods `__getitem__` and `__setitem__` \n",
    "\n",
    "Методи `__getitem__` та `__setitem__` в Python використовуються для **налаштування доступу до елементів об'єкта за допомогою індексації або ключів**, подібно до роботи зі **списками** чи **словниками**. Ці магічні методи дозволяють нашим класам імітувати контейнерні типи даних."
   ]
  },
  {
   "cell_type": "markdown",
   "metadata": {},
   "source": [
    "Метод `__getitem__` визначає, як об'єкт класу повинен вести себе при **доступі до його елементів за допомогою індексу або ключа**. \n",
    "- приймає ключ або індекс як аргумент і повинен повертати значення, асоційоване з цим ключем або індексом."
   ]
  },
  {
   "cell_type": "markdown",
   "metadata": {},
   "source": [
    "Метод `__setitem__` визначає, як об'єкт повинен поводити себе при **присвоєнні значення елементу за певним індексом або ключем**. \n",
    "- приймає два аргументи: ключ (або індекс) та значення, яке потрібно асоціювати з цим ключем."
   ]
  },
  {
   "cell_type": "code",
   "execution_count": 14,
   "metadata": {},
   "outputs": [
    {
     "name": "stdout",
     "output_type": "stream",
     "text": [
      "Boris\n",
      "Key not found\n"
     ]
    }
   ],
   "source": [
    "class SimpleDict:\n",
    "    def __init__(self):\n",
    "        self.__data = {}\n",
    "\n",
    "    def __getitem__(self, key):\n",
    "        return self.__data.get(key, \"Key not found\")\n",
    "\n",
    "    def __setitem__(self, key, value):\n",
    "        self.__data[key] = value\n",
    "\n",
    "# Використання класу\n",
    "simple_dict = SimpleDict()\n",
    "simple_dict['name'] = 'Boris'\n",
    "print(simple_dict['name'])  \n",
    "print(simple_dict['age'])  \n"
   ]
  },
  {
   "cell_type": "markdown",
   "metadata": {},
   "source": [
    "- У прикладі, SimpleDict використовує внутрішній приватний словник `__data` для зберігання своїх елементів. \n",
    "- Метод `__getitem__` дозволяє отримати значення за ключем, \n",
    "-  `__setitem__` – встановити нове значення для ключа."
   ]
  },
  {
   "cell_type": "markdown",
   "metadata": {},
   "source": [
    "Уявімо, що нам потрібно створити структуру даних:\n",
    "-  яка схожа на список, \n",
    "- але з обмеженням: елементи списку повинні завжди залишатися в певному діапазоні значень. \n",
    "\n",
    "*Наприклад, ми працюємо над програмою для керування температурою в приміщенні, де значення температури повинні бути обмежені мінімальним та максимальним порогом.*"
   ]
  },
  {
   "cell_type": "code",
   "execution_count": 15,
   "metadata": {},
   "outputs": [
    {
     "name": "stdout",
     "output_type": "stream",
     "text": [
      "Value 27 must be between 18 and 26\n",
      "[20, 22, 25]\n"
     ]
    }
   ],
   "source": [
    "class BoundedList:\n",
    "    def __init__(self, min_value: int, max_value: int):\n",
    "        self.min_value = min_value\n",
    "        self.max_value = max_value\n",
    "        self.__data = []\n",
    "\n",
    "    def __getitem__(self, index: int):\n",
    "        return self.__data[index]\n",
    "\n",
    "    def __setitem__(self, index: int, value: int):\n",
    "        if not (self.min_value <= value <= self.max_value):\n",
    "            raise ValueError(f\"Value {value} must be between {self.min_value} and {self.max_value}\")\n",
    "        if index >= len(self.__data):\n",
    "            # Додати новий елемент, якщо індекс виходить за межі\n",
    "            self.__data.append(value)\n",
    "        else:\n",
    "            # Замінити існуючий елемент\n",
    "            self.__data[index] = value\n",
    "\n",
    "    def __repr__(self):\n",
    "        return f\"BoundedList({self.max_value}, {self.min_value})\"\n",
    "\n",
    "    def __str__(self):\n",
    "        return str(self.__data)\n",
    "\n",
    "if __name__ == '__main__':\n",
    "    temperatures = BoundedList(18, 26)\n",
    "\n",
    "    for i, el in enumerate([20, 22, 25, 27]):\n",
    "        try:\n",
    "            temperatures[i] = el\n",
    "        except ValueError as e:\n",
    "            print(e)\n",
    "\n",
    "    print(temperatures)\n"
   ]
  },
  {
   "cell_type": "markdown",
   "metadata": {},
   "source": [
    "Ми можемо об'єднати нашу реалізацію з можливостями класу `UserList`. \n",
    "\n",
    "Успадкувавшись від `UserList`, ми отримуємо всі можливості звичайного списку, але з можливістю модифікації поведінки за допомогою перевизначення методів або додавання нових."
   ]
  },
  {
   "cell_type": "code",
   "execution_count": 16,
   "metadata": {},
   "outputs": [
    {
     "name": "stdout",
     "output_type": "stream",
     "text": [
      "[19, 21, 22]\n",
      "Item 27 must be between 18 and 26\n",
      "[19, 21, 22, 20, 22, 25]\n"
     ]
    }
   ],
   "source": [
    "from collections import UserList\n",
    "\n",
    "class BoundedList(UserList):\n",
    "    def __init__(self, min_value: int, max_value: int, initial_list=None):\n",
    "        super().__init__(initial_list if initial_list is not None else [])\n",
    "        self.min_value = min_value\n",
    "        self.max_value = max_value\n",
    "        self.__validate_list()\n",
    "\n",
    "    def __validate_list(self):\n",
    "        for item in self.data:\n",
    "            self.__validate_item(item)\n",
    "\n",
    "    def __validate_item(self, item):\n",
    "        if not (self.min_value <= item <= self.max_value):\n",
    "            raise ValueError(f\"Item {item} must be between {self.min_value} and {self.max_value}\")\n",
    "\n",
    "    def append(self, item):\n",
    "        self.__validate_item(item)\n",
    "        super().append(item)\n",
    "\n",
    "    def insert(self, i, item):\n",
    "        self.__validate_item(item)\n",
    "        super().insert(i, item)\n",
    "\n",
    "    def __setitem__(self, i, item):\n",
    "        self.__validate_item(item)\n",
    "        super().__setitem__(i, item)\n",
    "\n",
    "    def __repr__(self):\n",
    "        return f\"BoundedList({self.max_value}, {self.min_value})\"\n",
    "\n",
    "    def __str__(self):\n",
    "        return str(self.data)\n",
    "\n",
    "if __name__ == '__main__':\n",
    "    temperatures = BoundedList(18, 26, [19, 21, 22])\n",
    "    print(temperatures)\n",
    "\n",
    "    for el in [20, 22, 25, 27]:\n",
    "        try:\n",
    "            temperatures.append(el)\n",
    "        except ValueError as e:\n",
    "            print(e)\n",
    "\n",
    "    print(temperatures)\n"
   ]
  },
  {
   "cell_type": "markdown",
   "metadata": {},
   "source": [
    "Зверніть увагу, що **ми не виконали реалізацію метода** `__getitem__`. \n",
    "\n",
    "Бо коли ми успадкувались від UserList, **ми отримали всю функціональність стандартного списку Python**, але з можливістю перевизначення або додавання методів для налаштування поведінки. \n",
    "\n",
    "Таким чином, `__getitem__` та **інші методи доступу до елементів** вже є частиною UserList, і вони працюватимуть як очікується, якщо тільки ми не вирішимо їх перевизначити для зміни поведінки."
   ]
  },
  {
   "cell_type": "code",
   "execution_count": null,
   "metadata": {},
   "outputs": [],
   "source": [
    "def __getitem__(self, index):\n",
    "        # Додати спеціальну логіку тут, наприклад, логування або перевірку\n",
    "        print(f\"Accessing item at index {index}\")\n",
    "        # Викликати оригінальний метод __getitem__\n",
    "        return super().__getitem__(index)  \n"
   ]
  },
  {
   "cell_type": "markdown",
   "metadata": {},
   "source": [
    "## Перевизначення математичних операторів\n",
    "\n",
    "Перевизначення математичних операторів в Python **___дозволяє класам змінювати стандартну поведінку арифметичних операці___**. \n",
    "\n",
    "Це відомо як [перевантаження операторів](https://uk.wikipedia.org/wiki/Перевантаження_операторів). \n",
    "Використовуючи спеціальні методи, ви можете визначити або перевизначити поведінку операторів, таких як +, -, *, /, і багатьох інших для об'єктів ваших класів."
   ]
  },
  {
   "cell_type": "markdown",
   "metadata": {},
   "source": [
    "Ось деякі з найпоширеніших спеціальних методів для перевизначення математичних операторів:\n",
    "\n",
    "- `__add__`(self, other) для оператора +\n",
    "- `__sub__`(self, other) для оператора -\n",
    "- `__mul__`(self, other) для оператора *\n",
    "- `__truediv__`(self, other) для оператора /\n",
    "- `__floordiv__`(self, other) для оператора цілочисельного ділення //\n",
    "- `__mod__`(self, other) для оператора залишку від ділення %\n",
    "- `__pow__`(self, other) для оператора * піднесення до степеня\n",
    "\n",
    "Перевизначення математичних операторів може стати зручним інструментом. \n",
    "\n",
    "Наприклад, створимо клас словників, які підтримують операції додавання та віднімання:"
   ]
  },
  {
   "cell_type": "code",
   "execution_count": 17,
   "metadata": {},
   "outputs": [
    {
     "name": "stdout",
     "output_type": "stream",
     "text": [
      "{1: 'a', 2: 'b', 3: 'c', 4: 'd'}\n",
      "{1: 'a', 2: 'b'}\n"
     ]
    }
   ],
   "source": [
    "from collections import UserDict\n",
    "\n",
    "class MyDict(UserDict):\n",
    "    def __add__(self, other):\n",
    "        temp_dict = self.data.copy()\n",
    "        temp_dict.update(other)\n",
    "        return MyDict(temp_dict)\n",
    "\n",
    "    def __sub__(self, other):\n",
    "        temp_dict = self.data.copy()\n",
    "        for key in other:\n",
    "            if key in temp_dict:\n",
    "                temp_dict.pop(key)\n",
    "        return MyDict(temp_dict)\n",
    "\n",
    "if __name__ == '__main__':\n",
    "    d1 = MyDict({1: 'a', 2: 'b'})\n",
    "    d2 = MyDict({3: 'c', 4: 'd'})\n",
    "\n",
    "    d3 = d1 + d2\n",
    "    print(d3)\n",
    "\n",
    "    d4 = d3 - d2\n",
    "    print(d4)\n"
   ]
  },
  {
   "cell_type": "markdown",
   "metadata": {},
   "source": [
    "- Метод `__add__` визначає поведінку для оператора +. \n",
    "   - Він дозволяє об'єднувати два об'єкти класу MyDict, додаючи всі елементи з другого словника `other` до першого (`self`). - Спочатку створюється копія внутрішнього словника `self.data`, щоб уникнути зміни оригінального словника. \n",
    "   - До тимчасового словника додаються всі елементи з другого словника. \n",
    "   - Якщо ключі вже існують, їх значення будуть оновлені на значення з other. \n",
    "   - Магічний метод повертає новий екземпляр `MyDict`, ініціалізований з об'єднаного словника.\n",
    "\n",
    "- Метод `__sub__` визначає поведінку для оператора -. \n",
    "   - Він дозволяє **видаляти** ключі з першого словника `self`, які присутні в другому `other`. \n",
    "   - Аналогічно методу `__add__`, спочатку створюється копія внутрішнього словника `temp_dict`. \n",
    "   - Далі цикл `for` перебирає всі ключі в другому словнику `other`. \n",
    "   - Умова `if key in temp_dict` перевіряє, чи присутній ключ у словнику `temp_dict`. \n",
    "   - Якщо так то видаляємо ключ і його значення з тимчасового словника, якщо такий ключ існує. \n",
    "   - Повертаємо новий екземпляр `MyDict`, ініціалізований після видалення ключів."
   ]
  },
  {
   "cell_type": "markdown",
   "metadata": {},
   "source": [
    "Розглянемо ще один приклад та створимо клас `ComplexNumber` для представлення комплексних чисел, з перевизначенням деяких арифметичних операторів:"
   ]
  },
  {
   "cell_type": "code",
   "execution_count": 18,
   "metadata": {},
   "outputs": [
    {
     "name": "stdout",
     "output_type": "stream",
     "text": [
      "Сума: 4 + 6i\n",
      "Різниця: -2 + -2i\n",
      "Добуток: -5 + 10i\n"
     ]
    }
   ],
   "source": [
    "class ComplexNumber:\n",
    "    def __init__(self, real, imag):\n",
    "        self.real = real\n",
    "        self.imag = imag\n",
    "\n",
    "    def __add__(self, other):\n",
    "        return ComplexNumber(self.real + other.real, self.imag + other.imag)\n",
    "\n",
    "    def __sub__(self, other):\n",
    "        return ComplexNumber(self.real - other.real, self.imag - other.imag)\n",
    "\n",
    "    def __mul__(self, other):\n",
    "        real_part = self.real * other.real - self.imag * other.imag\n",
    "        imag_part = self.real * other.imag + self.imag * other.real\n",
    "        return ComplexNumber(real_part, imag_part)\n",
    "\n",
    "    def __str__(self):\n",
    "        return f\"{self.real} + {self.imag}i\"\n",
    "\n",
    "if __name__ == \"__main__\":\n",
    "    num1 = ComplexNumber(1, 2)\n",
    "    num2 = ComplexNumber(3, 4)\n",
    "    print(f\"Сума: {num1 + num2}\")\n",
    "    print(f\"Різниця: {num1 - num2}\")\n",
    "    print(f\"Добуток: {num1 * num2}\")\n"
   ]
  },
  {
   "cell_type": "markdown",
   "metadata": {},
   "source": [
    "Перевизначення математичних операторів надає значні можливості для створення виразних і потужних абстракцій, що здатні імітувати поведінку вбудованих типів Python або створювати нові способи взаємодії з об'єктами ваших класів. \n",
    "\n",
    "Для прикладу реалізуємо векторне множення, де результатом є скалярний добуток векторів."
   ]
  },
  {
   "cell_type": "code",
   "execution_count": 19,
   "metadata": {},
   "outputs": [
    {
     "name": "stdout",
     "output_type": "stream",
     "text": [
      "26\n",
      "14\n",
      "12\n"
     ]
    }
   ],
   "source": [
    "from collections import UserList\n",
    "\n",
    "class MulArray(UserList):\n",
    "    def __init__(self, *args):\n",
    "        self.data = list(args)\n",
    "\n",
    "    def __mul__(self, other):\n",
    "        return self.__scalar_mul(other)\n",
    "    \n",
    "    def __rmul__(self, other):\n",
    "        return self.__scalar_mul(other) \n",
    "    \n",
    "    def __scalar_mul(self, other):\n",
    "        result = 0\n",
    "        for i in range(min(len(self.data), len(other))):\n",
    "            result += self.data[i] * other[i]\n",
    "        return result\n",
    "\n",
    "if __name__ == '__main__':\n",
    "    vec1 = MulArray(1, 2, 3)\n",
    "    vec2 = MulArray(3, 4, 5)\n",
    "\n",
    "    print(vec1 * vec2)\n",
    "    print(vec1 * [1, 2, 3])\n",
    "    print([1, 1, 1] * vec2)\n"
   ]
  },
  {
   "cell_type": "markdown",
   "metadata": {},
   "source": [
    "Магічний метод `__mul__` визначає поведінку операції множення * між екземпляром `MulArray` і **іншим об'єктом**. \n",
    "\n",
    "- Він виконує скалярний добуток між `self.data` і **другим списком**, обмежуючи множення мінімальною довжиною обох списків. \n",
    "- Результатом є **сума добутків відповідних елементів списків**. \n",
    "- Тут в нас з'явився новий магічний метод `__rmul__` який визначає поведінку операції множення, коли екземпляр `MulArray` знаходиться **справа** від оператора множення. \n",
    "- Це забезпечує комутативність операції множення, дозволяючи виконувати множення з обох боків. \n",
    "- Він необхідний, щоб ми могли виконати операцію `[1, 1, 1] * vec2`, коли екземпляр `MulArray` знаходиться справа від оператора множення. \n",
    "- Реалізація ідентична до `__mul__`, тому результат буде таким же."
   ]
  },
  {
   "cell_type": "markdown",
   "metadata": {},
   "source": [
    "## Перевизначення операцій порівняння\n",
    "\n",
    "Перевизначення операцій порівняння в Python дозволяє об'єктам ваших класів взаємодіяти з операторами порівняння (<, <=, >, >=, ==, !=), щоб вказати, **як саме об'єкти повинні бути порівнювані між собою**. \n",
    "\n",
    "Це досягається за допомогою реалізації спеціальних методів у вашому класі."
   ]
  },
  {
   "cell_type": "markdown",
   "metadata": {},
   "source": [
    "Тому операції порівняння, як і інші оператори, мають свої \"магічні\" методи:\n",
    "\n",
    "- `__eq__(self, other)` — визначає поведінку під час перевірки на відповідність (==).\n",
    "- `__ne__(self, other)` — визначає поведінку під час перевірки на невідповідність. !=.\n",
    "- `__lt__(self, other)` — визначає поведінку під час перевірки на менше <.\n",
    "- `__gt__(self, other)` — визначає поведінку під час перевірки на більше >.\n",
    "- `__le__(self, other)` — визначає поведінку під час перевірки на менше-дорівнює <=.\n",
    "- `__ge__(self, other)` — визначає поведінку під час перевірки на більше-дорівнює >=."
   ]
  },
  {
   "cell_type": "markdown",
   "metadata": {},
   "source": [
    "Розглянемо клас `Rectangle`, який представляє прямокутник з двома властивостями: шириною `width` і висотою `height`. Ми хочемо порівнювати прямокутники на основі розміру їх площі."
   ]
  },
  {
   "cell_type": "code",
   "execution_count": 24,
   "metadata": {},
   "outputs": [
    {
     "name": "stdout",
     "output_type": "stream",
     "text": [
      "Площа прямокутників: 50, 60, 50\n",
      "False\n",
      "True\n",
      "True\n",
      "False\n",
      "True\n",
      "True\n",
      "False\n",
      "True\n"
     ]
    },
    {
     "ename": "TypeError",
     "evalue": "'>' not supported between instances of 'Rectangle' and 'int'",
     "output_type": "error",
     "traceback": [
      "\u001b[0;31m---------------------------------------------------------------------------\u001b[0m",
      "\u001b[0;31mTypeError\u001b[0m                                 Traceback (most recent call last)",
      "Cell \u001b[0;32mIn[24], line 46\u001b[0m\n\u001b[1;32m     44\u001b[0m \u001b[38;5;28mprint\u001b[39m(rect1 \u001b[38;5;241m>\u001b[39m rect2)  \u001b[38;5;66;03m# False: площа rect1 менша, ніж у rect2\u001b[39;00m\n\u001b[1;32m     45\u001b[0m \u001b[38;5;28mprint\u001b[39m(rect1 \u001b[38;5;241m>\u001b[39m\u001b[38;5;241m=\u001b[39m rect3)  \u001b[38;5;66;03m# True: площі рівні, тому rect1 >= rect3\u001b[39;00m\n\u001b[0;32m---> 46\u001b[0m \u001b[38;5;28mprint\u001b[39m(\u001b[43mrect1\u001b[49m\u001b[43m \u001b[49m\u001b[38;5;241;43m>\u001b[39;49m\u001b[43m \u001b[49m\u001b[38;5;241;43m10\u001b[39;49m)\n",
      "\u001b[0;31mTypeError\u001b[0m: '>' not supported between instances of 'Rectangle' and 'int'"
     ]
    }
   ],
   "source": [
    "class Rectangle:\n",
    "    def __init__(self, width, height):\n",
    "        self.width = width\n",
    "        self.height = height\n",
    "\n",
    "    def area(self):\n",
    "        return self.width * self.height\n",
    "\n",
    "    def __eq__(self, other):\n",
    "        if not isinstance(other, Rectangle):\n",
    "            return NotImplemented\n",
    "        return self.area() == other.area()\n",
    "\n",
    "    def __ne__(self, other):\n",
    "        return not self.__eq__(other)\n",
    "\n",
    "    def __lt__(self, other):\n",
    "        if not isinstance(other, Rectangle):\n",
    "            return NotImplemented\n",
    "        return self.area() < other.area()\n",
    "\n",
    "    def __le__(self, other):\n",
    "        return self.__lt__(other) or self.__eq__(other)\n",
    "\n",
    "    def __gt__(self, other):\n",
    "        if not isinstance(other, Rectangle):\n",
    "            return NotImplemented\n",
    "        return self.area() > other.area()\n",
    "\n",
    "    def __ge__(self, other):\n",
    "        return self.__gt__(other) or self.__eq__(other)\n",
    "\n",
    "if __name__ == \"__main__\":\n",
    "    rect1 = Rectangle(5, 10)\n",
    "    rect2 = Rectangle(3, 20)\n",
    "    rect3 = Rectangle(5, 10)\n",
    "    print(f\"Площа прямокутників: {rect1.area()}, {rect2.area()}, {rect3.area()}\")\n",
    "    print(rect1 == rect2)\n",
    "    print(rect1 == rect3)  # True: площі рівні\n",
    "    print(rect1 != rect2)  # True: площі не рівні\n",
    "    print(rect1 != rect3)\n",
    "    print(rect1 < rect2)  # True: площа rect1  менша, ніж у rect2\n",
    "    print(rect1 <= rect3)  # True: площі рівні, тому rect1 <= rect3\n",
    "    print(rect1 > rect2)  # False: площа rect1 менша, ніж у rect2\n",
    "    print(rect1 >= rect3)  # True: площі рівні, тому rect1 >= rect3\n",
    "    print(rect1 > 10)\n"
   ]
  },
  {
   "cell_type": "markdown",
   "metadata": {},
   "source": [
    "- Використання `NotImplemented` в методах порівняння є прийнятою і рекомендованою практикою, коли ви стикаєтеся з ситуацією, де ваш метод не знає, як порівнювати об'єкт з іншим типом об'єкта. \n",
    "- Коли метод порівняння повертає `NotImplemented`, Python розуміє, що поточний метод не може виконати порівняння і спробує знайти інший спосіб порівняння, наприклад, викликавши відповідний метод у другого об'єкта або вдаючись до інших механізмів порівняння. \n",
    "- Якщо жоден метод не може порівняти об'єкти, тоді інтерпретатор викине виключення `TypeError`. \n",
    "     - Наприклад операція порівняння `rect1 > 10` призведе до TypeError: '>' not supported between instances of 'Rectangle' and 'int' ."
   ]
  },
  {
   "cell_type": "markdown",
   "metadata": {},
   "source": [
    "Реалізуємо клас `Point`, який представляє точку в двовимірному просторі з координатами `x` та `y`. \n",
    "\n",
    "Основна мета прикладу показати можливість порівнювати точки за їхніми координатами за допомогою стандартних операторів порівняння (==, !=, <, >, <=, >=).\n"
   ]
  },
  {
   "cell_type": "code",
   "execution_count": 25,
   "metadata": {},
   "outputs": [
    {
     "name": "stdout",
     "output_type": "stream",
     "text": [
      "True\n",
      "False\n",
      "False\n",
      "False\n",
      "True\n",
      "True\n"
     ]
    }
   ],
   "source": [
    "class Point:\n",
    "    def __init__(self, x, y):\n",
    "        self.x = x\n",
    "        self.y = y\n",
    "\n",
    "    def __eq__(self, other):\n",
    "        if not isinstance(other, Point):\n",
    "            return NotImplemented\n",
    "        return self.x == other.x and self.y == other.y\n",
    "\n",
    "    def __ne__(self, other):\n",
    "        return not self.__eq__(other)\n",
    "\n",
    "    def __lt__(self, other):\n",
    "        if not isinstance(other, Point):\n",
    "            return NotImplemented\n",
    "        return self.x < other.x and self.y < other.y\n",
    "\n",
    "    def __gt__(self, other):\n",
    "        if not isinstance(other, Point):\n",
    "            return NotImplemented\n",
    "        return self.x > other.x and self.y > other.y\n",
    "\n",
    "    def __le__(self, other):\n",
    "        if not isinstance(other, Point):\n",
    "            return NotImplemented\n",
    "        return self.x <= other.x and self.y <= other.y\n",
    "\n",
    "    def __ge__(self, other):\n",
    "        if not isinstance(other, Point):\n",
    "            return NotImplemented\n",
    "        return self.x >= other.x and self.y >= other.y\n",
    "\n",
    "if __name__ == \"__main__\":\n",
    "    print(Point(0, 0) == Point(0, 0))  # True\n",
    "    print(Point(0, 0) != Point(0, 0))  # False\n",
    "    print(Point(0, 0) < Point(1, 0))  # False\n",
    "    print(Point(0, 0) > Point(0, 1))  # False\n",
    "    print(Point(0, 2) >= Point(0, 1))  # True\n",
    "    print(Point(0, 0) <= Point(0, 0))  # True\n"
   ]
  },
  {
   "cell_type": "markdown",
   "metadata": {},
   "source": [
    "## Управління атрибутами та методами в класах\n",
    "\n",
    "### Гетери і сетери\n",
    "\n",
    "У мові програмування Python, поля - це змінні, які зберігають інформацію про стан об'єкта. \n",
    "\n",
    "Доступ до цих полів та їх модифікація зазвичай відбувається безпосередньо, але іноді необхідно контролювати цей процес, наприклад, для валідації даних або інкапсуляції. Для цього існують спеціальні методи які називають **гетерами та сетерами**. \n",
    "\n",
    "В Python застосовують декоратор `@property`, який дозволяє їх зручно створювати та використовувати.\n",
    "\n",
    "`Гетери` (від англ. get - отримувати) - це методи, які дозволяють **отримати значення поля**. \n",
    "- Вони використовуються, коли доступ до поля потребує якоїсь **додаткової обробки** або коли **безпосередній доступ до поля не бажаний** з міркувань інкапсуляції. \n",
    "- Наприклад, якщо потрібно **завжди повертати значення поля у вигляді рядка**, навіть якщо воно зберігається як число.\n",
    "\n",
    "`Сетери` (від англ. set - встановлювати) - це методи, які дозволяють **встановити значення поля**. \n",
    "- Вони найчастіше використовуються для **валідації даних**, які намагаються присвоїти полю. \n",
    "- Наприклад, якщо ми маємо поле, який повинно приймати значення лише додатні числа, можна в сетері додати перевірку, яка буде викидати виняток або повертати помилку, якщо намагатися присвоїти йому від'ємне число."
   ]
  },
  {
   "cell_type": "markdown",
   "metadata": {},
   "source": [
    "Вбудований декоратор `@property` в Python дозволяє легко створювати гетери. \n",
    "\n",
    "Використання цього декоратора **робить метод класу доступним як поле**, тобто ***його можна буде викликати без дужок***. \n",
    "\n",
    "Це робить інтерфейс класу більш чистим та інтуїтивно зрозумілим. Для **створення сетера для того ж поля, що і гетер**, використовується декоратор `@property.setter`, який застосовується до методу з тим же ім'ям, що і властивість."
   ]
  },
  {
   "cell_type": "markdown",
   "metadata": {},
   "source": [
    "Розглянемо приклад класу, який використовує @property для створення гетера та сетера для поля age. \n",
    "- Ми хочемо, щоб `age` завжди був додатнім числом. \n",
    "- Спочатку ми створимо метод `age` з декоратором `@property`, який буде виступати як `гетер` і **повертати значення атрибута** `__age` *(приватна версія age, що використовується внутрішньо класом для зберігання реального значення).* \n",
    "- Потім ми створимо метод `age` з декоратором `@property.setter`, який буде виступати як `сетер` і валідувати вхідне значення перед його присвоєнням `__age`. \n",
    "- Якщо значення не відповідає нашим критеріям (наприклад, якщо воно від'ємне), ми можемо викинути виняток або виконати інші дії для обробки помилки.\n",
    "\n",
    "Почнемо з оголошення класу `Person`, який має приватний атрибут `__age`. \n",
    "- Згадайте, що ми використовуємо підкреслення на початку імені атрибута, щоб позначити, що цей атрибут є внутрішнім і не повинен бути доступний для прямого доступу ззовні класу. Це стандартна практика для інкапсуляції, яка допомагає зберегти внутрішню реалізацію класу прихованою від користувача."
   ]
  },
  {
   "cell_type": "code",
   "execution_count": 26,
   "metadata": {},
   "outputs": [
    {
     "name": "stdout",
     "output_type": "stream",
     "text": [
      "10\n"
     ]
    },
    {
     "ename": "ValueError",
     "evalue": "Вік не може бути від'ємним",
     "output_type": "error",
     "traceback": [
      "\u001b[0;31m---------------------------------------------------------------------------\u001b[0m",
      "\u001b[0;31mValueError\u001b[0m                                Traceback (most recent call last)",
      "Cell \u001b[0;32mIn[26], line 20\u001b[0m\n\u001b[1;32m     18\u001b[0m person \u001b[38;5;241m=\u001b[39m Person(\u001b[38;5;241m10\u001b[39m)\n\u001b[1;32m     19\u001b[0m \u001b[38;5;28mprint\u001b[39m(person\u001b[38;5;241m.\u001b[39mage)\n\u001b[0;32m---> 20\u001b[0m \u001b[43mperson\u001b[49m\u001b[38;5;241;43m.\u001b[39;49m\u001b[43mage\u001b[49m \u001b[38;5;241m=\u001b[39m \u001b[38;5;241m-\u001b[39m\u001b[38;5;241m5\u001b[39m\n",
      "Cell \u001b[0;32mIn[26], line 13\u001b[0m, in \u001b[0;36mPerson.age\u001b[0;34m(self, value)\u001b[0m\n\u001b[1;32m      9\u001b[0m \u001b[38;5;129m@age\u001b[39m\u001b[38;5;241m.\u001b[39msetter\n\u001b[1;32m     10\u001b[0m \u001b[38;5;28;01mdef\u001b[39;00m \u001b[38;5;21mage\u001b[39m(\u001b[38;5;28mself\u001b[39m, value):\n\u001b[1;32m     11\u001b[0m     \u001b[38;5;28;01mif\u001b[39;00m value \u001b[38;5;241m<\u001b[39m \u001b[38;5;241m0\u001b[39m:\n\u001b[1;32m     12\u001b[0m         \u001b[38;5;66;03m# Валідація вхідного значення\u001b[39;00m\n\u001b[0;32m---> 13\u001b[0m         \u001b[38;5;28;01mraise\u001b[39;00m \u001b[38;5;167;01mValueError\u001b[39;00m(\u001b[38;5;124m\"\u001b[39m\u001b[38;5;124mВік не може бути від\u001b[39m\u001b[38;5;124m'\u001b[39m\u001b[38;5;124mємним\u001b[39m\u001b[38;5;124m\"\u001b[39m)  \n\u001b[1;32m     14\u001b[0m     \u001b[38;5;66;03m# Присвоєння валідного значення приватному полю\u001b[39;00m\n\u001b[1;32m     15\u001b[0m     \u001b[38;5;28mself\u001b[39m\u001b[38;5;241m.\u001b[39m__age \u001b[38;5;241m=\u001b[39m value\n",
      "\u001b[0;31mValueError\u001b[0m: Вік не може бути від'ємним"
     ]
    }
   ],
   "source": [
    "class Person:\n",
    "    def __init__(self, age):\n",
    "        self.__age = age  # Пряме присвоєння значення атрибуту в конструкторі\n",
    "\n",
    "    @property\n",
    "    def age(self):\n",
    "        return self.__age  # Геттер повертає значення приватного поля\n",
    "\n",
    "    @age.setter\n",
    "    def age(self, value):\n",
    "        if value < 0:\n",
    "            # Валідація вхідного значення\n",
    "            raise ValueError(\"Вік не може бути від'ємним\")  \n",
    "        # Присвоєння валідного значення приватному полю\n",
    "        self.__age = value  \n",
    "\n",
    "if __name__ == \"__main__\":\n",
    "    person = Person(10)\n",
    "    print(person.age)\n",
    "    person.age = -5\n"
   ]
  },
  {
   "cell_type": "markdown",
   "metadata": {},
   "source": [
    "Виглядає все досить просто але є одна проблема. Якщо ми виконаємо наступний код\n",
    "\n",
    "То ми не отримаємо ніякого сповіщення про помилку, а буде виведення:"
   ]
  },
  {
   "cell_type": "code",
   "execution_count": 27,
   "metadata": {},
   "outputs": [
    {
     "name": "stdout",
     "output_type": "stream",
     "text": [
      "-10\n"
     ]
    }
   ],
   "source": [
    "person = Person(-10)\n",
    "print(person.age)\n"
   ]
  },
  {
   "cell_type": "markdown",
   "metadata": {},
   "source": [
    "Виправимо цей недолік. \n",
    "Необхідно в конструкторі класу спочатку значення` __age` встановити в `None`, а потім встановити в передане значення `age` через `сетер`. \n",
    "Це дозволить нам одразу застосувати логіку валідації, визначену в сетері, при ініціалізації об'єкта."
   ]
  },
  {
   "cell_type": "code",
   "execution_count": 28,
   "metadata": {},
   "outputs": [
    {
     "ename": "ValueError",
     "evalue": "Вік не може бути від'ємним",
     "output_type": "error",
     "traceback": [
      "\u001b[0;31m---------------------------------------------------------------------------\u001b[0m",
      "\u001b[0;31mValueError\u001b[0m                                Traceback (most recent call last)",
      "Cell \u001b[0;32mIn[28], line 22\u001b[0m\n\u001b[1;32m     19\u001b[0m         \u001b[38;5;28mself\u001b[39m\u001b[38;5;241m.\u001b[39m__age \u001b[38;5;241m=\u001b[39m value\n\u001b[1;32m     21\u001b[0m \u001b[38;5;28;01mif\u001b[39;00m \u001b[38;5;18m__name__\u001b[39m \u001b[38;5;241m==\u001b[39m \u001b[38;5;124m\"\u001b[39m\u001b[38;5;124m__main__\u001b[39m\u001b[38;5;124m\"\u001b[39m:\n\u001b[0;32m---> 22\u001b[0m     person \u001b[38;5;241m=\u001b[39m \u001b[43mPerson\u001b[49m\u001b[43m(\u001b[49m\u001b[38;5;241;43m-\u001b[39;49m\u001b[38;5;241;43m10\u001b[39;49m\u001b[43m)\u001b[49m\n\u001b[1;32m     23\u001b[0m     \u001b[38;5;28mprint\u001b[39m(person\u001b[38;5;241m.\u001b[39mage)\n",
      "Cell \u001b[0;32mIn[28], line 6\u001b[0m, in \u001b[0;36mPerson.__init__\u001b[0;34m(self, age)\u001b[0m\n\u001b[1;32m      4\u001b[0m \u001b[38;5;28mself\u001b[39m\u001b[38;5;241m.\u001b[39m__age \u001b[38;5;241m=\u001b[39m \u001b[38;5;28;01mNone\u001b[39;00m\n\u001b[1;32m      5\u001b[0m \u001b[38;5;66;03m# Використовуємо сеттер для встановлення віку, що дозволяє валідацію вхідного значення\u001b[39;00m\n\u001b[0;32m----> 6\u001b[0m \u001b[38;5;28;43mself\u001b[39;49m\u001b[38;5;241;43m.\u001b[39;49m\u001b[43mage\u001b[49m \u001b[38;5;241m=\u001b[39m age\n",
      "Cell \u001b[0;32mIn[28], line 17\u001b[0m, in \u001b[0;36mPerson.age\u001b[0;34m(self, value)\u001b[0m\n\u001b[1;32m     13\u001b[0m \u001b[38;5;129m@age\u001b[39m\u001b[38;5;241m.\u001b[39msetter\n\u001b[1;32m     14\u001b[0m \u001b[38;5;28;01mdef\u001b[39;00m \u001b[38;5;21mage\u001b[39m(\u001b[38;5;28mself\u001b[39m, value):\n\u001b[1;32m     15\u001b[0m     \u001b[38;5;28;01mif\u001b[39;00m value \u001b[38;5;241m<\u001b[39m \u001b[38;5;241m0\u001b[39m:\n\u001b[1;32m     16\u001b[0m         \u001b[38;5;66;03m# Валідація вхідного значення\u001b[39;00m\n\u001b[0;32m---> 17\u001b[0m         \u001b[38;5;28;01mraise\u001b[39;00m \u001b[38;5;167;01mValueError\u001b[39;00m(\u001b[38;5;124m\"\u001b[39m\u001b[38;5;124mВік не може бути від\u001b[39m\u001b[38;5;124m'\u001b[39m\u001b[38;5;124mємним\u001b[39m\u001b[38;5;124m\"\u001b[39m)\n\u001b[1;32m     18\u001b[0m     \u001b[38;5;66;03m# Присвоєння валідного значення приватному полю\u001b[39;00m\n\u001b[1;32m     19\u001b[0m     \u001b[38;5;28mself\u001b[39m\u001b[38;5;241m.\u001b[39m__age \u001b[38;5;241m=\u001b[39m value\n",
      "\u001b[0;31mValueError\u001b[0m: Вік не може бути від'ємним"
     ]
    }
   ],
   "source": [
    "class Person:\n",
    "    def __init__(self, age):\n",
    "        # Спочатку встановлюємо __age як None\n",
    "        self.__age = None\n",
    "        # Використовуємо сеттер для встановлення віку, що дозволяє валідацію вхідного значення\n",
    "        self.age = age\n",
    "\n",
    "    @property\n",
    "    def age(self):\n",
    "        # Геттер повертає значення приватного поля\n",
    "        return self.__age\n",
    "\n",
    "    @age.setter\n",
    "    def age(self, value):\n",
    "        if value < 0:\n",
    "            # Валідація вхідного значення\n",
    "            raise ValueError(\"Вік не може бути від'ємним\")\n",
    "        # Присвоєння валідного значення приватному полю\n",
    "        self.__age = value\n",
    "\n",
    "if __name__ == \"__main__\":\n",
    "    person = Person(-10)\n",
    "    print(person.age)\n"
   ]
  },
  {
   "cell_type": "markdown",
   "metadata": {},
   "source": [
    "У цьому варіанті, коли ми створюємо екземпляр класу `Person`, \n",
    "- спочатку приватному полю `__age` присвоюється значення `None`. \n",
    "- Потім викликається сетер `age`, передаючи йому значення, передане у конструктор. \n",
    "- Це дозволяє нам використовувати логіку валідації, визначену в сетері, вже на етапі ініціалізації об'єкта, забезпечуючи, що некоректні дані не будуть призначені атрибуту `__age`."
   ]
  },
  {
   "cell_type": "markdown",
   "metadata": {},
   "source": [
    "Тепер, озброївшись цими знаннями, давайте перепишемо приклад інкапсуляції з минулого модуля, через сетери та гетери."
   ]
  },
  {
   "cell_type": "code",
   "execution_count": 29,
   "metadata": {},
   "outputs": [
    {
     "name": "stdout",
     "output_type": "stream",
     "text": [
      "False\n",
      "True\n"
     ]
    }
   ],
   "source": [
    "class Person:\n",
    "    def __init__(self, name: str, age: int, is_active: bool, is_admin: bool):\n",
    "        self.name = name\n",
    "        self.age = age\n",
    "        self._is_active = None\n",
    "        self.__is_admin = None\n",
    "        self._is_active = is_active\n",
    "        self.__is_admin = is_admin\n",
    "\n",
    "    @property\n",
    "    def is_active(self):\n",
    "        return self._is_active\n",
    "\n",
    "    @is_active.setter\n",
    "    def is_active(self, value: bool):\n",
    "        # Тут можна додати будь-яку логіку перевірки або обробки\n",
    "        self._is_active = value\n",
    "\n",
    "    @property\n",
    "    def is_admin(self):\n",
    "        return self.__is_admin\n",
    "\n",
    "    @is_admin.setter\n",
    "    def is_admin(self, value: bool):\n",
    "        # Тут можна додати будь-яку логіку перевірки або обробки\n",
    "        self.__is_admin = value\n",
    "\n",
    "    def greeting(self):\n",
    "        return f\"Hi {self.name}\"\n",
    "\n",
    "if __name__ == \"__main__\":\n",
    "    p = Person(\"Boris\", 34, True, False)\n",
    "    print(p.is_admin)  # Використовуємо геттер\n",
    "    p.is_admin = True  # Використовуємо сеттер\n",
    "    print(p.is_admin)\n"
   ]
  },
  {
   "cell_type": "markdown",
   "metadata": {},
   "source": [
    "# Функтори, Ітератори та Управління контекстом в Python\n"
   ]
  },
  {
   "cell_type": "markdown",
   "metadata": {},
   "source": [
    "## Функтори, магічний метод `__call__` \n",
    "\n",
    "**Функтори** в Python — це об'єкти класів, які можуть бути викликані як функції. \n",
    "\n",
    "Це досягається за допомогою реалізації спеціального магічного методу `__call__` для класу. \n",
    "\n",
    "Коли ви додаєте метод `__call__` до класу, екземпляри цього класу можуть бути викликані звичайні функції.\n",
    "\n",
    "☝ `Функтори — це об'єкти, які поводяться як функції у тому сенсі, що їх можна викликати та передавати їм аргументи.`"
   ]
  },
  {
   "cell_type": "markdown",
   "metadata": {},
   "source": [
    "Функтори можуть бути корисними з кількох причин:\n",
    "\n",
    "- Дозволяють об'єктам мати стан. Це означає, що функтор **може зберігати стан між викликами**.\n",
    "- Функтори дозволяють об'єкту мати **складну логіку виклику**, яка може залежати від внутрішнього стану функтора або інших факторів.\n",
    "- Вони можуть використовуватися для створення параметризованих, налаштовуваних або замкнутих функцій.\n",
    "\n",
    "Для прикладу реалізуємо метод `__call__` класу, роблячи його функтором:\n"
   ]
  },
  {
   "cell_type": "code",
   "execution_count": 30,
   "metadata": {},
   "outputs": [
    {
     "name": "stdout",
     "output_type": "stream",
     "text": [
      "10\n",
      "9\n"
     ]
    }
   ],
   "source": [
    "class Multiplier:\n",
    "    def __init__(self, factor):\n",
    "        self.factor = factor\n",
    "\n",
    "    def __call__(self, other):\n",
    "        return self.factor * other\n",
    "\n",
    "# Створення екземпляра функтора\n",
    "double = Multiplier(2)\n",
    "triple = Multiplier(3)\n",
    "\n",
    "# Виклик функтора\n",
    "print(double(5))  # Виведе: 10\n",
    "print(triple(3))  # Виведе: 9\n"
   ]
  },
  {
   "cell_type": "markdown",
   "metadata": {},
   "source": [
    "Розглянемо функтор зі станом. Він буде використовувати свій внутрішній стан для підрахунку кількості разів, коли його викликали.\n"
   ]
  },
  {
   "cell_type": "code",
   "execution_count": 31,
   "metadata": {},
   "outputs": [
    {
     "name": "stdout",
     "output_type": "stream",
     "text": [
      "Викликано 2 разів\n"
     ]
    }
   ],
   "source": [
    "class Counter:\n",
    "    def __init__(self):\n",
    "        self.count = 0\n",
    "\n",
    "    def __call__(self, *args, **kwargs):\n",
    "        self.count += 1\n",
    "\n",
    "counter = Counter()\n",
    "counter()\n",
    "counter()\n",
    "print(f\"Викликано {counter.count} разів\")\n"
   ]
  },
  {
   "cell_type": "markdown",
   "metadata": {},
   "source": [
    "Розглянемо функтор який **використовує внутрішній стан та додаткові параметри** для вирішення, яку дію виконати при виклику. \n",
    "\n",
    "Цей функтор приймає параметри при ініціалізації, які потім використовуються для налаштування його поведінки."
   ]
  },
  {
   "cell_type": "code",
   "execution_count": 32,
   "metadata": {},
   "outputs": [
    {
     "name": "stdout",
     "output_type": "stream",
     "text": [
      "8\n",
      "3\n"
     ]
    }
   ],
   "source": [
    "class SmartCalculator:\n",
    "    def __init__(self, operation='add'):\n",
    "        self.operation = operation\n",
    "\n",
    "    def __call__(self, a, b):\n",
    "        if self.operation == 'add':\n",
    "            return a + b\n",
    "        elif self.operation == 'subtract':\n",
    "            return a - b\n",
    "        else:\n",
    "            raise ValueError(\"Невідома операція\")\n",
    "\n",
    "add = SmartCalculator('add')\n",
    "print(add(5, 3))  # 8\n",
    "\n",
    "subtract = SmartCalculator('subtract')\n",
    "print(subtract(10, 7))  # 3\n"
   ]
  },
  {
   "cell_type": "markdown",
   "metadata": {},
   "source": [
    "## Створення об'єкта ітератора/генератора\n",
    "\n",
    "**Ітератор** в Python — це об'єкт, який дозволяє нам послідовно перебирати елементи будь-якого об'єкта ітерації (наприклад, списку, кортежу, словника) без потреби використання індексів. \n",
    "- Він реалізує методи `__iter__()` та `__next__()` та дозволяє перебирати елементи послідовності, не завантажуючи всю послідовність у пам'ять.\n",
    "\n",
    "**Генератор** - це спрощений спосіб створення ітераторів. \n",
    "- Функція стає генератором, коли містить вираз `yield`. Генератор автоматично реалізує методи `__iter__()` та` __next__()`."
   ]
  },
  {
   "cell_type": "markdown",
   "metadata": {},
   "source": [
    "- Метод `__iter__()` **повертає сам ітератор**, \n",
    "- а метод `__next__()` **повертає наступний елемент об'єкта ітерації**. \n",
    "- Коли елементи ітератора закінчуються, має бути викинуто виняток `StopIteration`, що сигналізує про **завершення ітераціЇ**.\n",
    "\n",
    "Оскільки ітератор дозволяє нам перебирати елементи контейнера за допомогою циклу `for-in`, то основна ідея полягає в тому, що **ітератор зберігає поточний стан перебору**, дозволяючи вам отримувати наступний елемент за допомогою методу `__next__()`.\n",
    "\n",
    "Коли ви використовуєте цикл `for-in` для перебору елементів контейнера, \n",
    "- Python автоматично викликає метод `__iter__()` контейнера, щоб отримати ітератор. \n",
    "- Потім, на кожній ітерації циклу, викликається метод `__next__()` ітератора для отримання наступного елемента, \n",
    "- поки не буде піднято виняток `StopIteration`, що означає завершення перебору.\n",
    "\n",
    "Створимо для демонстрації простий ітератор.\n"
   ]
  },
  {
   "cell_type": "markdown",
   "metadata": {},
   "source": [
    "Зверніть увагу, що метод `__next__` повинен викликати виняток `StopIteration`, щоб вказати, що ітерування завершено, інакше цикл `for` за таким об'єктом буде нескінченний.\n",
    "\n",
    "```\n",
    "if self.current == 0:\n",
    "    raise StopIteration\n",
    "```\n"
   ]
  },
  {
   "cell_type": "code",
   "execution_count": 1,
   "metadata": {},
   "outputs": [
    {
     "name": "stdout",
     "output_type": "stream",
     "text": [
      "4\n",
      "3\n",
      "2\n",
      "1\n",
      "0\n"
     ]
    }
   ],
   "source": [
    "class CountDown:\n",
    "    def __init__(self, start):\n",
    "        self.current = start\n",
    "\n",
    "    def __iter__(self):\n",
    "        return self\n",
    "\n",
    "    def __next__(self):\n",
    "        if self.current == 0:\n",
    "            raise StopIteration\n",
    "        self.current -= 1\n",
    "        return self.current\n",
    "\n",
    "if __name__ == '__main__':\n",
    "    counter = CountDown(5)\n",
    "    for count in counter:\n",
    "        print(count)\n"
   ]
  },
  {
   "cell_type": "markdown",
   "metadata": {},
   "source": [
    "Виконати перебір ітератора можна **тільки один раз**. \n",
    "\n",
    "У цьому сенсі ітератор являє собою **\"одноразовий\" об'єкт**. \n",
    "\n",
    "Якщо нам потрібно ще раз виконати перебір, то доведеться створювати новий ітератор.\n",
    "\n",
    "Але це можна реалізувати через генератор з яким ми вже мали справу. "
   ]
  },
  {
   "cell_type": "code",
   "execution_count": 4,
   "metadata": {},
   "outputs": [
    {
     "name": "stdout",
     "output_type": "stream",
     "text": [
      "4\n",
      "3\n",
      "2\n",
      "1\n",
      "0\n"
     ]
    }
   ],
   "source": [
    "def count_down(start):\n",
    "    current = start\n",
    "    current -= 1\n",
    "    while current >= 0:\n",
    "        yield current\n",
    "        current -= 1\n",
    "\n",
    "# Використання генератора\n",
    "for count in count_down(5):\n",
    "    print(count)\n"
   ]
  },
  {
   "cell_type": "markdown",
   "metadata": {},
   "source": [
    "Створимо клас `RandIterator`, який використовується для генерації обмеженої кількості випадкових чисел в заданому діапазоні. \n",
    "- Коли ми створимо екземпляр цього класу, ми вкажемо:\n",
    "     -  початкове та кінцеве значення діапазону `start` і `end` \n",
    "     - та кількість чисел `quantity`, які ми хочемо згенерувати.\n",
    "\n",
    "Реалізація:"
   ]
  },
  {
   "cell_type": "code",
   "execution_count": 7,
   "metadata": {},
   "outputs": [
    {
     "name": "stdout",
     "output_type": "stream",
     "text": [
      "5 5 16 10 1 "
     ]
    }
   ],
   "source": [
    "from random import randint\n",
    "\n",
    "class RandIterator:\n",
    "    def __init__(self, start, end, quantity):\n",
    "        self.start = start\n",
    "        self.end = end\n",
    "        self.quantity = quantity\n",
    "        self.count = 0\n",
    "\n",
    "    def __iter__(self):\n",
    "        return self\n",
    "\n",
    "    def __next__(self):\n",
    "        self.count += 1\n",
    "        if self.count > self.quantity:\n",
    "            raise StopIteration\n",
    "        else:\n",
    "            return randint(self.start, self.end)\n",
    "\n",
    "if __name__ == '__main__':\n",
    "    my_random_list = RandIterator(1, 20, 5)\n",
    "\n",
    "    for rn in my_random_list:\n",
    "        print(rn, end=\" \")\n"
   ]
  },
  {
   "cell_type": "markdown",
   "metadata": {},
   "source": [
    "Щоб перетворити ітератор на генератор, ми можемо використати функцію з ключовим словом `yield` замість класу з методами `__iter__()` та `__next__()`. \n",
    "\n",
    "Генератор автоматично веде облік свого стану в місці кожного виклику `yield` і відновлює виконання з цього місця при наступному виклику."
   ]
  },
  {
   "cell_type": "code",
   "execution_count": 10,
   "metadata": {},
   "outputs": [
    {
     "name": "stdout",
     "output_type": "stream",
     "text": [
      "16 16 1 13 18 "
     ]
    }
   ],
   "source": [
    "from random import randint\n",
    "\n",
    "def rand_generator(start, end, quantity):\n",
    "    count = 0\n",
    "    while count < quantity:\n",
    "        yield randint(start, end)\n",
    "        count += 1\n",
    "\n",
    "if __name__ == '__main__':\n",
    "    for rn in rand_generator(1, 20, 5):\n",
    "        print(rn, end=' ')\n"
   ]
  },
  {
   "cell_type": "markdown",
   "metadata": {},
   "source": [
    "**Ітератор** - це об'єкт, який дозволяє користувачу перебирати всі елементи контейнера без потреби знати внутрішню структуру контейнера. \n",
    "- Реалізується за допомогою методів `__iter__()` та `__next__()`. \n",
    "- Метод `__iter__()` повертає об'єкт ітератора, а метод `__next__()` автоматично викликається циклом `for` або функцією `next()` для отримання наступного елемента контейнера. \n",
    "- Щоб створити ітератор, потрібно визначити клас з цими двома методами.\n",
    "\n",
    "**Генератор** - це функція, яка дозволяє декларативно створювати ітератор за допомогою ключового слова `yield`. \n",
    "- Він автоматично реалізує методи `__iter__()` та `__next__()`, тому більше не потрібно їх явно визначати. \n",
    "- Створення генератора - це **просто написання функції**, яка використовує `yield` для повернення наступного значення.\n",
    "\n",
    "Генератори можуть бути більш ефективними за ітератори, коли мова йдеться про великі обсяги даних або складні обчислення, оскільки вони генерують значення \"на льоту\" і не зберігають усі значення в пам'яті. \n",
    "\n",
    "Вони особливо ефективні коли потрібно обробляти великі обсяги даних або виконувати складні обчислення з мінімальним навантаженням на пам'ять."
   ]
  },
  {
   "cell_type": "markdown",
   "metadata": {},
   "source": [
    "## Передача значень у генератор\n",
    "\n",
    "Метод `send()` використовується для взаємодії з генератором шляхом **надсилання значення у генератор**, яке потім може бути використане як результат виразу `yield`. \n",
    "\n",
    "Це дозволяє генератору не лише виробляти дані, але й обробляти зовнішні дані на кожній ітерації."
   ]
  },
  {
   "cell_type": "markdown",
   "metadata": {},
   "source": [
    "Метод `send()` використовується для передачі значення безпосередньо в генератор. \n",
    "\n",
    "начення, передане через `send()`, стає результатом виразу `yield`, де генератор був призупинений. \n",
    "\n",
    "Це дозволяє генераторам не тільки виробляти значення, але й приймати дані в будь-який момент їх виконання."
   ]
  },
  {
   "cell_type": "code",
   "execution_count": 11,
   "metadata": {},
   "outputs": [
    {
     "name": "stdout",
     "output_type": "stream",
     "text": [
      "Ready\n",
      "Received: Hello\n"
     ]
    }
   ],
   "source": [
    "def my_generator():\n",
    "    received = yield \"Ready\"  #  get the data through send()\n",
    "    yield f\"Received: {received}\"\n",
    "\n",
    "gen = my_generator()\n",
    "print(next(gen))  \n",
    "print(gen.send(\"Hello\"))  \n"
   ]
  },
  {
   "cell_type": "markdown",
   "metadata": {},
   "source": [
    "Коли генератору більше не потрібно виробляти значення, його можна закрити за допомогою методу `close()`. \n",
    "\n",
    "При цьому в генераторі викликається виключення `GeneratorExit`, яке можна перехопити для виконання якихось дій перед закриттям генератора.\n"
   ]
  },
  {
   "cell_type": "code",
   "execution_count": 12,
   "metadata": {},
   "outputs": [
    {
     "name": "stdout",
     "output_type": "stream",
     "text": [
      "Working\n",
      "Generator is being closed\n"
     ]
    }
   ],
   "source": [
    "def my_generator():\n",
    "    try:\n",
    "        yield \"Working\"\n",
    "    except GeneratorExit:\n",
    "        print(\"Generator is being closed\")\n",
    "\n",
    "gen = my_generator()\n",
    "print(next(gen))  # Отримуємо \"Working\"\n",
    "gen.close()  # Викликаємо закриття генератора\n"
   ]
  },
  {
   "cell_type": "markdown",
   "metadata": {},
   "source": [
    "Для прикладу створимо генератор,\n",
    "- який може приймати рядки тексту, \n",
    "- фільтрувати їх за певним критерієм (наприклад, повертати рядок, якщо він містить певне слово), \n",
    "- і повертати тільки ті рядки, які відповідають цьому критерію.\n",
    "\n",
    "Спочатку розглянемо простий приклад. \n",
    "Створимо генератор `square_numbers()` , \n",
    "- який буде приймати числа через метод `send()` \n",
    "- та виконувати обчислення, \n",
    "- візьмемо просту операцію піднесення до квадрату, та повертати результат через `yield`."
   ]
  },
  {
   "cell_type": "markdown",
   "metadata": {},
   "source": [
    "Ми створили генератор `square_numbers`, що приймає числа, підносить їх до квадрату, та повертає результат. \n",
    "\n",
    "В середині генератора ми використовуємо `yield` двічі. \n",
    "- Спочатку для отримання числа через `send()` - інструкція `number = yield`. \n",
    "- Потім для повернення обчисленого квадрату числа - інструкція `yield square`.\n",
    "\n",
    "**В коді після кожного виклику `send()`, що передає число, нам потрібно викликати `next(gen)` або знову `send()`, щоб продовжити виконання генератора до наступного `yield`**. Це як раз і дозволяє генератору приймати нове значення."
   ]
  },
  {
   "cell_type": "code",
   "execution_count": 13,
   "metadata": {},
   "outputs": [
    {
     "name": "stdout",
     "output_type": "stream",
     "text": [
      "Square of 10: 100\n",
      "Square of 5: 25\n",
      "Generator closed\n"
     ]
    }
   ],
   "source": [
    "def square_numbers():\n",
    "    try:\n",
    "        while True:  # Безкінечний цикл для прийому чисел\n",
    "            number = yield  # Отримання числа через send()\n",
    "            square = number ** 2  # Піднесення до квадрата\n",
    "            yield square  # Повернення результату\n",
    "    except GeneratorExit:\n",
    "        print(\"Generator closed\")\n",
    "\n",
    "# Створення і старт генератора\n",
    "gen = square_numbers()\n",
    "\n",
    "# Ініціалізація генератора\n",
    "next(gen)  # Або gen.send(None), щоб стартувати\n",
    "\n",
    "# Відправлення числа в генератор і отримання результату\n",
    "result = gen.send(10)  # Повинно повернути 100\n",
    "print(f\"Square of 10: {result}\")\n",
    "\n",
    "# Перехід до наступного очікування\n",
    "next(gen)\n",
    "\n",
    "# Відправлення іншого числа\n",
    "result = gen.send(5)  # Повинно повернути 25\n",
    "print(f\"Square of 5: {result}\")\n",
    "\n",
    "# Закриття генератора\n",
    "gen.close()\n"
   ]
  },
  {
   "cell_type": "markdown",
   "metadata": {},
   "source": [
    "Створимо генератор `filter_lines()`, \n",
    "- який чекатиме на вхідні рядки через метод `send()`. \n",
    "- Всередині генератора буде перевірка: \n",
    "     - якщо рядок містить певне слово, він буде повернутий через `yield`.\n",
    "\n",
    "     "
   ]
  },
  {
   "cell_type": "code",
   "execution_count": 14,
   "metadata": {},
   "outputs": [
    {
     "name": "stdout",
     "output_type": "stream",
     "text": [
      "Looking for hello\n",
      "Generator closed\n",
      "['Line accepted: hello world', 'Line accepted: another hello world line', 'Line accepted: hello again']\n"
     ]
    }
   ],
   "source": [
    "def filter_lines(keyword):\n",
    "    print(f\"Looking for {keyword}\")\n",
    "    try:\n",
    "        while True:  # Нескінченний цикл, де генератор чекає на вхідні дані\n",
    "            line = yield  # Отримання рядка через send()\n",
    "            if keyword in line:  # Перевірка на наявність ключового слова\n",
    "                yield f\"Line accepted: {line}\"\n",
    "            else:\n",
    "                yield None\n",
    "    except GeneratorExit:\n",
    "        print(\"Generator closed\")\n",
    "\n",
    "if __name__ == \"__main__\":\n",
    "    # Створення і старт генератора\n",
    "    gen = filter_lines(\"hello\")\n",
    "    next(gen)  # Потрібно для старту генератора\n",
    "    messages = [\"this is a test\", \"hello world\", \"another hello world line\", \"hello again\", \"goodbye\"]\n",
    "    hello_messages = []\n",
    "    # Відправлення даних у генератор\n",
    "    for message in messages:\n",
    "        result = gen.send(message)  # Відправляємо повідомлення в генератор\n",
    "        if result:  # Додаємо результат тільки якщо він не None\n",
    "            hello_messages.append(result)\n",
    "        next(gen)  # Продовжуємо до наступного yield: інструкція line = yield\n",
    "\n",
    "    # Закриття генератора\n",
    "    gen.close()\n",
    "    print(hello_messages)\n"
   ]
  },
  {
   "cell_type": "code",
   "execution_count": 17,
   "metadata": {},
   "outputs": [
    {
     "name": "stdout",
     "output_type": "stream",
     "text": [
      "['hello world', 'another hello world line', 'hello again']\n"
     ]
    }
   ],
   "source": [
    "\n",
    "def message_check(lines):\n",
    "    hello_messages = []\n",
    "        # Відправлення даних у генератор\n",
    "    for message in lines: \n",
    "        if \"hello\" in message:  # Додаємо результат тільки якщо він не None\n",
    "            hello_messages.append(message)\n",
    "    print(hello_messages)\n",
    "\n",
    "messages = [\"this is a test\", \"hello world\", \"another hello world line\", \"hello again\", \"goodbye\"]\n",
    "message_check(messages)"
   ]
  },
  {
   "cell_type": "markdown",
   "metadata": {},
   "source": [
    "#### GPT explanation\n",
    "\n",
    "Certainly! Generators in Python are functions that can produce a sequence of values over time, rather than all at once. They are particularly useful when working with large datasets or infinite sequences, as they allow you to iterate over the elements of a sequence one at a time, without loading the entire sequence into memory.\n",
    "\n",
    "Let's break down the purpose of using a generator in the provided example:\n",
    "\n",
    "1. **Lazy evaluation**: Generators provide lazy evaluation, meaning that they produce values only when requested. In the `filter_lines` generator, the `yield` statements allow it to pause execution and yield control back to the caller after processing each line. This enables the generator to handle an indefinite number of input lines without needing to store them all in memory at once.\n",
    "\n",
    "2. **Efficient memory usage**: Generators consume memory only as needed, which can be more memory-efficient compared to storing all elements of a sequence in memory simultaneously. This is especially beneficial when dealing with large datasets or infinite sequences.\n",
    "\n",
    "3. **Separation of concerns**: Generators allow you to separate the logic for generating values from the logic for consuming them. In the provided example, the `filter_lines` generator encapsulates the logic for filtering input lines based on a keyword, while the caller iterates over the generated results and processes them accordingly.\n",
    "\n",
    "4. **Reuse and composability**: Generators can be reused and composed with other generators or functions, providing flexibility and modularity in your code. You can create complex data processing pipelines by chaining multiple generators together.\n",
    "\n",
    "Now, let's compare the two approaches:\n",
    "\n",
    "- The first approach using the `filter_lines` generator allows for lazy evaluation and efficient memory usage, as it processes input lines one at a time and yields results as needed. It can handle large datasets or infinite sequences without consuming excessive memory.\n",
    "\n",
    "- The second approach using the `message_check` function processes all input lines at once and stores the filtered results in memory before printing them. While this approach may be simpler and more straightforward for small datasets, it may not scale well for large datasets due to potential memory constraints.\n",
    "\n",
    "In summary, the benefits of using generators in this case include lazy evaluation, efficient memory usage, separation of concerns, and composability, making them a powerful tool for data processing tasks, especially when dealing with large datasets or infinite sequences."
   ]
  },
  {
   "cell_type": "markdown",
   "metadata": {},
   "source": [
    "## Створення власних менеджерів контексту\n",
    "\n",
    "Створення власного менеджера контексту в Python - це **спосіб керування ресурсами**, такими як\n",
    "-  файли, \n",
    "- з'єднання з базою даних та інше, \n",
    "- забезпечуючи їх автоматичне відкриття та закриття. \n",
    "- Менеджер контексту гарантує, що ресурси будуть **коректно звільнені** після завершення блоку коду, навіть якщо в процесі виконання виникне виключення.\n",
    "\n",
    "Об'єкти контекстних менеджерів слугують для управління оператором `with ... as ...`: так само як ітератори управляють оператором циклу `for-in`."
   ]
  },
  {
   "cell_type": "markdown",
   "metadata": {},
   "source": [
    "Для створення власного менеджера контексту необхідно реалізувати клас з магічними методами `__enter__` та `__exit__`. \n",
    "- Метод `__enter__` \n",
    "     - викликається на початку блоку `with`, \n",
    "     - коли інтерпретатор заходить у контекст і \n",
    "     - те, що він поверне, буде записано в змінну після `as`. \n",
    "- Метод `__exit__` \n",
    "     - викликається після завершення виконання блоку `with`, \n",
    "     - незалежно від того, виникло виключення чи ні."
   ]
  },
  {
   "cell_type": "markdown",
   "metadata": {},
   "source": [
    "- На початку блоку `with` автоматично викликається метод `__enter__` нашого класу `MyContextManager`. \n",
    "- Метод друкує рядок тексту \"Enter the block\" і повертає `self`, який прив'язується до змінної `my_resource`. \n",
    "- Однак у даному контексті ми не використовуємо його.\n",
    "\n",
    "- Далі виконується код всередині блоку `with`. У нашому прикладі це виведення рядка \"Inside the block\" та генерація виключення за допомогою `raise Exception(\"Something went wrong\")`.\n",
    "\n",
    "- Після генерації виключення, або просто після завершення виконання коду, якщо виключення не було, автоматично викликається метод `__exit__`. \n",
    "     - Цей метод використовується для виконання необхідних дій по звільненню ресурсів або очищенню. \n",
    "     - Метод `__exit__` отримує інформацію про виключення, яке сталося всередині блоку `with`, через свої параметри `exc_type`, `exc_value` і `traceback`. \n",
    "     - У нашому випадку, оскільки виключення відбулося, `exc_type` не буде `None`, і метод `__exit__` друкує рядок \"Exit the block\" та \"Error detected: Something went wrong\".\n",
    "\n",
    "- Оскільки в методі `__exit__` ми повертаємо `False`, то виключення, яке було згенеровано всередині блоку `with`, **не придушується** і, як кажуть програмісти, **прокидається далі**. \n",
    "- Це означає, що після виходу з методу `__exit__`, **виключення буде оброблене інтерпретатором звичайним чином**, що і призводить до виведення його `Traceback` помилки в консолі. Отже як працює виконання контекстного менеджеру ми розібрали.\n"
   ]
  },
  {
   "cell_type": "code",
   "execution_count": 18,
   "metadata": {},
   "outputs": [
    {
     "name": "stdout",
     "output_type": "stream",
     "text": [
      "Enter the block\n",
      "Inside the block\n",
      "Exit the block\n",
      "Error detected: Something went wrong\n"
     ]
    },
    {
     "ename": "Exception",
     "evalue": "Something went wrong",
     "output_type": "error",
     "traceback": [
      "\u001b[0;31m---------------------------------------------------------------------------\u001b[0m",
      "\u001b[0;31mException\u001b[0m                                 Traceback (most recent call last)",
      "Cell \u001b[0;32mIn[18], line 18\u001b[0m\n\u001b[1;32m     16\u001b[0m \u001b[38;5;28;01mwith\u001b[39;00m MyContextManager() \u001b[38;5;28;01mas\u001b[39;00m my_resource:\n\u001b[1;32m     17\u001b[0m     \u001b[38;5;28mprint\u001b[39m(\u001b[38;5;124m\"\u001b[39m\u001b[38;5;124mInside the block\u001b[39m\u001b[38;5;124m\"\u001b[39m)\n\u001b[0;32m---> 18\u001b[0m     \u001b[38;5;28;01mraise\u001b[39;00m \u001b[38;5;167;01mException\u001b[39;00m(\u001b[38;5;124m\"\u001b[39m\u001b[38;5;124mSomething went wrong\u001b[39m\u001b[38;5;124m\"\u001b[39m)\n",
      "\u001b[0;31mException\u001b[0m: Something went wrong"
     ]
    }
   ],
   "source": [
    "class MyContextManager:\n",
    "    def __enter__(self):\n",
    "        # Ініціалізація ресурсу\n",
    "        print(\"Enter the block\")\n",
    "        return self  # Може повертати об'єкт\n",
    "\n",
    "    def __exit__(self, exc_type, exc_value, traceback):\n",
    "        # Звільнення ресурсу\n",
    "        print(\"Exit the block\")\n",
    "        if exc_type:\n",
    "            print(f\"Error detected: {exc_value}\")\n",
    "        # Повернення False передає виключення далі, True - поглинає виключення.\n",
    "        return False\n",
    "\n",
    "# Використання власного менеджера контексту\n",
    "with MyContextManager() as my_resource:\n",
    "    print(\"Inside the block\")\n",
    "    raise Exception(\"Something went wrong\")\n"
   ]
  },
  {
   "cell_type": "markdown",
   "metadata": {},
   "source": [
    "Тепер поглянемо уважно на синтаксис методу ґ. Він приймає три аргументи, які містять інформацію про будь-яке виключення, що виникло всередині блоку `with`.\n",
    "\n",
    "```\n",
    "def __exit__(self, exc_type, exc_val, exc_tb):\n",
    "    # Звільнення ресурсів\n",
    "    # exc_type: тип виключення\n",
    "    # exc_val: значення виключення\n",
    "    # exc_tb: трасування стека виключення\n",
    "    return False  # Якщо True, виключення буде придушено, інакше - прокинуто далі\n",
    "\n",
    "```\n",
    "\n",
    "- Якщо блок `with` завершився без помилки, то значення змінних `exc_type` , `exc_val` , `exc_tb` дорівнюють `None` . \n",
    "- Але якщо була помилка, як в нашому прикладі то параметр `exc_type` буде зберігати тип виключення `<class 'Exception'>, exc_val` значення виключення *\"Something went wrong\"* і `exc_tb` об'єкт трасування стека виключення `<traceback object at 0x0000018A15310A80>`. \n",
    "- Метод `__exit__` не повинен перехоплювати винятки, він потрібен лише для того, щоб **правильно завершити контекст** (закрити відкриті файли та з'єднання, повернути ресурси системі тощо).\n",
    "\n",
    "Як бачимо механізм створення досить важкий. Тому Python дозволяє створювати менеджери контексту за допомогою генераторів і декоратора `contextmanager` з модуля `contextlib`. Це спрощує створення менеджерів контексту, особливо коли вони використовуються для одноразових або простих задач."
   ]
  },
  {
   "cell_type": "code",
   "execution_count": null,
   "metadata": {},
   "outputs": [],
   "source": [
    "from contextlib import contextmanager\n",
    "\n",
    "@contextmanager\n",
    "def my_context_manager():\n",
    "    # Ініціалізація ресурсу\n",
    "    print(\"Enter the block\")\n",
    "    try:\n",
    "        yield  # Місце виконання блоку `with`\n",
    "    except Exception as e:\n",
    "        # Обробка виключень\n",
    "        print(f\"Error detected: {e}\")\n",
    "        # Можна ре-підняти виключення або вирішити його тут\n",
    "        raise\n",
    "    finally:\n",
    "        # Звільнення ресурсу\n",
    "        print(\"Exit the block\")\n",
    "\n",
    "# Використання\n",
    "with my_context_manager():\n",
    "    print(\"Inside the block\")\n",
    "    raise Exception(\"Something went wrong\")\n"
   ]
  },
  {
   "cell_type": "markdown",
   "metadata": {},
   "source": [
    "Декоратор `@contextmanager` використовується для перетворення функції `my_context_manager` в менеджер контексту. \n",
    "\n",
    "Це дозволяє використовувати функцію у конструкції `with ... as ...`, спрощуючи створення менеджерів контексту без необхідності визначати клас з методами `__enter__` та `__exit__`. Виведення цього коду повинно бути аналогічним.\n"
   ]
  },
  {
   "cell_type": "code",
   "execution_count": 21,
   "metadata": {},
   "outputs": [
    {
     "name": "stdout",
     "output_type": "stream",
     "text": [
      "Відкриваємо файл new_file.txt\n",
      "Завершення блоку with\n",
      "Закриваємо файл new_file.txt\n"
     ]
    }
   ],
   "source": [
    "class FileManager:\n",
    "    def __init__(self, filename, mode='w', encoding='utf-8'):\n",
    "        self.file = None\n",
    "        self.opened = False\n",
    "        self.filename = filename\n",
    "        self.mode = mode\n",
    "        self.encoding = encoding\n",
    "\n",
    "    def __enter__(self):\n",
    "        self.file = open(self.filename, self.mode, encoding=self.encoding)\n",
    "        self.opened = True\n",
    "        print(\"Відкриваємо файл\", self.filename)\n",
    "        return self.file\n",
    "\n",
    "    def __exit__(self, exc_type, exc_val, exc_tb):\n",
    "        print(\"Завершення блоку with\")\n",
    "        if self.opened:\n",
    "            print(\"Закриваємо файл\", self.filename)\n",
    "            self.file.close()\n",
    "        self.opened = False\n",
    "\n",
    "\n",
    "if __name__ == '__main__':\n",
    "    with FileManager('new_file.txt') as f:\n",
    "        f.write('Hello world!\\n')\n",
    "        f.write('The end\\n')\n"
   ]
  },
  {
   "cell_type": "markdown",
   "metadata": {},
   "source": [
    "- Конструктор класу FileMa`nager ініціалізує екземпляр класу з певним ім'ям файлу `filename`, режимом відкриття файлу `mode`, та кодуванням `encoding`. За замовчуванням, режим встановлено на  `'w'`(запис), а кодування на `'utf-8'` .\n",
    "\n",
    "- Метод `__enter__` виконується на початку блоку `with`. \n",
    "- Він відкриває файл з вказаними параметрами і зберігає відкритий файловий об'єкт у змінній `self.file`, а також встановлює прапорець `self.opened` в значення `True`. \n",
    "- Ми виводимо сповіщення, що файл відкритий та повертаємо файловий об'єкт, що дозволяє використовувати його в контексті `with`. \n",
    "- Фактично змінна `f` це `self.file` який повернув метод `- `.\n",
    "\n",
    "- Метод `__exit__` викликається при виході з блоку `with`, незалежно від того, виникла помилка чи ні при роботі з файлом. \n",
    "- Ми перевіряємо прапорець `self.opened` і якщо він `True` то необхідно **закрити файл**, а далі встановлюємо прапорець в `False`.\n",
    "\n",
    "Декоратор `@contextmanager` дозволяє нам створити контекстний менеджер за допомогою генератора, та спростити написання коду порівняно з класом `FileManager`, який використовує методи `__enter__` та `__exit__`."
   ]
  },
  {
   "cell_type": "code",
   "execution_count": 22,
   "metadata": {},
   "outputs": [
    {
     "name": "stdout",
     "output_type": "stream",
     "text": [
      "Відкриваємо файл new_file.txt\n",
      "Закриваємо файл new_file.txt\n",
      "Завершення блоку with\n"
     ]
    }
   ],
   "source": [
    "from contextlib import contextmanager\n",
    "\n",
    "\n",
    "@contextmanager\n",
    "def file_manager(filename, mode='w', encoding='utf-8'):\n",
    "    print(\"Відкриваємо файл\", filename)\n",
    "    file = open(filename, mode, encoding=encoding)\n",
    "    try:\n",
    "        yield file\n",
    "    finally:\n",
    "        print(\"Закриваємо файл\", filename)\n",
    "        file.close()\n",
    "        print(\"Завершення блоку with\")\n",
    "\n",
    "\n",
    "if __name__ == '__main__':\n",
    "    with file_manager('new_file.txt') as f:\n",
    "        f.write('Hello world!\\n')\n",
    "        f.write('The end\\n')"
   ]
  },
  {
   "cell_type": "markdown",
   "metadata": {},
   "source": [
    "Створимо контекстний менеджер, який буде управляти відкриттям та закриттям файлу з додатковим логуванням. \n",
    "\n",
    "Наш контекстний менеджер `managed_resource` буде вимірювати час виконання операцій з файлом та логувати дії відкриття і закриття файлу разом з тривалістю їх виконання."
   ]
  },
  {
   "cell_type": "code",
   "execution_count": 23,
   "metadata": {},
   "outputs": [
    {
     "name": "stdout",
     "output_type": "stream",
     "text": [
      "Hello world!\n",
      "The end\n",
      "\n",
      "1708491310.587436   | new_file.txt  | open \n",
      "1708491310.587436   | new_file.txt  | closed        0.008541s \n",
      "\n"
     ]
    }
   ],
   "source": [
    "from contextlib import contextmanager\n",
    "from datetime import datetime\n",
    "\n",
    "\n",
    "@contextmanager\n",
    "def managed_resource(*args, **kwargs):\n",
    "    log = ''\n",
    "    timestamp = datetime.now().timestamp()\n",
    "    msg = f'{timestamp:<20}|{args[0]:^15}| open \\n'\n",
    "    log += msg\n",
    "    file_handler = open(*args, **kwargs)\n",
    "    try:\n",
    "        yield file_handler\n",
    "    finally:\n",
    "        diff = datetime.now().timestamp() - timestamp\n",
    "        msg = f'{timestamp:<20}|{args[0]:^15}| closed {round(diff, 6):>15}s \\n'\n",
    "        log += msg\n",
    "        file_handler.close()\n",
    "        print(log)\n",
    "\n",
    "\n",
    "with managed_resource('new_file.txt', 'r') as f:\n",
    "    print(f.read())\n"
   ]
  },
  {
   "cell_type": "markdown",
   "metadata": {},
   "source": [
    "# autocheck\n",
    "\n",
    "In the Point class, two attributes are declared through the `__init__` constructor: `x` and `y` coordinates. You can hide access to them with a double underscore: `__x` and `__y`.\n",
    "\n",
    "Implement the setter and getter mechanisms for the Point class for the `__x` and `__y` attributes using the property and setter decorators.\n",
    "\n",
    "Example:\n",
    "\n",
    "```\n",
    "point = Point(5, 10)\n",
    "\n",
    "print(point.x)  # 5\n",
    "print(point.y)  # 10\n",
    "```"
   ]
  },
  {
   "cell_type": "code",
   "execution_count": 24,
   "metadata": {},
   "outputs": [
    {
     "name": "stdout",
     "output_type": "stream",
     "text": [
      "5\n",
      "10\n"
     ]
    }
   ],
   "source": [
    "class Point:\n",
    "    def __init__(self, x, y):\n",
    "        self.__x = x\n",
    "        self.__y = y\n",
    "\n",
    "    @property\n",
    "    def x(self):\n",
    "        return self.__x\n",
    "    \n",
    "    @x.setter\n",
    "    def x(self, value: int):\n",
    "        self.__x = value\n",
    "        \n",
    "    @property\n",
    "    def y(self):\n",
    "        return self.__y\n",
    "    \n",
    "    @y.setter\n",
    "    def y(self, value: int):\n",
    "        self.__y = value\n",
    "\n",
    "\n",
    "point = Point(5, 10)\n",
    "\n",
    "print(point.x)  # 5\n",
    "print(point.y)  # 10"
   ]
  },
  {
   "cell_type": "markdown",
   "metadata": {},
   "source": [
    "- У цьому прикладі, коли ми створюємо новий екземпляр класу `Person`, конструктор `__init__` приймає вік як аргумент і присвоює його приватному атрибуту `__age`. \n",
    "- `Гетер` для `age` просто повертає значення цього приватного атрибуту, дозволяючи зовнішньому коду отримувати вік особи без прямого доступу до внутрішньої реалізації.\n",
    "\n",
    "\n",
    "```@property\n",
    "def age(self):\n",
    "    return self.__age  # Геттер повертає значення приватного поля\n",
    "```\n",
    "\n",
    "- `Сетер` age виконує валідацію вхідного значення перед його присвоєнням приватному полю `__age`. \n",
    "- Якщо вказане значення є від'ємним, сетер генерує виняток `ValueError`, запобігаючи тим самим некоректному присвоєнню віку. \n",
    "- Це забезпечує, що об'єкт `Person` завжди має валідний вік.\n",
    "\n",
    "```@age.setter\n",
    "def age(self, value):\n",
    "    if value < 0:\n",
    "        # Валідація вхідного значення\n",
    "        raise ValueError(\"Вік не може бути від'ємним\")  \n",
    "    # Присвоєння валідного значення приватному полю\n",
    "    self.__age = value  \n",
    "```"
   ]
  },
  {
   "cell_type": "markdown",
   "metadata": {},
   "source": [
    "Consider the following situation. We have a Person class that has the name property.\n",
    "\n",
    "```\n",
    "class Person:\n",
    "    def __init__(self, name):\n",
    "        self.__name = name\n",
    "\n",
    "    @property\n",
    "    def name(self):\n",
    "        return self.__name\n",
    "\n",
    "    @name.setter\n",
    "    def name(self, name):\n",
    "        if (type(name) == str) and (len(name) > 0):\n",
    "            self.__name = name\n",
    "\n",
    "\n",
    "person = Person(123)\n",
    "print(person.name)  # 123\n",
    "```\n",
    "\n",
    "There may be an error in this code. In the setter, we check that the value is a string and expect only a string of non-zero length. However, when initializing the value in the constructor, when we assign self.__name=name, we actually ignore the setter and assign the value directly. This is what happened in our code — the __name property contains a numeric value.\n",
    "\n",
    "To prevent this, you need to rewrite the code as follows:\n",
    "\n",
    "```\n",
    "class Person:\n",
    "    def __init__(self, name):\n",
    "        self.__name = None\n",
    "        self.name = name\n",
    "\n",
    "    @property\n",
    "    def name(self):\n",
    "        return self.__name\n",
    "\n",
    "    @name.setter\n",
    "    def name(self, name):\n",
    "        if (type(name) == str) and (len(name) > 0):\n",
    "            self.__name = name\n",
    "\n",
    "\n",
    "person = Person(123)\n",
    "print(person.name)  # None\n",
    "```\n",
    "\n",
    "Now, in the constructor, we assign the value None to the __name field: self.__name=None.\n",
    "\n",
    "In the second line of the constructor, we call the setter with the self.name=name statement. In this case, the setter is executed and prevents us from assigning an invalid value of 123 to the __name field when creating an instance of the class person = Person(123).\n",
    "\n",
    "#### Task 3\n",
    "In the Point class, add a check for the entered value to the setter mechanism of the x and y properties. Allow the x and y properties to be set for an instance of the class only if they have a numeric value (int or float).\n"
   ]
  },
  {
   "cell_type": "code",
   "execution_count": 25,
   "metadata": {},
   "outputs": [
    {
     "name": "stdout",
     "output_type": "stream",
     "text": [
      "None\n",
      "10\n"
     ]
    }
   ],
   "source": [
    "class Point:\n",
    "    def __init__(self, x, y):\n",
    "        self.__x = None\n",
    "        self.__y = None\n",
    "        self.x = x\n",
    "        self.y = y\n",
    "\n",
    "    @property\n",
    "    def x(self):\n",
    "        return self.__x\n",
    "    \n",
    "    @x.setter\n",
    "    def x(self, value: int):\n",
    "        if (type(value) == int) or (type(value) == float):\n",
    "            self.__x = value\n",
    "        \n",
    "    @property\n",
    "    def y(self):\n",
    "        return self.__y\n",
    "    \n",
    "    @y.setter\n",
    "    def y(self, value: int):\n",
    "        if (type(value) == int) or (type(value) == float):\n",
    "            self.__y = value\n",
    "\n",
    "\n",
    "point = Point(\"a\", 10)\n",
    "\n",
    "print(point.x)  # None\n",
    "print(point.y)  # 10"
   ]
  },
  {
   "cell_type": "markdown",
   "metadata": {},
   "source": [
    "Square brackets allow you to refer to index sequence items or dictionary items by key. When you want to get a value using square brackets, the `__getitem__` method is called. \n",
    "\n",
    "To write a value with an index or key, call the `__setitem__` method.\n",
    "\n",
    "Both of these methods take the self as the first argument. \n",
    "- The `__getitem__` takes as its second argument the index or key by which to find the item, \n",
    "- and the `__setitem__` takes as its second argument the key/index, and as its third argument the value to be written by this key/index.\n",
    "\n",
    "```\n",
    "class ListedValuesDict:\n",
    "    def __init__(self):\n",
    "        self.data = {}\n",
    "\n",
    "    def __setitem__(self, key, value):\n",
    "        if key in self.data:\n",
    "            self.data[key].append(value)\n",
    "        else:\n",
    "            self.data[key] = [value]\n",
    "\n",
    "    def __getitem__(self, key):\n",
    "        result = str(self.data[key][0])\n",
    "        for value in self.data[key][1:]:\n",
    "            result += \", \" + str(value)\n",
    "        return result\n",
    "\n",
    "\n",
    "l_dict = ListedValuesDict()\n",
    "l_dict[1] = 'a'\n",
    "l_dict[1] = 'b'\n",
    "print(l_dict[1])  # a, b\n",
    "```\n",
    "\n",
    "In this example, we created a custom class that behaves like a dictionary. \n",
    "- A ListedValuesDict saves values to a list and saves this list as a key value. \n",
    "- The main difference from a dictionary is that the ListedValuesDict **does not allow you to overwrite values**. \n",
    "- It will always add a new value to the end of the list. \n",
    "- And when it receives a value, it returns a string composed of the values in the list."
   ]
  },
  {
   "cell_type": "markdown",
   "metadata": {},
   "source": [
    "### Task 4\n",
    "\n",
    "Implement the `Vector class`. \n",
    "- The coordinates property defines the coordinates of the vector and is an `instance` of the `Point class`. \n",
    "- As you know, a vector is a directed segment with a beginning and an end. \n",
    "     - The beginning will be at the point (0, 0), and the end of the vector will be set by the coordinates attribute.\n",
    "\n",
    "Implement the ability to access the coordinates of an instance of the Vector class through square brackets:\n",
    "\n",
    "```\n",
    "vector = Vector(Point(1, 10))\n",
    "\n",
    "print(vector.coordinates.x)  # 1\n",
    "print(vector.coordinates.y)  # 10\n",
    "\n",
    "vector[0] = 10  # Set the x coordinate of the vector to 10\n",
    "\n",
    "print(vector[0])  # 10\n",
    "print(vector[1])  # 10\n",
    "```\n",
    "- **To get a value** using the square brackets of the `print(vector[0])` object, you have to implement the `__getitem__` method of the Vector class.\n",
    "\n",
    "- **To store the value** of a vector's coordinates using an index, like `vector[0] = 10`, implement the method `__setitem__` in the Vector class.\n",
    "\n",
    "The x coordinate is accessed at index 0, and the y coordinate is accessed at index 1."
   ]
  },
  {
   "cell_type": "code",
   "execution_count": 33,
   "metadata": {},
   "outputs": [
    {
     "name": "stdout",
     "output_type": "stream",
     "text": [
      "1\n",
      "10\n",
      "10\n",
      "10\n"
     ]
    }
   ],
   "source": [
    "class Point:\n",
    "    def __init__(self, x, y):\n",
    "        self.__x = None\n",
    "        self.__y = None\n",
    "        self.x = x\n",
    "        self.y = y\n",
    "\n",
    "    @property\n",
    "    def x(self):\n",
    "        return self.__x\n",
    "\n",
    "    @x.setter\n",
    "    def x(self, x):\n",
    "        if (type(x) == int) or (type(x) == float):\n",
    "            self.__x = x\n",
    "\n",
    "    @property\n",
    "    def y(self):\n",
    "        return self.__y\n",
    "\n",
    "    @y.setter\n",
    "    def y(self, y):\n",
    "        if (type(y) == int) or (type(y) == float):\n",
    "            self.__y = y\n",
    "\n",
    "\n",
    "class Vector:\n",
    "    def __init__(self, coordinates: Point):\n",
    "        self.coordinates = coordinates\n",
    "\n",
    "    def __setitem__(self, index, value):\n",
    "        if index == 0:\n",
    "            self.coordinates.x = value\n",
    "        elif index == 1:\n",
    "            self.coordinates.y = value\n",
    "        else:\n",
    "            raise IndexError(\"The index is out of range\")\n",
    "        \n",
    "    def __getitem__(self, index):\n",
    "        if index == 0:      \n",
    "            return self.coordinates.x\n",
    "        elif index == 1:\n",
    "            return self.coordinates.y\n",
    "        else:\n",
    "            raise IndexError(\"The index is out of range\")\n",
    "        \n",
    "\n",
    "vector = Vector(Point(1, 10))\n",
    "\n",
    "print(vector.coordinates.x)  # 1\n",
    "print(vector.coordinates.y)  # 10\n",
    "\n",
    "vector[0] = 10  # Set the x coordinate of the vector to 10\n",
    "\n",
    "print(vector[0])  # 10\n",
    "print(vector[1])  # 10"
   ]
  }
 ],
 "metadata": {
  "kernelspec": {
   "display_name": "Python 3",
   "language": "python",
   "name": "python3"
  },
  "language_info": {
   "codemirror_mode": {
    "name": "ipython",
    "version": 3
   },
   "file_extension": ".py",
   "mimetype": "text/x-python",
   "name": "python",
   "nbconvert_exporter": "python",
   "pygments_lexer": "ipython3",
   "version": "3.11.4"
  }
 },
 "nbformat": 4,
 "nbformat_minor": 2
}
