{
 "cells": [
  {
   "cell_type": "code",
   "execution_count": null,
   "metadata": {},
   "outputs": [],
   "source": [
    "open(file, mode='r', buffering=-1, encoding=None, errors=None, newline=None, closefd=True, opener=None)"
   ]
  },
  {
   "cell_type": "markdown",
   "metadata": {},
   "source": [
    "## Параметри:\n",
    "\n",
    "- file - шлях до файлу у вигляді рядка. Це може бути повний шлях або шлях відносно поточного каталогу виконання.\n",
    "- mode (необов'язковий) - режим, в якому буде відкрито файл. Ось основні режими які ми будемо використовувати:\n",
    "    - 'r' - читання (за замовчуванням). Файл має існувати.\n",
    "    - 'w' - запис. Створює новий файл або перезаписує, що вже існує.\n",
    "    - 'a' - додавання. Дописує в кінець файлу, не перезаписуючи його.\n",
    "    - 'b' - бінарний режим (може бути використаний разом з іншими, наприклад 'rb' або 'wb').\n",
    "    - '+' - оновлення (читання та запис).\n",
    "- buffering (необов'язковий) - визначає буферизацію: 0 для вимкненої, 1 для включеної буферизації рядків, більше 1 для вказання розміру буфера у байтах.\n",
    "- encoding (необов'язковий) - ім'я кодування, яке буде використовуватися для кодування або декодування файлу.\n",
    "- errors (необов'язковий) - вказує, як обробляти помилки кодування.\n",
    "- newline (необов'язковий) - контролює, як обробляються нові рядки.\n",
    "- closefd (необов'язковий) - має бути True (за замовчуванням); якщо вказано False, файловий дескриптор не буде закритий.\n",
    "- opener (необов'язковий) - визначає спеціальну функцію для відкриття файлу.\n"
   ]
  },
  {
   "cell_type": "code",
   "execution_count": 1,
   "metadata": {},
   "outputs": [
    {
     "name": "stdout",
     "output_type": "stream",
     "text": [
      "6\n"
     ]
    }
   ],
   "source": [
    "fh = open('test.txt', 'w')\n",
    "symbols_written = fh.write('hello!')\n",
    "print(symbols_written) # 6\n",
    "fh.close()"
   ]
  },
  {
   "cell_type": "code",
   "execution_count": 5,
   "metadata": {},
   "outputs": [
    {
     "name": "stdout",
     "output_type": "stream",
     "text": [
      "el\n"
     ]
    }
   ],
   "source": [
    "fh = open('test.txt', 'w+')\n",
    "fh.write('hello!')\n",
    "fh.seek(1)\n",
    "\n",
    "first_two_symbols = fh.read(2)\n",
    "print(first_two_symbols)  # 'he'\n",
    "\n",
    "fh.close()"
   ]
  },
  {
   "cell_type": "code",
   "execution_count": 5,
   "metadata": {},
   "outputs": [
    {
     "name": "stdout",
     "output_type": "stream",
     "text": [
      "h\n",
      "e\n",
      "l\n",
      "l\n",
      "o\n",
      "!\n"
     ]
    }
   ],
   "source": [
    "fh = open('test.txt', 'r')\n",
    "while True:\n",
    "    symbol = fh.read(1)\n",
    "    if len(symbol) == 0:\n",
    "        break\n",
    "    print(symbol)\n",
    "\n",
    "fh.close()"
   ]
  },
  {
   "cell_type": "code",
   "execution_count": 6,
   "metadata": {},
   "outputs": [
    {
     "name": "stdout",
     "output_type": "stream",
     "text": [
      "first line\n",
      "\n",
      "second line\n",
      "\n",
      "third line\n"
     ]
    }
   ],
   "source": [
    "fh = open('test.txt', 'w')\n",
    "fh.write('first line\\nsecond line\\nthird line')\n",
    "fh.close()\n",
    "\n",
    "fh = open('test.txt', 'r')\n",
    "while True:\n",
    "    line = fh.readline()\n",
    "    if not line:\n",
    "        break\n",
    "    print(line)\n",
    "\n",
    "fh.close()"
   ]
  },
  {
   "cell_type": "code",
   "execution_count": 7,
   "metadata": {},
   "outputs": [
    {
     "name": "stdout",
     "output_type": "stream",
     "text": [
      "['first line\\n', 'second line\\n', 'third line']\n"
     ]
    }
   ],
   "source": [
    "fh = open('test.txt', 'r')\n",
    "lines = fh.readlines()\n",
    "print(lines)\n",
    "\n",
    "fh.close()"
   ]
  },
  {
   "cell_type": "code",
   "execution_count": 8,
   "metadata": {},
   "outputs": [
    {
     "name": "stdout",
     "output_type": "stream",
     "text": [
      "['first line', 'second line', 'third line']\n"
     ]
    }
   ],
   "source": [
    "fh = open(\"test.txt\", \"r\")\n",
    "lines = [el.strip() for el in fh.readlines()]\n",
    "print(lines)\n",
    "\n",
    "fh.close()"
   ]
  },
  {
   "cell_type": "code",
   "execution_count": 9,
   "metadata": {},
   "outputs": [
    {
     "name": "stdout",
     "output_type": "stream",
     "text": [
      "first line\n",
      "second line\n",
      "third line\n"
     ]
    }
   ],
   "source": [
    "fh = open('test.txt', 'r')\n",
    "while True:\n",
    "    line = fh.readline().strip()\n",
    "    if not line:\n",
    "        break\n",
    "    print(line)\n",
    "\n",
    "fh.close()"
   ]
  },
  {
   "cell_type": "code",
   "execution_count": 10,
   "metadata": {},
   "outputs": [
    {
     "name": "stdout",
     "output_type": "stream",
     "text": [
      "e\n"
     ]
    }
   ],
   "source": [
    "fh = open('test.txt', 'w+')\n",
    "fh.write('hello!')\n",
    "\n",
    "fh.seek(1)\n",
    "second = fh.read(1)\n",
    "print(second)  # 'e'\n",
    "\n",
    "fh.close()"
   ]
  },
  {
   "cell_type": "markdown",
   "metadata": {},
   "source": [
    "Щоб дізнатися положення курсора в цей момент, можна скористатися методом `tell`, він повертає позицію (номер) символу з початку файлу, де зараз знаходиться курсор."
   ]
  },
  {
   "cell_type": "code",
   "execution_count": 11,
   "metadata": {},
   "outputs": [
    {
     "name": "stdout",
     "output_type": "stream",
     "text": [
      "6\n",
      "1\n",
      "3\n"
     ]
    }
   ],
   "source": [
    "fh = open(\"test.txt\", \"w+\")\n",
    "fh.write(\"hello!\")\n",
    "\n",
    "position = fh.tell()\n",
    "print(position)  # 6\n",
    "\n",
    "fh.seek(1)\n",
    "position = fh.tell()\n",
    "print(position)  # 1\n",
    "\n",
    "fh.read(2)\n",
    "position = fh.tell()\n",
    "print(position)  # 3\n",
    "\n",
    "fh.close()"
   ]
  },
  {
   "cell_type": "code",
   "execution_count": 12,
   "metadata": {},
   "outputs": [
    {
     "name": "stdout",
     "output_type": "stream",
     "text": [
      "['first line', 'second line', 'third line']\n"
     ]
    }
   ],
   "source": [
    "with open(\"test.txt\", \"w\") as fh:\n",
    "    fh.write(\"first line\\nsecond line\\nthird line\")\n",
    "\n",
    "with open(\"test.txt\", \"r\") as fh:\n",
    "    lines = [el.strip() for el in fh.readlines()]\n",
    "\n",
    "print(lines)"
   ]
  },
  {
   "cell_type": "markdown",
   "metadata": {},
   "source": [
    "Якщо ж потрібно працювати **не з текстовими файлами**, то можна вказати режим відкриття файлів як b, скорочено від bytes. У такому режимі ви отримаєте файловий об'єкт для роботи з файлом в режимі байт-рядків.\n",
    "\n",
    "✂️ Цей код можна запустити! \n",
    "```\n",
    "with open('raw_data.bin', 'wb') as fh:\n",
    "    fh.write(b'Hello world!')\n",
    "```\n",
    "\n",
    "Щоб працювати з послідовністю байтів у Python є вбудовані типи даних байт-рядків\n",
    "\n",
    "- bytes - незмінний тип, що використовують для представлення байтів.\n",
    "- bytearray - змінний тип, що дозволяє модифікувати байти після їх створення.\n",
    "\n",
    "Застосування байтових даних досить поширене. Наприклад байтові рядки важливі для роботи з:\n",
    "-  мережевими протоколами (наприклад, TCP/IP), \n",
    "- послідовними портами, \n",
    "- telnet та іншими протоколами, де дані передаються як потік байтів.\n",
    "\n",
    "За своєю суттю **байт-рядки** або простіше **байти** — це звичайні рядки, але для запису одного символу використовується суворо один байт. Це відрізняється від звичайних рядків, де символи (особливо в Unicode) можуть займати більше одного байта.\n",
    "\n",
    "**Біт** (скорочено від \"binary digit\" або \"двійкова цифра\") є основною одиницею інформації в обчислювальній техніці та цифровій комунікації. Біт може мати одне з двох значень: 0 або 1. Ви можете думати про біт, як про відповідь на просте питання: \"так/ні\" або \"вимкнено/увімкнено\".\n",
    "\n",
    "**Байт** - це послідовність з 8 бітів, яка є стандартною одиницею вимірювання кількості інформації в комп'ютерах. Один байт може представляти 256 різних станів. Від 00000000 до 11111111 у двійковому форматі або від 0 до 255 десятеричному, що дозволяє кодувати широкий спектр інформації, наприклад, символи тексту, частини зображень або звуку."
   ]
  },
  {
   "cell_type": "code",
   "execution_count": 13,
   "metadata": {},
   "outputs": [
    {
     "name": "stdout",
     "output_type": "stream",
     "text": [
      "101\n"
     ]
    }
   ],
   "source": [
    "\n",
    "s = b'Hello!'\n",
    "print(s[1])  # Виведе: 101 (це ASCII-код символу 'e')"
   ]
  },
  {
   "cell_type": "markdown",
   "metadata": {},
   "source": [
    "ASCII (American Standard Code for Information Interchange - Американський стандартний код для обміну інформацією) - це символьна кодова таблиця, яка використовується для представлення тексту в комп'ютерах, комунікаційному обладнанні та інших пристроях, що працюють з текстом. Кожен символ у таблиці ASCII відповідає певному числу.\n",
    "\n",
    "Для перетворення рядка у байт-рядок можна скористатися методом рядків **encode**. Коли ви використовуєте **.encode()**, ви перетворюєте рядок у байтову послідовність. Метод .encode() важливий, оскільки він дозволяє стандартизувати рядок для операцій, які вимагають однакового представлення символів, незалежно від системи або платформи."
   ]
  },
  {
   "cell_type": "code",
   "execution_count": 14,
   "metadata": {},
   "outputs": [
    {
     "name": "stdout",
     "output_type": "stream",
     "text": [
      "b'some text'\n"
     ]
    }
   ],
   "source": [
    "byte_str = 'some text'.encode()\n",
    "print(byte_str)"
   ]
  },
  {
   "cell_type": "markdown",
   "metadata": {},
   "source": [
    "`str.encode(encoding=\"utf-8\", errors=\"strict\")`\n",
    "\n",
    "`encoding` - вказує метод кодування. По замовчуванню використовується 'utf-8', який підтримує велику кількість символів з різних мов.\n",
    "`errors` - вказує, як обробляти помилки кодування. Наприклад, 'strict' для викидання виключення у випадку помилки, 'ignore' для ігнорування помилок або 'replace' для заміни неможливих для кодування символів на певний замінник (?).\n",
    "\n",
    "Ви повинні зрозуміти, що метод `.encode()` є фундаментальним для роботи з текстовими даними в Python, оскільки він забезпечує зв'язок (місток) між текстом (рядками Unicode) та байтами, які можуть бути використані в бінарних операціях або в передачі даних по мережі."
   ]
  },
  {
   "cell_type": "markdown",
   "metadata": {},
   "source": [
    "## Перетворення чисел у байт-рядки\n",
    "\n",
    "У Python ви можете перетворювати числа у байт-рядки за допомогою вбудованої функції bytes. Це корисно для роботи з двійковими даними, особливо коли потрібно зберігати або передавати числові значення у форматі, оптимізованому для обробки на низькому рівні.\n",
    "\n",
    "В один байт поміщається число від 0 до 255 включно, відповідно можна перетворити послідовність чисел від 0 до 255 у байт-рядок за допомогою функції bytes:\n",
    "\n",
    "Для виведення байтів найзручніше скористатися шістнадцятковим записом, в якому для запису чисел від 0 до 255 достатньо двох символів. Саме такий запис використовує Python \"за замовчуванням\" для байтів.\n",
    "\n",
    "Тут використовується шістнадцятковий формат для зручного відображення байтів. Символ \\x є індикатором шістнадцяткового запису кожного байта.:"
   ]
  },
  {
   "cell_type": "code",
   "execution_count": 15,
   "metadata": {},
   "outputs": [
    {
     "name": "stdout",
     "output_type": "stream",
     "text": [
      "b'\\x00\\x80\\xff'\n"
     ]
    }
   ],
   "source": [
    "# Перетворення списку чисел у байт-рядок\n",
    "numbers = [0, 128, 255]\n",
    "byte_numbers = bytes(numbers)\n",
    "print(byte_numbers)  # Виведе байтове представлення чисел"
   ]
  },
  {
   "cell_type": "markdown",
   "metadata": {},
   "source": [
    "Щоб перевірити правильність представлення, можна скористатися вбудованою функцією hex, яка перетворить ціле число в рядок — представлення числа в шістнадцятковій формі:\n",
    "\n",
    "В такому вигляді перші два символи 0x вказують на шістнадцяткову форму запису .\n",
    "\n",
    "Такий механізм корисний у різноманітних сценаріях, включаючи низькорівневе програмування, роботу з мережевими протоколами та обробку бінарних файлів. Він дозволяє працювати з байтами більш інтуїтивно, надаючи змогу легко перевірити та візуалізувати бінарні дані."
   ]
  },
  {
   "cell_type": "code",
   "execution_count": 16,
   "metadata": {},
   "outputs": [
    {
     "name": "stdout",
     "output_type": "stream",
     "text": [
      "0x7f\n",
      "0xff\n",
      "0x9c\n"
     ]
    }
   ],
   "source": [
    "for num in [127, 255, 156]:\n",
    "  print(hex(num))"
   ]
  },
  {
   "cell_type": "markdown",
   "metadata": {},
   "source": [
    "Щоб дізнатися, якому елементу в UTF-8 відповідає символ, є функція ord (від order).\n",
    "\n",
    "Наприклад, символ 'a' кодується числом 97:\n",
    "\n",
    "`ord('a')  # 97`\n",
    "\n",
    "Зворотна операція, коли потрібно дізнатися, який символ закодований числом, наприклад 100, є функція chr (скорочено від character):\n",
    "\n",
    "`chr(128)  # 'd'`\n",
    "\n",
    "Python може працювати з дуже великою кількістю різних кодувань.\n"
   ]
  },
  {
   "cell_type": "code",
   "execution_count": 17,
   "metadata": {},
   "outputs": [
    {
     "name": "stdout",
     "output_type": "stream",
     "text": [
      "UTF-8: b'\\xd0\\x9f\\xd1\\x80\\xd0\\xb8\\xd0\\xb2\\xd1\\x96\\xd1\\x82!'\n",
      "UTF-16: b'\\xff\\xfe\\x1f\\x04@\\x048\\x042\\x04V\\x04B\\x04!\\x00'\n",
      "CP-1251: b'\\xcf\\xf0\\xe8\\xe2\\xb3\\xf2!'\n",
      "True\n"
     ]
    }
   ],
   "source": [
    "s = \"Привіт!\"\n",
    "\n",
    "utf8 = s.encode()\n",
    "print(f\"UTF-8: {utf8}\")\n",
    "\n",
    "utf16 = s.encode(\"utf-16\")\n",
    "print(f\"UTF-16: {utf16}\")\n",
    "\n",
    "cp1251 = s.encode(\"cp1251\")\n",
    "print(f\"CP-1251: {cp1251}\")\n",
    "\n",
    "s_from_utf16 = utf16.decode(\"utf-16\")\n",
    "print(s_from_utf16 == s)"
   ]
  },
  {
   "cell_type": "markdown",
   "metadata": {},
   "source": [
    "Щоб уникнути проблем з кодуванням, особливо при роботі з міжнародними текстами або в середовищах з різними налаштуваннями кодування, рекомендується завжди явно вказувати кодування UTF-8 під час відкриття файлів у Python. Це можна зробити за допомогою параметра encoding у функції open().\n",
    "\n",
    "У цьому прикладі, навіть якщо операційна система використовує інше кодування за замовчуванням, файл буде коректно відкритий із використанням UTF-8, що гарантує правильне відображення тексту.\n",
    "\n",
    "У світі, де дані часто обмінюються між різними системами та платформами, уніфікація кодування до UTF-8 є ключовим фактором для забезпечення сумісності та коректності обробки текстових даних. Вказання кодування при відкритті файлів функцією open() допомагає уникнути багатьох проблем, пов'язаних з локалізацією та міжнародною підтримкою.\n",
    "\n",
    "```\n",
    "# Відкриття текстового файлу з явним вказівкам UTF-8 кодування\n",
    "with open('example.txt', 'r', encoding='utf-8') as file:\n",
    "    content = file.read()\n",
    "    print(content)\n",
    "```"
   ]
  },
  {
   "cell_type": "markdown",
   "metadata": {},
   "source": [
    "## Масив байтів\n",
    "\n",
    "Робота з рядками обмежена тим, що рядки і байт-рядки незмінні. Якщо потрібно замінити навіть один символ, потрібно, по суті, створити копію початкового рядка з єдиним відмінним символом. Щоб зменшити накладні витрати при роботі з \"сирими\" даними, в Python є такий контейнер як bytearray."
   ]
  },
  {
   "cell_type": "code",
   "execution_count": 19,
   "metadata": {},
   "outputs": [
    {
     "name": "stdout",
     "output_type": "stream",
     "text": [
      "bytearray(b'Bill Kill')\n"
     ]
    }
   ],
   "source": [
    "byte_array = bytearray(b'Kill Bill')\n",
    "byte_array[0] = ord('B')\n",
    "byte_array[5] = ord('K')\n",
    "print(byte_array)"
   ]
  },
  {
   "cell_type": "markdown",
   "metadata": {},
   "source": [
    "Основна відмінність від байт-рядків — це змінність, щоб змінити масив байтів, не потрібно створювати новий. Друга важлива відмінність — це те, що масив байтів сприймається системою як ***послідовність чисел від 0 до 255**, а не як послідовність символів в ASCII кодуванні. Саме тому не можна написати byte_array[0] = b'B'. Елементи масиву байтів сприймаються саме як цілі числа.\n",
    "\n",
    "В іншому ж bytearray може використовуватися як заміна байт-рядків і у нього є ті самі методи з тією самою поведінкою.\n",
    "\n",
    "Окрім зміни існуючих елементів, bytearray дозволяє додавати та видаляти елементи, що робить його набагато більш гнучким у порівнянні з незмінними байт-рядками."
   ]
  },
  {
   "cell_type": "code",
   "execution_count": 20,
   "metadata": {},
   "outputs": [
    {
     "name": "stdout",
     "output_type": "stream",
     "text": [
      "bytearray(b'Hello!')\n"
     ]
    }
   ],
   "source": [
    "byte_array = bytearray(b\"Hello\")\n",
    "byte_array.append(ord(\"!\"))  \n",
    "print(byte_array)"
   ]
  },
  {
   "cell_type": "markdown",
   "metadata": {},
   "source": [
    "Хоча bytearray сприймається як послідовність чисел, його можна легко перетворити в рядок за допомогою методу decode(), вказавши потрібне кодування.\n",
    "\n",
    "bytearray особливо корисний при обробці бінарних даних, наприклад, при читанні файлів у бінарному режимі, обробці мережевих пакетів, або при роботі з образами даних у пам'яті.\n"
   ]
  },
  {
   "cell_type": "code",
   "execution_count": 21,
   "metadata": {},
   "outputs": [
    {
     "name": "stdout",
     "output_type": "stream",
     "text": [
      "Hello World\n"
     ]
    }
   ],
   "source": [
    "byte_array = bytearray(b\"Hello World\")\n",
    "string = byte_array.decode(\"utf-8\")\n",
    "print(string)  # Виведе: 'Hello World'"
   ]
  },
  {
   "cell_type": "markdown",
   "metadata": {},
   "source": [
    "## Strig comparison\n",
    "\n",
    "головне застосування casefold() для мов, де одна літера може мати різні верхній та нижній регістри, наприклад, в німецькій мові.\n",
    "\n",
    "У цьому прикладі, casefold() правильно вважатиме, що рядки \"straße\" та \"STRASSE\" еквівалентні, оскільки він враховує особливе перетворення \"ß\" в \"ss\". Це може бути важливо у сценаріях, де необхідно забезпечити точне порівняння тексту незалежно від регістру, наприклад, при пошуку у базі даних або при введенні даних користувачем.\n"
   ]
  },
  {
   "cell_type": "code",
   "execution_count": 3,
   "metadata": {},
   "outputs": [
    {
     "name": "stdout",
     "output_type": "stream",
     "text": [
      "straße strasse\n",
      "strasse strasse\n",
      "Порівняння з lower(): False\n",
      "Порівняння з casefold(): True\n"
     ]
    }
   ],
   "source": [
    "german_word = 'straße'  # В нижньому регістрі\n",
    "search_word = 'STRASSE'  # В верхньому регістрі\n",
    "\n",
    "# Порівняння за допомогою lower()\n",
    "lower_comparison = german_word.lower() == search_word.lower()\n",
    "\n",
    "# Порівняння за допомогою casefold()\n",
    "casefold_comparison = german_word.casefold() == search_word.casefold()\n",
    "\n",
    "print(german_word.lower(), german_word.casefold())\n",
    "print(search_word.lower(), search_word.casefold())\n",
    "print(f\"Порівняння з lower(): {lower_comparison}\")\n",
    "print(f\"Порівняння з casefold(): {casefold_comparison}\")"
   ]
  },
  {
   "cell_type": "markdown",
   "metadata": {},
   "source": [
    "## Робота з архівами\n",
    "\n",
    "Архіви по своїй суті — це ті самі файли, але інформація в них розташована з використанням алгоритмів стискання, які дозволяють записати інформацію в меншому об'ємі.\n",
    "\n",
    "Одна з головних причин популярності Python — в наявності великої кількості пакетів та модулів зі всіляким функціоналом, які можна використати для своїх потреб. Є простіший спосіб роботи з популярними безкоштовними архівами у Python — це пакет `shutil`, який представляє просунутіший файловий менеджер та вміє працювати з архівами. Пакет `shutil` підтримує архіви zip, tar, gz. Для цього він використовує пакети `zipfile` та `tarfile`. Ви можете використовувати їх напряму, якщо захочете.\n",
    "\n",
    "Функція `shutil.make_archive()` в Python використовується для створення архівів (наприклад, ZIP або TAR файлів) з заданої директорії. Ця функція є частиною модуля shutil, який надає багато зручних операцій для роботи з файлами, включаючи копіювання та архівування.\n",
    "\n",
    "Синтаксис методу:\n",
    "\n",
    "`shutil.make_archive(base_name, format, root_dir=None, base_dir=None)`\n",
    "\n",
    "### Параметри:\n",
    "\n",
    "- base_name - шлях до файлу, де потрібно зберегти архів, без розширення.\n",
    "- format - формат архіву, наприклад 'zip', 'tar', 'gztar', 'bztar' або 'xztar'.\n",
    "- root_dir - директорія, з якої буде створено архів. Якщо не вказано, використовується поточна директорія.\n",
    "- base_dir - директорія всередині архіву, з якої почнеться архівація.\n",
    "\n",
    "\n",
    "### Створення zip архіву.\n",
    "```\n",
    "import shutil\n",
    "\n",
    "# Створення ZIP-архіву з вмістом директорії 'my_folder'\n",
    "shutil.make_archive('example', 'zip', root_dir='my_folder')\n",
    "```\n",
    "\n",
    "\n",
    "Цей код створить zip архів з ім'ям example.zip, що містить усі файли та піддиректорії, що знаходяться у директорії my_folder.\n",
    "\n",
    "### Створення gztar архіву.\n",
    "``` \n",
    "import shutil\n",
    "\n",
    "# Створення TAR.GZ архіву\n",
    "`shutil.make_archive('example', 'gztar', root_dir='my_folder')`\n",
    "```\n",
    "\n",
    "У цьому випадку створюється TAR-архів з GZIP-стисненням.\n",
    "\n"
   ]
  },
  {
   "cell_type": "markdown",
   "metadata": {},
   "source": [
    "## Unpack\n",
    "\n",
    "Звичайно пакет shutil підтримує розпаковування архівів. Функція shutil.unpack_archive() використовується для розпакування архівних файлів, таких як ZIP або TAR, до вказаної директорії. Це зручний спосіб автоматизувати процес розпакування без необхідності вручну використовувати інструменти архівування.\n",
    "\n",
    "Синтаксис\n",
    "\n",
    "`shutil.unpack_archive(filename, extract_dir=None, format=None)`\n",
    "\n",
    "### Параметри\n",
    "\n",
    "- filename - шлях до архівного файлу, який потрібно розпакувати.\n",
    "- extract_dir - директорія, куди буде розпаковано вміст архіву. Якщо не вказано, використовується поточна директорія.\n",
    "- format - формат архіву наприклад, zip, tar, gztar, bztar, або xztar. Якщо параметр не вказано, Python намагається визначити формат автоматично.\n",
    "\n",
    "Розпакування zip архіву:\n",
    "```\n",
    "import shutil\n",
    "\n",
    "# Розпакування ZIP-архіву в певну директорію\n",
    "shutil.unpack_archive('example.zip', 'destination_folder')\n",
    "```\n",
    "\n",
    "Цей код розпакує вміст example.zip у директорію destination_folder.\n",
    "\n",
    "\n"
   ]
  },
  {
   "cell_type": "markdown",
   "metadata": {},
   "source": [
    "## Основи модуля pathlib\n",
    "\n",
    "os -> pathlib\n",
    "\n",
    "`pathlib` - module\n",
    "- `class Path` \n",
    "- `class PurePath` - no access to the file system:\n",
    "  - як розділення шляху на частини, \n",
    "  - перевірка суфіксів, імен файлів, шляхів тощо.\n",
    "\n",
    "У PurePath є ряд корисних методів та атрибутів:\n",
    "\n",
    "- `p.parent` вказує на батьківську директорію;\n",
    "- `p.name` повертає лише рядок з ім'ям директорі або файлу, на який вказує p;\n",
    "- `p.suffix` повертає рядком розширення файлу, на який вказує p, починаючи з крапки;\n"
   ]
  },
  {
   "cell_type": "code",
   "execution_count": 6,
   "metadata": {},
   "outputs": [
    {
     "name": "stdout",
     "output_type": "stream",
     "text": [
      "Name: simple.jpg\n",
      "Suffix: .jpg\n",
      "Parent: /usr/bin\n"
     ]
    }
   ],
   "source": [
    "from pathlib import PurePath\n",
    "\n",
    "p = PurePath(\"/usr/bin/simple.jpg\")\n",
    "print(\"Name:\", p.name)  \n",
    "print(\"Suffix:\", p.suffix) \n",
    "print(\"Parent:\", p.parent)"
   ]
  },
  {
   "cell_type": "markdown",
   "metadata": {},
   "source": [
    "`Class Path` наслідує всі методи `PurePath` і додає методи для виконання операцій, які вимагають **доступу до файлової системи**, таких як:\n",
    "- читання, \n",
    "- запис файлів, \n",
    "- перевірка існування файлів тощо.\n",
    "\n",
    "В основному робота з файловою системою ведеться через Path. Path варто сприймати як вказівку на файл або директорію. Щоб створити такий Path, достатньо викликати Path як функцію та передати у якості аргументу рядок-адресу у файловій системі:\n",
    "\n",
    "У даному фрагменті коду використовується модуль `pathlib` для створення, запису, читання та перевірки файлу. \n",
    "Спочатку створюється об'єкт `Path`, який вказує на файл `example.txt` у директорії де був запущений скрипт. \n",
    "- `write_text()`, у цей файл записується рядок \"Hello, world!\". \n",
    "- `read_text()` вміст файлу читається і виводиться на екран. \n",
    "- `exists()` використовується для перевірки існування файлу, результат чого також виводиться на екран. \n",
    "\n",
    "Застосування Path і PurePath залежить від конкретних потреб програми. **Для більшості практичних цілей Path буде найкращим вибором**, оскільки він надає більш широкий спектр можливостей для роботи з файлами та директоріями.\n"
   ]
  },
  {
   "cell_type": "code",
   "execution_count": 7,
   "metadata": {},
   "outputs": [
    {
     "name": "stdout",
     "output_type": "stream",
     "text": [
      "Hello, world!\n",
      "Exists: True\n"
     ]
    }
   ],
   "source": [
    "from pathlib import Path\n",
    "\n",
    "p = Path(\"example.txt\")\n",
    "p.write_text(\"Hello, world!\")\n",
    "print(p.read_text()) \n",
    "print(\"Exists:\", p.exists()) "
   ]
  },
  {
   "cell_type": "markdown",
   "metadata": {},
   "source": [
    "## Створення Шляхів\n",
    "\n",
    "Клас Path автоматично адаптується до особливостей шляхів у різних операційних системах. Наприклад, у Windows використовуються зворотні слеші (\\), тоді як в Unix-подібних системах (Linux, macOS) - прямі слеші (/).\n",
    "\n",
    "```\n",
    "from pathlib import Path\n",
    "\n",
    "# Для Unix/Linux\n",
    "path_unix = Path(\"/usr/bin/python3\")\n",
    "\n",
    "# Для Windows\n",
    "path_windows = Path(\"C:/Users/Username/Documents/file.txt\")\n",
    "```\n",
    "## Об'єднання шляхів у pathlib\n",
    "\n",
    "Для об'єднання шляхів використовується оператор `/`. \n",
    "Це інтуїтивний спосіб створення шляху, який абстрагується від різниці в синтаксисі шляхів між різними операційними системами.\n",
    "\n",
    "```\n",
    "from pathlib import Path\n",
    "\n",
    "# Початковий шлях\n",
    "base_path = Path(\"/usr/bin\")\n",
    "\n",
    "# Додавання додаткових частин до шляху\n",
    "full_path = base_path / \"subdir\" / \"script.py\"\n",
    "\n",
    "print(full_path)  # Виведе: /usr/bin/subdir/script.py\n",
    "```"
   ]
  },
  {
   "cell_type": "code",
   "execution_count": 8,
   "metadata": {},
   "outputs": [
    {
     "name": "stdout",
     "output_type": "stream",
     "text": [
      "/usr/bin/subdir/script.py\n"
     ]
    }
   ],
   "source": [
    "from pathlib import Path\n",
    "\n",
    "# Початковий шлях\n",
    "base_path = Path(\"/usr/bin\")\n",
    "\n",
    "# Додавання додаткових частин до шляху\n",
    "full_path = base_path / \"subdir\" / \"script.py\"\n",
    "\n",
    "print(full_path)  # Виведе: /usr/bin/subdir/script.py"
   ]
  },
  {
   "cell_type": "markdown",
   "metadata": {},
   "source": [
    "## Відносні та абсолютні шляхи\n",
    "\n",
    "**Абсолютний шлях** - це повний шлях до файлу або директорії від кореня файлової системи. Він містить всю інформацію, необхідну для знаходження файлу або директорії.\n",
    "\n",
    "```\n",
    "Приклад на Unix/Linux: /home/user/documents/example.txt\n",
    "Приклад на Windows: C:\\Users\\user\\documents\\example.txt\n",
    "```\n",
    "**Відносний шлях** - це шлях до файлу або директорії відносно поточного робочого каталогу.\n",
    "\n",
    "- Метод `absolute()` перетворює його в абсолютний шлях, виходячи з поточного робочого каталогу.\n",
    "- `relative_to()` який навпаки, використовується для отримання відносного шляху відносно заданої директорії.\n",
    "\n",
    "```\n",
    "from pathlib import Path\n",
    "\n",
    "# Перетворення відносного шляху в абсолютний\n",
    "relative_path = Path(\"documents/example.txt\")\n",
    "absolute_path = relative_path.absolute()\n",
    "print(absolute_path)\n",
    "```\n",
    "\n",
    "```\n",
    "from pathlib import Path\n",
    "\n",
    "# Перетворення відносного шляху в абсолютний\n",
    "relative_path = Path(\"documents/example.txt\")\n",
    "absolute_path = relative_path.absolute()\n",
    "\n",
    "current_working_directory = Path(\"E:\\WebDir\\Works\\Python\\python-help-solution\\example_for_new_core\\l04\")\n",
    "relative_path = absolute_path.relative_to(current_working_directory)\n",
    "print(relative_path)\n",
    "```\n"
   ]
  },
  {
   "cell_type": "markdown",
   "metadata": {},
   "source": [
    "## Маніпуляція з компонентами шляху\n",
    "\n",
    "Mетоди `with_name` і `with_suffix` в класі Path модуля pathlib в Python **не змінюють фізичне ім'я файлу на диску**. \n",
    "Замість цього, вони використовуються для створення нового об'єкта Path, який відображає змінений шлях.\n",
    "\n",
    "- `with_name(name)` замінює ім'я файлу в шляху на нове. Він корисний, коли вам потрібно змінити тільки ім'я файлу, зберігаючи решту шляху незмінною.\n",
    "\n",
    "\n"
   ]
  },
  {
   "cell_type": "code",
   "execution_count": 9,
   "metadata": {},
   "outputs": [
    {
     "name": "stdout",
     "output_type": "stream",
     "text": [
      "documents/report.txt\n"
     ]
    }
   ],
   "source": [
    "from pathlib import Path\n",
    "\n",
    "# Початковий шлях до файлу\n",
    "original_path = Path(\"documents/example.txt\")\n",
    "\n",
    "# Зміна імені файлу\n",
    "new_path = original_path.with_name(\"report.txt\")\n",
    "print(new_path)"
   ]
  },
  {
   "cell_type": "markdown",
   "metadata": {},
   "source": [
    "- `with_suffix` замінює або додає розширення файлу в шляху. Це корисно, коли потрібно змінити тип файлу або додати розширення до файлу, який його не має."
   ]
  },
  {
   "cell_type": "code",
   "execution_count": 10,
   "metadata": {},
   "outputs": [
    {
     "name": "stdout",
     "output_type": "stream",
     "text": [
      "documents/example.md\n"
     ]
    }
   ],
   "source": [
    "from pathlib import Path\n",
    "\n",
    "# Початковий шлях до файлу\n",
    "original_path = Path(\"documents/example.txt\")\n",
    "\n",
    "# Зміна імені файлу\n",
    "new_path = original_path.with_suffix(\".md\")\n",
    "print(new_path)"
   ]
  },
  {
   "cell_type": "code",
   "execution_count": 11,
   "metadata": {},
   "outputs": [
    {
     "name": "stdout",
     "output_type": "stream",
     "text": [
      "documents/example.txt\n",
      "documents/report.txt\n"
     ]
    }
   ],
   "source": [
    "from pathlib import Path\n",
    "\n",
    "original_path = Path(\"documents/example.txt\")\n",
    "\n",
    "# Створює новий об'єкт Path з іншим ім'ям файлу\n",
    "new_path = original_path.with_name(\"report.txt\")\n",
    "\n",
    "print(original_path)\n",
    "print(new_path)"
   ]
  },
  {
   "cell_type": "markdown",
   "metadata": {},
   "source": [
    "- `rename`. Цей виклик **змінить ім'я файлу у директорії documents** на диску.\n",
    "\n",
    "```\n",
    "from pathlib import Path\n",
    "\n",
    "original_path = Path(\"documents/example.txt\")\n",
    "\n",
    "# Створює новий об'єкт Path з іншим ім'ям файлу\n",
    "new_path = original_path.with_name(\"report.txt\")\n",
    "original_path.rename(new_path)\n",
    "```"
   ]
  },
  {
   "cell_type": "markdown",
   "metadata": {},
   "source": [
    "## Читання та запис файлів\n",
    "\n",
    "`Path.read_text(encoding=None, errors=None)`\n",
    "\n",
    "\n",
    "- `encoding` - необов'язковий, ім'я кодування, яке використовується для декодування файлу. Якщо не вказано, використовується кодування за замовчуванням.\n",
    "- `errors` - необов'язково, інструкція, як обробляти помилки декодування.\n",
    "\n",
    "\n",
    "`Path.write_text(data, encoding=None, errors=None)`\n",
    "\n",
    "- `data` - рядок, який необхідно записати в файл.\n",
    "- `encoding` - необов'язковий, ім'я кодування, яке використовується для декодування файлу. Якщо не вказано, використовується кодування за замовчуванням.\n",
    "- `errors` - необов'язково, інструкція, як обробляти помилки декодування.\n",
    "\n",
    "\n",
    "- errors='strict'. Це значення за замовчуванням. Якщо виникає помилка декодування, буде викинуто виключення UnicodeDecodeError.\n",
    "- errors='ignore'. Якщо ми хочемо ігнорувати помилки декодування. Частини тексту, що не можуть бути декодовані, будуть просто пропущені.\n",
    "- errors='replace'. Якщо пропускати ми не хочемо, то замінимо неможливі для декодування символи на спеціальний символ заміни, згідно документації символ '?'.\n",
    "\n",
    "Приклад запису тексту у файл\n",
    "\n",
    "✂️ Цей код можна запустити! \n",
    "``` \n",
    "from pathlib import Path\n",
    "\n",
    "# Створення об'єкту Path для файлу\n",
    "file_path = Path(\"example.txt\")\n",
    "\n",
    "# Запис тексту у файл\n",
    "file_path.write_text(\"Привіт світ!\", encoding=\"utf-8\")\n",
    "```\n",
    "\n",
    "Тут рядок \"Привіт світ!\" записується в файл example.txt.\n",
    "\n",
    "Приклад читання тексту з файлу\n",
    "\n",
    "✂️ Цей код можна запустити! \n",
    "```\n",
    "from pathlib import Path\n",
    "\n",
    "# Створення об'єкту Path для файлу\n",
    "file_path = Path(\"example.txt\")\n",
    "\n",
    "# Читання тексту з файлу\n",
    "text = file_path.read_text(encoding=\"utf-8\")\n",
    "print(text)\n",
    "```\n",
    "\n",
    "У цьому прикладі текст з файлу example.txt читається за допомогою read_text() та виводиться на екран.\n",
    "\n",
    "Виведення:\n",
    "\n",
    "Привіт світ!\n",
    "\n",
    "## read_bytes(),  write_bytes()\n",
    "\n",
    "Методи read_bytes() та write_bytes() використовуються для читання та запису бінарних файлів.\n",
    "\n",
    "Приклад запису бінарних даних у файл\n",
    "\n",
    "✂️ Цей код можна запустити! \n",
    "``` \n",
    "from pathlib import Path\n",
    "\n",
    "# Створення об'єкту Path для бінарного файлу\n",
    "file_path = Path(\"example.bin\")\n",
    "\n",
    "# Бінарні дані для запису\n",
    "data = b\"Python is great!\"\n",
    "\n",
    "# Запис байтів у файл\n",
    "file_path.write_bytes(data)\n",
    "```\n",
    "\n",
    "Тут бінарні дані data записуються в файл example.bin.\n",
    "\n",
    "Приклад читання бінарних даних з файлу\n",
    "\n",
    "✂️ Цей код можна запустити! \n",
    "```\n",
    "from pathlib import Path\n",
    "\n",
    "# Створення об'єкту Path для бінарного файлу\n",
    "file_path = Path(\"example.bin\")\n",
    "\n",
    "# Читання байтів з файлу\n",
    "binary_data = file_path.read_bytes()\n",
    "print(binary_data)\n",
    "```\n",
    "\n",
    "У цьому випадку бінарні дані з файлу example.bin читаються за допомогою read_bytes().\n",
    "\n",
    "Виведення:\n",
    "\n",
    "b'Python is great!'\n",
    "\n"
   ]
  },
  {
   "cell_type": "markdown",
   "metadata": {},
   "source": [
    "## Dir\n",
    "\n",
    "\n",
    "### iterdir() \n",
    "використовується для отримання переліку всіх файлів та піддиректорій у вказаній директорії. Цей метод повертає ітератор, який виробляє об'єкти Path для кожного файлу та піддиректорії у директорії, що визначена поточним об'єктом Path.\n",
    "\n",
    "Розглянемо приклад використання. В нас є скрипт ex01.py з наступним кодом:\n",
    "\n",
    "✂️ Цей код можна запустити! \n",
    "```\n",
    "from pathlib import Path\n",
    "\n",
    "# Створення об'єкту Path для директорії\n",
    "directory = Path(\"./picture\")\n",
    "\n",
    "# Виведення переліку всіх файлів та піддиректорій\n",
    "for path in directory.iterdir():\n",
    "    print(path)\n",
    "```\n",
    "\n",
    "Ми виведемо список елементів з директорії \"./picture\" яка знаходить в середині директорії проєкту core_course, де ми запускаємо скрипт ex01.py.\n",
    "Маємо таку структуру каталогів:\n",
    "\n",
    "📦core_course\n",
    " ┣ 📂picture\n",
    " ┃ ┣ 📂Logo\n",
    " ┃ ┣ 📜bot-icon.png\n",
    " ┃ ┗ 📜mongodb.jpg\n",
    " ┗ 📜ex01.py\n",
    "\n",
    "В нашому випадку тоді виведення буде:\n",
    "```\n",
    "picture\\bot-icon.png\n",
    "picture\\Logo\n",
    "picture\\mongodb.jpg\n",
    "```\n",
    "### mkdir()\n",
    "Для створення нової директорії використовується метод mkdir().\n",
    "\n",
    "`Path.mkdir(mode=0o777, parents=False, exist_ok=False)`\n",
    "\n",
    "- mode - права доступу до директорії, використовуються для Linux і не актуальні для Windows.\n",
    "- parents - якщо має значення True, створить всі батьківські директорії, які відсутні.\n",
    "- exist_ok - якщо має значення True, помилка не буде викинута, якщо директорія вже існує.\n",
    "\n",
    "✂️ Цей код можна запустити! \n",
    "```\n",
    "from pathlib import Path\n",
    "directory = Path('/my_directory/new_folder')\n",
    "directory.mkdir(parents=True, exist_ok=True)\n",
    "```\n",
    "\n",
    "### rmdir()\n",
    "Для видалення директорії використовується метод rmdir(). Він видаляє директорію, але **директорія повинна бути порожньою.**\n",
    "\n",
    "✂️ Цей код можна запустити! \n",
    "\n",
    "```from pathlib import Path\n",
    "directory = Path('/my_directory/new_folder')\n",
    "directory.rmdir()\n",
    "```\n",
    "\n",
    "Модуль pathlib також надає декілька методів для **перевірки існування та типу файлових об'єктів:**\n",
    "\n",
    "- метод `exists()` перевіряє, чи існує файл або директорія.\n",
    "- метод `is_dir()` перевіряє, чи є об'єкт директорією.\n",
    "- метод `is_file()` перевіряє, чи є об'єкт файлом.\n",
    "\n",
    "Приклади використання\n",
    "\n",
    "✂️ Цей код можна запустити! \n",
    "```from pathlib import Path\n",
    "\n",
    "path = Path(\"./picture\")\n",
    "\n",
    "# Перевірка існування\n",
    "if path.exists():\n",
    "    print(f\"{path} існує\")\n",
    "\n",
    "# Перевірка, чи це директорія\n",
    "if path.is_dir():\n",
    "    print(f\"{path} є директорією\")\n",
    "\n",
    "# Перевірка, чи це файл\n",
    "if path.is_file():\n",
    "    print(f\"{path} є файлом\")\n",
    "```\n",
    "\n",
    "Виведення:\n",
    "\n",
    "picture існує\n",
    "picture є директорією\n"
   ]
  },
  {
   "cell_type": "markdown",
   "metadata": {},
   "source": [
    "## Переміщення та копіювання файлів\n",
    "\n",
    "### shutil.copy(), shutil.copy2()\n",
    "Для копіювання файлів використовується функція shutil.copy() або shutil.copy2().\n",
    "\n",
    "Приклад копіювання файлу:\n",
    "\n",
    "✂️ Цей код можна запустити! \n",
    "```\n",
    "import shutil\n",
    "from pathlib import Path\n",
    "\n",
    "# Вихідний і цільовий файли\n",
    "source = Path('/path/to/source/file.txt')\n",
    "destination = Path('/path/to/destination/file.txt')\n",
    "\n",
    "# Копіювання файла\n",
    "shutil.copy(source, destination)\n",
    "```\n",
    "\n",
    "Функція `shutil.copy()` **копіює вміст файлу, але не копіює метадані**, тоді як `shutil.copy2()` **копіює і вміст, і метадані**.\n",
    "\n",
    "### shutil.move()\n",
    "Для переміщення файлів використовується функція shutil.move().\n",
    "\n",
    "Приклад переміщення файлу:\n",
    "\n",
    "✂️ Цей код можна запустити! \n",
    "\n",
    "```\n",
    "import shutil\n",
    "from pathlib import Path\n",
    "\n",
    "# Вихідний і цільовий шляхи\n",
    "source = Path('/path/to/source/file.txt')\n",
    "destination = Path('/path/to/destination/file.txt')\n",
    "\n",
    "# Переміщення файла\n",
    "shutil.move(source, destination)\n",
    "```\n",
    "### stat()\n",
    "1) Метод stat() повертає інформацію про файл, включаючи його розмір.\n",
    "\n",
    "Отримання розміру файлу\n",
    "\n",
    "✂️ Цей код можна запустити! \n",
    "```\n",
    "from pathlib import Path\n",
    "\n",
    "file_path = Path(\"./picture/bot-icon.png\")\n",
    "\n",
    "# Отримання розміру файла\n",
    "size = file_path.stat().st_size\n",
    "print(f\"Розмір файла: {size} байтів\")\n",
    "```\n",
    "\n",
    "Виведення:\n",
    "\n",
    "Розмір файла: 2876 байтів\n",
    "\n",
    "2) Метод stat() також надає час створення, атрибут st_ctime, та час останньої модифікації файлу, атрибут st_mtime.\n",
    "\n",
    "✂️ Цей код можна запустити! \n",
    "```\n",
    "from pathlib import Path\n",
    "import time\n",
    "\n",
    "file_path = Path(\"./picture/bot-icon.png\")\n",
    "\n",
    "# Час створення та модифікації\n",
    "creation_time = file_path.stat().st_ctime\n",
    "modification_time = file_path.stat().st_mtime\n",
    "\n",
    "print(f\"Час створення: {time.ctime(creation_time)}\")\n",
    "print(f\"Час модифікації: {time.ctime(modification_time)}\")\n",
    "```\n",
    "\n",
    "Виведення:\n",
    "\n",
    "Час створення: Fri Dec 29 04:43:16 2023\n",
    "Час модифікації: Thu May 17 19:59:44 2018\n",
    "\n",
    "### unlink()\n",
    "Для видалення файлу використовується метод unlink(). Він видаляє файл, на який вказує об'єкт Path.\n",
    "\n",
    "\n",
    "`Path.unlink(missing_ok=False)`\n",
    "\n",
    "- missing_ok якщо має значення True, то виключення не буде викинуто, якщо файл не існує. За замовчуванням False, це означає, що буде викинуто виняток FileNotFoundError, якщо файл не існує.\n",
    "\n",
    "✂️ Цей код можна запустити!\n",
    "\n",
    "```\n",
    "from pathlib import Path\n",
    "\n",
    "# Створення об'єкту Path для файлу\n",
    "file_path = Path('/path/to/file.txt')\n",
    "\n",
    "# Перевірка, чи файл існує, перш ніж видаляти\n",
    "if file_path.exists():\n",
    "    file_path.unlink()\n",
    "    print(f'Файл {file_path} було видалено')\n",
    "else:\n",
    "    print(f'Файл {file_path} не існує')\n",
    "    ```\n",
    "\n",
    "У цьому прикладі, перш ніж видалити файл, ми перевіряємо, чи він існує, щоб уникнути виключення FileNotFoundError.\n",
    "\n",
    "Можна також видалити файл без попередньої перевірки його існування, використовуючи параметр missing_ok.\n",
    "\n",
    "```\n",
    "from pathlib import Path\n",
    "file_path = Path('/path/to/file.txt')\n",
    "file_path.unlink(missing_ok=True)\n",
    "```\n",
    "\n",
    "У цьому випадку, якщо файл не існує, виключення не буде викинуто.\n",
    "\n"
   ]
  }
 ],
 "metadata": {
  "kernelspec": {
   "display_name": "Python 3",
   "language": "python",
   "name": "python3"
  },
  "language_info": {
   "codemirror_mode": {
    "name": "ipython",
    "version": 3
   },
   "file_extension": ".py",
   "mimetype": "text/x-python",
   "name": "python",
   "nbconvert_exporter": "python",
   "pygments_lexer": "ipython3",
   "version": "3.11.4"
  }
 },
 "nbformat": 4,
 "nbformat_minor": 2
}
