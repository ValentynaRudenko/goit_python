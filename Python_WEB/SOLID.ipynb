{
 "cells": [
  {
   "cell_type": "markdown",
   "metadata": {},
   "source": [
    "# SOLID"
   ]
  },
  {
   "cell_type": "markdown",
   "metadata": {},
   "source": [
    "- Single responsibility — принцип єдиної відповідальності\n",
    "- Open-closed — принцип відкритості / закритості\n",
    "- Liskov substitution — принцип підстановки Барбари Лісков\n",
    "- Interface segregation — принцип розділення інтерфейсу\n",
    "- Dependency inversion — принцип інверсії залежностей"
   ]
  },
  {
   "cell_type": "markdown",
   "metadata": {},
   "source": [
    "## Single responsibility\n",
    "\n",
    "**Single Responsibility Principle, SRP** -  означає у модуля повинна бути лише одна причина для зміни. Весь код, який змінюється з цієї причини, повинен бути зібраний у цьому модулі."
   ]
  },
  {
   "cell_type": "markdown",
   "metadata": {},
   "source": [
    "Для розуміння цього принципу розглянемо наступний приклад:\n",
    "\n",
    "```\n",
    "class Person:\n",
    "    def __init__(self, name, zip, city, street):\n",
    "        self.name = name\n",
    "        self.zip = zip\n",
    "        self.city = city\n",
    "        self.street = street\n",
    "\n",
    "    def get_address(self):\n",
    "        return f'{self.zip}, {self.city}, {self.street}'\n",
    "\n",
    "\n",
    "person = Person('Alexander', '36007', 'Poltava', 'European, 28')\n",
    "print(person.get_address())\n",
    "```\n",
    "\n",
    "У нас є клас Person. Відповідно до принципу єдиної відповідальності клас повинен вирішувати лише якесь одне завдання. Зараз він вирішує два: зберігає дані користувача та виконує логіку перетворення адреси користувача.\n",
    "\n",
    "Необхідно зробити так, щоб клас Person працював тільки з даними користувача, а завдання перетворення адреси делегувалося іншому екземпляру класу PersonAddress через залежність у конструкторі\n",
    "\n"
   ]
  },
  {
   "cell_type": "code",
   "execution_count": 1,
   "metadata": {},
   "outputs": [
    {
     "name": "stdout",
     "output_type": "stream",
     "text": [
      "36007, Poltava, European, 28\n"
     ]
    }
   ],
   "source": [
    "class PersonAddress:\n",
    "    def __init__(self, zip, city, street):\n",
    "        self.zip = zip\n",
    "        self.city = city\n",
    "        self.street = street\n",
    "\n",
    "    def value_of(self):\n",
    "        return f'{self.zip}, {self.city}, {self.street}'\n",
    "\n",
    "\n",
    "class Person:\n",
    "    def __init__(self, name, address):\n",
    "        self.name = name\n",
    "        self.address = address\n",
    "\n",
    "    def get_address(self):\n",
    "        return self.address.value_of()\n",
    "\n",
    "\n",
    "if __name__ == '__main__':\n",
    "    person = Person('Alexander', PersonAddress('36007', 'Poltava', 'European, 28'))\n",
    "    print(person.get_address())\n"
   ]
  },
  {
   "cell_type": "markdown",
   "metadata": {},
   "source": [
    "## Open-closed"
   ]
  },
  {
   "cell_type": "markdown",
   "metadata": {},
   "source": [
    "Цей принцип допомагає вирішувати проблему, коли **невелика зміна в одній частині системи викликає лавину змін в інших частинах**. \n",
    "\n",
    "Якщо у програмі при зміні поліпшення потрібно виправити десятки модулів, така система, швидше за все, спроектована погано.\n",
    "\n",
    "Принцип відкритості-закритості декларує, що **модулі повинні бути відкриті для розширення, але закриті для зміни**.\n",
    "\n",
    "Іншими словами — \n",
    "- модулі потрібно проектувати так, щоб їх не можна було змінювати, \n",
    "- а нова функціональність у програмі повинна з'являтися лише за допомогою створення нових сутностей та композиції їх зі старими. \n",
    "- Звичайно, завжди є зміни, які неможливо внести, не змінивши код якогось модуля — жодна система не може бути закрита від змін повністю.\n",
    "\n",
    "Щоб зрозуміти принцип, потрібно розглянути застосування його у місцях з'єднання модулів.\n"
   ]
  },
  {
   "cell_type": "markdown",
   "metadata": {},
   "source": [
    "\n",
    "```\n",
    "class Rect:\n",
    "    def __init__(self, width, height):\n",
    "        self.width = width\n",
    "        self.height = height\n",
    "\n",
    "\n",
    "def total_area(shapes):\n",
    "    sum = 0\n",
    "    for el in shapes:\n",
    "        sum += el.width * el.height\n",
    "    return sum\n",
    "\n",
    "\n",
    "if __name__ == '__main__':\n",
    "    shapes = [Rect(10, 10), Rect(4, 5), Rect(3, 3)]\n",
    "    area = total_area(shapes)\n",
    "    print(area)\n",
    "```\n",
    "\n",
    "Є клас `Rect`, що описує прямокутник, і є функція `total_area`, яка обчислює загальну площу фігур. У чому може виникнути неприємність для такого коду?\n",
    "\n",
    "Якщо у нас з'явиться нова фігура, наприклад, коло — `Circle`, нам доведеться змінити роботу функції `total_area`."
   ]
  },
  {
   "cell_type": "code",
   "execution_count": 2,
   "metadata": {},
   "outputs": [
    {
     "name": "stdout",
     "output_type": "stream",
     "text": [
      "235.81415022205297\n"
     ]
    }
   ],
   "source": [
    "from math import pi\n",
    "\n",
    "\n",
    "class Rect:\n",
    "    def __init__(self, width, height):\n",
    "        self.width = width\n",
    "        self.height = height\n",
    "\n",
    "\n",
    "class Circle:\n",
    "    def __init__(self, radius):\n",
    "        self.radius = radius\n",
    "\n",
    "\n",
    "def total_area(shapes):\n",
    "    sum = 0\n",
    "    for el in shapes:\n",
    "        if isinstance(el, Rect):\n",
    "            sum += el.width * el.height\n",
    "        if isinstance(el, Circle):\n",
    "            sum += el.radius ** 2 * pi\n",
    "    return sum\n",
    "\n",
    "\n",
    "if __name__ == '__main__':\n",
    "    shapes = [Rect(10, 10), Circle(5), Rect(4, 5), Rect(3, 3), Circle(3)]\n",
    "    area = total_area(shapes)\n",
    "    print(area)\n"
   ]
  },
  {
   "cell_type": "markdown",
   "metadata": {},
   "source": [
    "І з появою нової фігури нам потрібно щоразу вносити зміни в роботу функції total_area. Щоб виправити ситуацію, потрібно перекласти обчислення площі фігури на самі класи:"
   ]
  },
  {
   "cell_type": "code",
   "execution_count": 3,
   "metadata": {},
   "outputs": [
    {
     "name": "stdout",
     "output_type": "stream",
     "text": [
      "235.81415022205297\n"
     ]
    }
   ],
   "source": [
    "from math import pi\n",
    "\n",
    "\n",
    "class Rect:\n",
    "    def __init__(self, width, height):\n",
    "        self.width = width\n",
    "        self.height = height\n",
    "\n",
    "    def area_of(self):\n",
    "        return self.width * self.height\n",
    "\n",
    "\n",
    "class Circle:\n",
    "    def __init__(self, radius):\n",
    "        self.radius = radius\n",
    "\n",
    "    def area_of(self):\n",
    "        return self.radius ** 2 * pi\n",
    "\n",
    "\n",
    "def total_area(shapes):\n",
    "    sum = 0\n",
    "    for el in shapes:\n",
    "        sum += el.area_of()\n",
    "    return sum\n",
    "\n",
    "\n",
    "if __name__ == '__main__':\n",
    "    shapes = [Rect(10, 10), Circle(5), Rect(4, 5), Rect(3, 3), Circle(3)]\n",
    "    area = total_area(shapes)\n",
    "    print(area)\n"
   ]
  },
  {
   "cell_type": "markdown",
   "metadata": {},
   "source": [
    "## Liskov substitution"
   ]
  },
  {
   "cell_type": "markdown",
   "metadata": {},
   "source": [
    "Принцип відкритості-закритості говорить про те, що у добре спроектованих програмах нова функціональність вводиться шляхом додавання нового коду, а не зміною старого, що вже працює. \n",
    "\n",
    "Принцип підстановки Лісков (далі **LSP**) — це як реалізувати цей принцип при побудові ієрархії наслідування класів в об'єктно-орієнтованих мовах програмування. По суті, правильна ієрархія наслідування в ООП - це ієрархія, побудована відповідно до LSP, щоб відповідати принципу відкритості-закритості.\n",
    "\n",
    "У попередньому прикладі порушенням LSP була функція:\n",
    "```\n",
    "def total_area(shapes):\n",
    "    sum = 0\n",
    "    for el in shapes:\n",
    "        if isinstance(el, Rect):\n",
    "            sum += el.width * el.height\n",
    "        if isinstance(el, Circle):\n",
    "            sum += el.radius ** 2 * pi\n",
    "    return sum\n",
    "```\n",
    "\n",
    "Тепер давайте розглянемо, як можна порушити LSP не таким очевидним способом. Припустимо, ми розробляємо програму, яка працює з геометричними фігурами. У ній є клас для роботи з прямокутниками:\n"
   ]
  },
  {
   "cell_type": "code",
   "execution_count": null,
   "metadata": {},
   "outputs": [],
   "source": [
    "class Rect:\n",
    "    def __init__(self, width, height):\n",
    "        self.width = width\n",
    "        self.height = height\n",
    "\n",
    "    def set_width(self, width):\n",
    "        self.width = width\n",
    "\n",
    "    def set_height(self, height):\n",
    "        self.height = height\n",
    "\n",
    "    def area_of(self):\n",
    "        return self.width * self.height\n"
   ]
  },
  {
   "cell_type": "markdown",
   "metadata": {},
   "source": [
    "Тепер потрібно реалізувати фігуру квадрат. Квадрат – це очевидно прямокутник і цілком логічно, що клас Square повинен бути спадкоємцем класу Rect.\n"
   ]
  },
  {
   "cell_type": "code",
   "execution_count": null,
   "metadata": {},
   "outputs": [],
   "source": [
    "class Square(Rect):\n",
    "    def __init__(self, size):\n",
    "        Rect.__init__(self, size, size)\n",
    "\n",
    "    def set_width(self, width):\n",
    "        self.width = width\n",
    "        self.height = width\n",
    "\n",
    "    def set_height(self, height):\n",
    "        self.width = height\n",
    "        self.height = height\n"
   ]
  },
  {
   "cell_type": "markdown",
   "metadata": {},
   "source": [
    "І якщо у функції ми використовуємо клас Rect, а працюємо з конкретним класом Square, то можуть виникнути проблеми:\n"
   ]
  },
  {
   "cell_type": "code",
   "execution_count": null,
   "metadata": {},
   "outputs": [],
   "source": [
    "def test_shape_size(shape):\n",
    "    shape.set_width(10)\n",
    "    shape.set_height(20)\n",
    "    return shape.area_of() == 200  # умова не спрацює, якщо shape — екземпляр класу Square\n"
   ]
  },
  {
   "cell_type": "markdown",
   "metadata": {},
   "source": [
    "\n",
    "Відповідно до **LSP** нам необхідно використовувати спільний інтерфейс для обох класів і не наслідувати Square від Rect. Цей спільний інтерфейс повинен бути таким, щоб класи-спадкоємці могли б використовуватися замість батьківських класів, від яких вони утворені, не порушуючи роботу програми."
   ]
  },
  {
   "cell_type": "code",
   "execution_count": 4,
   "metadata": {},
   "outputs": [
    {
     "name": "stdout",
     "output_type": "stream",
     "text": [
      "Square area:  100\n",
      "Rect area:  50\n"
     ]
    }
   ],
   "source": [
    "from enum import Enum\n",
    "\n",
    "\n",
    "class SideType(Enum):\n",
    "    TYPE_WIDTH = 'width'\n",
    "    TYPE_HEIGHT = 'height'\n",
    "\n",
    "\n",
    "class Shape:\n",
    "    def set_side(self, size, side):\n",
    "        pass\n",
    "\n",
    "    def area_of(self):\n",
    "        pass\n",
    "\n",
    "\n",
    "class Rect(Shape):\n",
    "    def __init__(self, width, height):\n",
    "        self.width = width\n",
    "        self.height = height\n",
    "\n",
    "    def set_side(self, size, side):\n",
    "        if SideType.TYPE_WIDTH == side:\n",
    "            self.width = size\n",
    "        if SideType.TYPE_HEIGHT == side:\n",
    "            self.height = size\n",
    "\n",
    "    def set_width(self, width):\n",
    "        self.set_side(width, SideType.TYPE_WIDTH)\n",
    "\n",
    "    def set_height(self, height):\n",
    "        self.set_side(height, SideType.TYPE_HEIGHT)\n",
    "\n",
    "    def area_of(self):\n",
    "        return self.width * self.height\n",
    "\n",
    "\n",
    "class Square(Shape):\n",
    "    def __init__(self, size):\n",
    "        self.edge = size\n",
    "\n",
    "    def set_side(self, size, side=None):\n",
    "        self.edge = size\n",
    "\n",
    "    def set_width(self, width):\n",
    "        self.set_side(width)\n",
    "\n",
    "    def area_of(self):\n",
    "        return self.edge ** 2\n",
    "\n",
    "\n",
    "def get_area_of_shape(figure: Shape):\n",
    "    return figure.area_of()\n",
    "\n",
    "    \n",
    "if __name__ == '__main__':\n",
    "    square = Square(10)\n",
    "    rect = Rect(5, 10)\n",
    "    print('Square area: ', get_area_of_shape(square))\n",
    "    print('Rect area: ', get_area_of_shape(rect))\n"
   ]
  },
  {
   "cell_type": "markdown",
   "metadata": {},
   "source": [
    "Тепер поведінка спадкоємців не конфліктує із поведінкою базового класу. Це дозволить використовувати і Rect, і Square там, де оголошено використання Shape.\n"
   ]
  },
  {
   "cell_type": "markdown",
   "metadata": {},
   "source": [
    "## Interface segregation"
   ]
  },
  {
   "cell_type": "markdown",
   "metadata": {},
   "source": [
    "Сутності не повинні залежати від інтерфейсів, які вони не використовують.\n",
    "\n",
    "Коли принцип порушується, модулі схильні до всіх змін в інтерфейсах, від яких вони залежать. Це призводить до високої зв'язаності модулів один з одним.\n",
    "\n",
    "ISP допомагає проектувати інтерфейси так, щоб зміни зачіпали тільки ті модулі, на функціональність яких вони справді впливають. Найчастіше це змушує інтерфейси дробити (розділяти).\n",
    "\n",
    "Припустимо, що у нас є клас `Programmer`, який описує програміста з офісу деякої компанії. Співробітники пишуть код та іноді їдять піцу, яку компанія замовляє в офіс."
   ]
  },
  {
   "cell_type": "code",
   "execution_count": null,
   "metadata": {},
   "outputs": [],
   "source": [
    "class Programmer:\n",
    "    def write_code(self):\n",
    "        pass\n",
    "\n",
    "    def eat_pizza(self, slice_count):\n",
    "        pass\n",
    "\n",
    "\n",
    "class OfficeProgrammer(Programmer):\n",
    "    def __init__(self, name):\n",
    "        self.name = name\n",
    "\n",
    "    def eat_pizza(self, slice_count):\n",
    "        print(f'{self.name} eat {slice_count} slice pizza!')\n",
    "\n",
    "    def write_code(self):\n",
    "        print(f'{self.name} write code!')\n"
   ]
  },
  {
   "cell_type": "markdown",
   "metadata": {},
   "source": [
    "Через деякий час компанія почала наймати фрілансерів, які працюють віддалено і піцу не їдять. Якщо ми використовуємо той самий інтерфейс, то клас `RemoteProgrammer` повинен буде реалізувати метод `eat_pizza`, хоча він йому і не потрібен."
   ]
  },
  {
   "cell_type": "code",
   "execution_count": null,
   "metadata": {},
   "outputs": [],
   "source": [
    "class RemoteProgrammer(Programmer):\n",
    "    def __init__(self, name):\n",
    "        self.name = name\n",
    "\n",
    "    def write_code(self):\n",
    "        print(f'{self.name} write code!')\n",
    "\n",
    "    def eat_pizza(self, slice_count):\n",
    "        pass\n"
   ]
  },
  {
   "cell_type": "markdown",
   "metadata": {},
   "source": [
    "Ми можемо уникнути проблеми з прикладу вище, якщо розділимо клас `Programmer`. Ми можемо поділити його на дві ролі: `CodeProducer` та `PizzaConsumer`."
   ]
  },
  {
   "cell_type": "code",
   "execution_count": null,
   "metadata": {},
   "outputs": [],
   "source": [
    "class CodeProducer:\n",
    "    def write_code(self):\n",
    "        pass\n",
    "\n",
    "\n",
    "class PizzaConsumer:\n",
    "    def eat_pizza(self, slice_count):\n",
    "        pass\n",
    "\n",
    "\n",
    "class OfficeProgrammer(CodeProducer, PizzaConsumer):\n",
    "    def __init__(self, name):\n",
    "        self.name = name\n",
    "\n",
    "    def eat_pizza(self, slice_count):\n",
    "        print(f'{self.name} eat {slice_count} slice pizza!')\n",
    "\n",
    "    def write_code(self):\n",
    "        print(f'{self.name} write code!')\n",
    "\n",
    "\n",
    "class RemoteProgrammer(CodeProducer):\n",
    "    def __init__(self, name):\n",
    "        self.name = name\n",
    "\n",
    "    def write_code(self):\n",
    "        print(f'{self.name} write code!')\n"
   ]
  },
  {
   "cell_type": "markdown",
   "metadata": {},
   "source": [
    "Тепер і OfficeProgrammer, і RemoteProgrammer будуть реалізовувати лише ті інтерфейси, які їм справді потрібні."
   ]
  },
  {
   "cell_type": "markdown",
   "metadata": {},
   "source": [
    "## Dependency inversion"
   ]
  },
  {
   "cell_type": "markdown",
   "metadata": {},
   "source": [
    "- класи повинні **залежати** від інших класів не напряму, **а від абстракцій**. \n",
    "- Класи верхніх рівнів **не повинні** залежати від класів нижніх рівнів. \n",
    "- Обидва типи класів **повинні залежати від абстракцій**. \n",
    "- Абстракції **не повинні** залежати від **деталей**. \n",
    "- **Деталі повинні залежати від абстракцій.** \n",
    "- У процесі розробки програмного забезпечення існує момент, коли функціонал застосунку перестає поміщатися в межах одного модуля або класу.\n",
    "     - Коли це відбувається, нам доводиться вирішувати проблему залежностей класів (модулів). \n",
    "     - В результаті, наприклад, може виявитися так, що високорівневі компоненти залежать від низькорівневих компонентів"
   ]
  },
  {
   "cell_type": "code",
   "execution_count": 3,
   "metadata": {},
   "outputs": [
    {
     "name": "stdout",
     "output_type": "stream",
     "text": [
      "| currency |   sale   |   buy    |\n",
      "|   EUR    | 42.37288 |  41.72   |\n",
      "|   USD    | 38.61004 |  38.25   |\n"
     ]
    }
   ],
   "source": [
    "import requests\n",
    "\n",
    "\n",
    "class RequestConnection:\n",
    "    def __init__(self, request):\n",
    "        self.request = request\n",
    "\n",
    "    def get_json_from_url(self, url):\n",
    "        return self.request.get(url).json()\n",
    "\n",
    "\n",
    "class ApiClient:\n",
    "    def __init__(self, fetch: RequestConnection):\n",
    "        self.fetch = fetch\n",
    "\n",
    "    def get_data(self, url):\n",
    "        response = self.fetch.get_json_from_url(url)\n",
    "        return response\n",
    "\n",
    "\n",
    "def data_adapter(data: dict):\n",
    "    return [{f\"{el.get('ccy')}\": {\"buy\": float(el.get('buy')), \"sale\": float(el.get('sale'))}} for el in data]\n",
    "\n",
    "\n",
    "def pretty_view(data):\n",
    "    pattern = '|{:^10}|{:^10}|{:^10}|'\n",
    "    print(pattern.format('currency', 'sale', 'buy'))\n",
    "    for el in data:\n",
    "        currency, *_ = el.keys()\n",
    "        buy = el.get(currency).get('buy')\n",
    "        sale = el.get(currency).get('sale')\n",
    "        print(pattern.format(currency, sale, buy))\n",
    "\n",
    "\n",
    "if __name__ == '__main__':\n",
    "    api_client = ApiClient(RequestConnection(requests))\n",
    "    \n",
    "    data = api_client.get_data('https://api.privatbank.ua/p24api/pubinfo?exchange&coursid=11')\n",
    "    pretty_view(data_adapter(data))\n"
   ]
  },
  {
   "cell_type": "code",
   "execution_count": null,
   "metadata": {},
   "outputs": [],
   "source": []
  },
  {
   "cell_type": "markdown",
   "metadata": {},
   "source": []
  }
 ],
 "metadata": {
  "kernelspec": {
   "display_name": "Python 3",
   "language": "python",
   "name": "python3"
  },
  "language_info": {
   "codemirror_mode": {
    "name": "ipython",
    "version": 3
   },
   "file_extension": ".py",
   "mimetype": "text/x-python",
   "name": "python",
   "nbconvert_exporter": "python",
   "pygments_lexer": "ipython3",
   "version": "3.12.2"
  }
 },
 "nbformat": 4,
 "nbformat_minor": 2
}
