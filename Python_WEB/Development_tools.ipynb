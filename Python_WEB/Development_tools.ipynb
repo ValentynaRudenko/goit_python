{
 "cells": [
  {
   "cell_type": "markdown",
   "metadata": {},
   "source": [
    "# Pipenv"
   ]
  },
  {
   "cell_type": "markdown",
   "metadata": {},
   "source": [
    "## Встановлення Pipenv"
   ]
  },
  {
   "cell_type": "code",
   "execution_count": null,
   "metadata": {},
   "outputs": [],
   "source": [
    "pip install pipenv --user"
   ]
  },
  {
   "cell_type": "markdown",
   "metadata": {},
   "source": [
    "## Робота з віртуальними середовищем Pipenv"
   ]
  },
  {
   "cell_type": "markdown",
   "metadata": {},
   "source": [
    "Для створення середовища читає ім'я папки, в якій працює і увесь шлях до неї. Всі віртуальні середовища зберігаються в одному місці (залежить від ОС) і `Pipenv` автоматично створює нове середовище або використовує створене, залежно від папки, де ви працюєте.\n",
    "\n",
    "Коли потрібно явно вказати, що ви працюєте в проекті, і потрібно створити для проекту середовище з конкретною версією Python, можна виконати команду:\n",
    "\n",
    "`    pipenv --python 3.7`\n",
    "\n",
    "\n",
    "Цією командою ми вказуємо, що у цьому проекті потрібно створити віртуальне середовище з Python версією 3.7.\n",
    "\n",
    "Під капотом Pipenv використовує `venv` для створення віртуальних середовищ. Тому ви можете використовувати створене віртуальне середовище і без pipenv, якщо потрібно."
   ]
  },
  {
   "cell_type": "markdown",
   "metadata": {},
   "source": [
    "Якщо потрібно видалити середовище, можна скористатися командою:\n",
    "\n",
    "`pipenv --rm`\n"
   ]
  },
  {
   "cell_type": "markdown",
   "metadata": {},
   "source": [
    "## Встановлення нових пакетів\n"
   ]
  },
  {
   "cell_type": "markdown",
   "metadata": {},
   "source": [
    "Для встановлення пакетів, використовуючи `pipenv`, можна виконати команду:\n",
    "\n",
    "`pipenv install Flask`\n",
    "\n",
    "\n",
    "Ця команда встановить **найновішу версію Flask**. Якщо потрібно встановити якусь конкретну версію:\n",
    "\n",
    "`pipenv install Flask==0.6.1`\n",
    "\n",
    "\n",
    "Ця команда встановить Flask версії 0.6.1.\n",
    "\n",
    "Зверніть увагу, що під час роботи pipenv створює два файли: `Pipfile` та `Pipfile.lock`.\n",
    "\n",
    "- `Pipfile` містить інформацію про те, звідки та яку версію пакета потрібно встановити. \n",
    "- `Pipfile.lock` ж зберігає інформацію про всі (включаючи залежність) встановлені пакети в середовищі. \n",
    "\n",
    "Для встановлення пакетів `pipenv` зчитує хеш пакета та записує його у спеціальний файл `Pipfile.lock` разом із версією пакета. Це робиться для того, щоб бути на 100% впевненим, що версія пакета, яку ви використовуєте, точно відповідає, якщо зміниться хоча б один біт, це не залишиться непоміченим.\n",
    "\n",
    "Через це встановлення пакетів займає більше часу, ніж просто використання `pip`. \n",
    "\n",
    "Крім того, `pipenv` \n",
    "- автоматично перевіряє всі залежності пакетів, що встановлюються, \n",
    "- і намагається автоматично встановити найновішу сумісну версію всіх пакетів. \n",
    "- Це дає вам можливість розробляти програму, використовуючи найновіші пакети без додаткових зусиль.\n",
    "\n",
    "Буває, що для розробки вам потрібно встановити пакет, який не входить у фінальне постачання, але потрібний для розробки, наприклад `iPython`.\n",
    "\n",
    "Спеціально для такої ситуації pipenv дає можливість встановлювати пакети в середовищі, вказавши, що вони не повинні входити до фінального постачання:\n",
    "\n",
    "`pipenv install ipython --dev`\n",
    "\n",
    "\n",
    "Ця команда встановить пакет `iPython`, але відмітить його та всі його залежності як необов'язкові, і їх можна буде не встановлювати на цільовому пристрої.\n"
   ]
  },
  {
   "cell_type": "markdown",
   "metadata": {},
   "source": [
    "## Розгортання віртуального середовища\n"
   ]
  },
  {
   "cell_type": "markdown",
   "metadata": {},
   "source": [
    "Коли ви вже маєте `Pipfile` та `Pipfile.lock` і вам потрібно встановити всі пакети у нове (чисте) віртуальне середовище, ви можете виконати:\n",
    "\n",
    "- `pipenv install` — для встановлення найновіших версій пакетів з `Pipfile` в середовище з можливим оновленням `Pipfile.lock` (якщо вийшли нові версії пакетів, ніж зазначені в `Pipfile.lock`).\n",
    "- `pipenv install --dev` — те саме, але встановляться також пакети, відмічені як `--dev`, для розробки.\n",
    "- `pipenv sync` - встановить суворо вказані в `Pipfile.lock` версії пакетів і не перевірятиме наявність новіших версій.\n",
    "- `pipenv install --deploy` - встановить версії точно такі, як зазначено в `Pipfile.lock` і, якщо хеші пакетів не збігаються з хешами з `Pipfile.lock`, або версія `Python` не збігається, видасть помилку та припинить встановлення.\n",
    "- `pipenv install --system` — те саме, що й pipenv `install`, але встановить пакети глобально у систему, а не у віртуальне середовище."
   ]
  },
  {
   "cell_type": "markdown",
   "metadata": {},
   "source": [
    "## Видалення та оновлення пакетів\n"
   ]
  },
  {
   "cell_type": "markdown",
   "metadata": {},
   "source": [
    "Для видалення пакета з середовища та всіх його залежностей ви можете виконати \n",
    "- `pipenv uninstall package_name`. \n",
    "\n",
    "pipenv вміє стежити за залежностями та, на відміну від pip, може виконати видалення, не залишаючи за собою \"сміття\" пакетів, які встановлювалися як залежності, але більше не потрібні.\n",
    "\n",
    "Для оновлення всіх пакетів на найсвіжіші версії ви можете виконати \n",
    "- `pipenv update`.\n",
    "\n",
    "Під час встановлення або оновлення пакетів можуть виникати ті самі конфлікти версій різних пакетів залежностей. Наприклад, пакет A вимагає встановити botocore версії не вище 0.6.1, водночас boto3 вимагає, щоб botocore був не старшим 1.0.0. Це проблема, яку стандартними засобами Python не вирішити.\n",
    "\n",
    "pipenv може вивести вам список всіх пакетів та їх залежностей, що, звичайно, допоможе усунути конфлікти залежностей. Для цього потрібно виконати - `pipenv graph`.\n",
    "\n",
    "Окремо варто згадати, що якщо ви встановлювали пакети в середовище `pipenv` за допомогою `pip` і потрібно видалити все зайве, ви можете виконати `pipenv clean` і все, що не вказано у `Pipfile.lock`, буде видалено."
   ]
  },
  {
   "cell_type": "markdown",
   "metadata": {},
   "source": [
    "# Менеджер Poetry"
   ]
  },
  {
   "cell_type": "markdown",
   "metadata": {},
   "source": [
    "`Poetry` - це інструмент для управління залежностями у `Python` проектах (аналог вбудованого `pip`). Він схожий за функціоналом на розглянутий раніше `pipenv`."
   ]
  },
  {
   "cell_type": "markdown",
   "metadata": {},
   "source": [
    "`Poetry` дозволяє ефективно управляти залежностями та пакетами в `Python`. \n",
    "- Він виконує ту саму роль, що й `setup.py` або `pipenv`, але має більшу гнучкість і функціональність. \n",
    "- Ви можете оголосити бібліотеки, від яких залежить ваш проект, у файлі `pyproject.toml`. \n",
    "- Після цього `poetry` встановлюватиме або оновлюватиме їх за вашою вимогою. \n",
    "- Крім того, цей інструмент дозволяє **інкапсулювати робочий проект в ізольоване середовище**. \n",
    "- Нарешті, ви можете використати `poetry` для **прямої публікації вашого пакету на Pypi**.\n",
    "\n",
    "Використання файлів `pypoproject.toml` та `poetry.lock` робить його схожим на `Node Package Manager (npm) для Node.js.`"
   ]
  },
  {
   "cell_type": "markdown",
   "metadata": {},
   "source": [
    "## Встановлення"
   ]
  },
  {
   "cell_type": "markdown",
   "metadata": {},
   "source": [
    "Встановити poetry можна через Windows (Powershell)\n",
    "\n",
    "`(Invoke-WebRequest -Uri https://install.python-poetry.org -UseBasicParsing).Content | py -`\n",
    "\n",
    "\n",
    "**Poetry можна встановити вручну за допомогою pip та модуля venv. Діючи таким чином, ви, по суті, виконаєте кроки, які виконує офіційний встановлювач.**\n",
    "\n",
    "```\n",
    "python3 -m venv $VENV_PATH\n",
    "$VENV_PATH/bin/pip install -U pip setuptools\n",
    "$VENV_PATH/bin/pip install poetry\n",
    "```\n",
    "\n",
    "Poetry буде доступний за адресою `$VENV_PATH/bin/poetry` і може бути викликаний напряму або за символічним посиланням в іншому місці. Щоб видалити Poetry, `просто видаліть весь каталог $VENV_PATH.`\n",
    "\n",
    "Створення нового проекту\n",
    "​\n",
    "Після встановлення ми можемо створювати \"***poetry-проекти***\" за допомогою команди `poetry new <ім'я проекту>`.\n",
    "\n",
    "Припустимо, що ми ввели команду `poetry new solution`, тоді ми отримаємо наступну структуру каталогів:\n",
    "\n",
    "- ├── `solution`\n",
    "    - └── `__init__.py`\n",
    "- ├── pyproject.toml\n",
    "- ├── README.rst\n",
    "- └── `tests`\n",
    "    - ├── `__init__.py`\n",
    "    - └── test_solution.py\n",
    "\n",
    "\n",
    "- Ми бачимо, що у проекті `solution` був створений однойменний пакет - директорія `solution` з відповідним `__init__.py`. \n",
    "    -   Будь-який poetry-проект завжди **містить хоча б один пакет.**\n",
    "- Окрім пакету `solution`, у проекті вже є пакет `tests` з першим тестом і ми повинні розуміти, що справжні проекти завжди мають тести.\n",
    "- У файлі `README.rst` повинен бути опис проекту. Це файл формату `reStructuredText`.\n",
    "- Як бачимо `Poetry` автоматично створив усі необхідні файли для майбутнього пакета, \n",
    "- але найбільший інтерес представляє файл під назвою `pyproject.toml`, цей файл - просунута альтернатива `requirements.txt`.\n",
    "\n",
    "Вміст файлу `pyproject.toml` буде наступним:\n",
    "\n",
    "```[tool.poetry]\n",
    "name = \"solution\"\n",
    "version = \"0.1.0\"\n",
    "description = \"\"\n",
    "authors = [\"FirstName LastName <youremail@gmail.com>\"]\n",
    "\n",
    "[tool.poetry.dependencies]\n",
    "python = \"^3.9\"\n",
    "\n",
    "[tool.poetry.dev-dependencies]\n",
    "pytest = \"^5.2\"\n",
    "\n",
    "[build-system]\n",
    "requires = [\"poetry-core>=1.0.0\"]\n",
    "build-backend = \"poetry.core.masonry.api\"\n",
    "\n",
    "```\n",
    "Формат файлу `TOML`. Розділ `tool.poetry` призначений **для опису проекту**: \n",
    "- назва, \n",
    "- версія, \n",
    "- коротка інформація про проект тощо. \n",
    "- Далі слідує `tool.poetry.dependencies`, саме тут вказані всі `production` залежності. \n",
    "- Розділ `tool.poetry.dev-dependencies` призначений **для залежностей, які використовуються під час розробки**, наприклад `pytest` для тестів.\n"
   ]
  },
  {
   "cell_type": "markdown",
   "metadata": {},
   "source": [
    "## Ініціалізація вже існуючого проекту"
   ]
  },
  {
   "cell_type": "markdown",
   "metadata": {},
   "source": [
    "​\n",
    "Щоб ініціалізувати poetry у вже готовому проекті, потрібно виконати команду:\n",
    "\n",
    "`poetry init`\n",
    "\n",
    "\n",
    "Після цього буде запущено процес опитування щось на зразок зазначеного нижче:\n",
    "\n",
    "```\n",
    "This command will guide you through creating your pyproject.toml config.\n",
    "\n",
    "Package name [test_poetry]:  \n",
    "Version [0.1.0]:  \n",
    "Description []:  \n",
    "Author [FirstName LastName <youremail@gmail.com>, n to skip]:  \n",
    "License []:  \n",
    "\n",
    "Would you like to define your main dependencies interactively? (yes/no) [yes]\n",
    "You can specify a package in the following forms:\n",
    "  - A single name (requests)\n",
    "  - A name and a constraint (requests@^2.23.0)\n",
    "  - A git url (git+https://github.com/python-poetry/poetry.git)\n",
    "  - A git url with a revision (git+https://github.com/python-poetry/poetry.git#develop)\n",
    "  - A file path (../my-package/my-package.whl)\n",
    "  - A directory (../my-package/)\n",
    "  - A url (https://example.com/packages/my-package-0.1.0.tar.gz)\n",
    "\n",
    "Search for package to add (or leave blank to continue):\n",
    "\n",
    "Would you like to define your development dependencies interactively? (yes/no) [yes]\n",
    "Search for package to add (or leave blank to continue): \n",
    "\n",
    "Generated file\n",
    "\n",
    "[tool.poetry]\n",
    "name = \"test_poetry\"\n",
    "version = \"0.1.0\"\n",
    "description = \"\"\n",
    "authors = [\"FirstName LastName <youremail@gmail.com>\"]\n",
    "\n",
    "[tool.poetry.dependencies]\n",
    "python = \"3.10\"\n",
    "\n",
    "[tool.poetry.dev-dependencies]\n",
    "\n",
    "[build-system]\n",
    "requires = [\"poetry-core>=1.0.0\"]\n",
    "build-backend = \"poetry.core.masonry.api\"\n",
    "\n",
    "\n",
    "Do you confirm generation? (yes/no) [yes]\n",
    "```\n",
    "\n",
    "Для активації віртуального середовища необхідно виконати команду:\n",
    "\n",
    "`poetry shell`"
   ]
  },
  {
   "cell_type": "markdown",
   "metadata": {},
   "source": [
    "## Основні команди"
   ]
  },
  {
   "cell_type": "markdown",
   "metadata": {},
   "source": [
    "`poetry add aiosqlite` - Щоб додати до проекту залежність у вигляді aiosqlite\n",
    "- Poetry, при цьому, автоматично створить віртуальне середовище, якщо воно не було створено. \n",
    "- Всі середовища знаходяться на шляху `~/.cache/pypoetry/virtualenvs`\n",
    "- Після команди у файлі `pyproject.toml` повинен з'явитися запис у розділі залежностей `tool.poetry.dependencies`\n"
   ]
  },
  {
   "cell_type": "markdown",
   "metadata": {},
   "source": [
    "`poetry add pytest --dev` - Щоб додати залежність для розробки, достатньо вказати прапорець `--dev`\n",
    "- Цей пакет повинен потрапити до pyproject.toml у розділ tool.poetry.dev-dependencies]\n",
    "\n",
    "`poetry remove aiosqlite` - Щоб видалити залежність, потрібно виконати команду `remove`\n",
    "`poetry install` - Якoо потрібно підтягнути існуючий проект і встановити його залежність для локальної розробки\n",
    "\n",
    "Якщо під час запуску встановлення poetry вже є файл `poetry.lock`, а також файл `pyproject.toml`, це означає, що ви виконали команду встановлення раніше, або хтось ще у проекті виконав команду встановлення та зафіксував файл `poetry.lock`.\n",
    "\n",
    "У будь-якому разі запуск встановлення за наявності файлу `poetry.lock` дозволяє та встановлює всі залежності, які ви вказали в `pyproject.toml`, але `poetry` **використовує точні версії, перелічені в `poetry.lock`**, щоб гарантувати, що версії пакетів не суперечать всім, хто працює над вашим проектом.\n",
    "\n",
    "\n",
    "`poetry update` - Оновити всі залежності до останніх версій\n",
    "`poetry show` - Щоб переглянути всі доступні пакети, можна використовувати команду show.\n"
   ]
  },
  {
   "cell_type": "markdown",
   "metadata": {},
   "source": [
    "\n",
    "### Версії залежностей\n",
    "​\n",
    "При встановленні пакета можна вказати точну версію проекту, наприклад:\n",
    "\n",
    "```\n",
    "[tool.poetry.dependencies]\n",
    "pygame = \"2.1.0\"\n",
    "```\n",
    "\n",
    "\n"
   ]
  },
  {
   "cell_type": "markdown",
   "metadata": {},
   "source": [
    "Але іноді є необхідність вказати діапазон версій пакета, щоб отримувати оновлення, у такому разі є кілька способів вказати діапазон за допомогою спеціальних символів ^~*:\n",
    "\n",
    "```\n",
    "[tool.poetry.dependencies]\n",
    "pygame = \"^2.1\"\n",
    "pygame = \"~2.1\"\n",
    "pygame = \"2.1.*\"\n",
    "pygame = \"*\"\n",
    "```\n"
   ]
  },
  {
   "cell_type": "markdown",
   "metadata": {},
   "source": [
    "Ось які діапазони приймають ці префікси версій при встановленні або оновленні такої залежності:\n",
    "\n",
    "![dependencies](<https://s3.eu-north-1.amazonaws.com/lms.goit.files/5afefc0b-cb21-4859-a1a2-eb7c2e88accfScreenshot_20.png>)"
   ]
  },
  {
   "cell_type": "markdown",
   "metadata": {},
   "source": [
    "## Відлагодження застосунку"
   ]
  },
  {
   "cell_type": "markdown",
   "metadata": {},
   "source": [
    "Термін відлагодження насамперед означає **усунення помилок у коді.** \n",
    "\n",
    "Робиться це по-різному: \n",
    "- шляхом перевірки коду на наявність друкарських помилок, \n",
    "- за допомогою аналізатора коду, \n",
    "- за допомогою профілювальника продуктивності. \n",
    "- Але, насамперед, відлагодження здійснюється за допомогою відлагоджувача.\n",
    "\n",
    "**Відлагоджувач** - це вузькоспеціалізований засіб розробки, який приєднується до працюючого застосунку та дозволяє перевіряти код.\n",
    "\n",
    "Потужним інструментом Python є `debugger`, який дає можливість \n",
    "- виконувати застосунок порядково \n",
    "- та зупиняти виконання в будь-який момент часу, щоб перевірити стан пам'яті в цей момент, значення змінних, доступність модулів тощо. \n",
    "- Всі популярні IDE мають вбудовані інструменти для зупинення виконання застосунку на вказаному рядку коду та/або порядкового виконання коду.\n",
    "\n",
    "Ці інструменти використовують `pdb` — пакет для повноцінного відлагодження застосунку.\n",
    "- Пакет підтримує точки зупинки виконання застосунку та покрокове виконання скрипту.\n",
    "- Точки зупинки можна задавати у самому модулі. \n",
    "- Запускати дебагер можна з консолі:\n",
    "\n",
    "`python3 -m pdb myscript.py`\n",
    "\n",
    "\n",
    "Або з інтерпретатора Python:\n",
    "\n",
    "```\n",
    "import pdb\n",
    "import mymodule\n",
    "pdb.run('mymodule.test()')\n",
    "```\n",
    "\n",
    "\n",
    "Ви, звичайно, можете скористатися `pdb` напряму, але рекомендується вивчити документацію до своєї IDE і використовувати зручний дебагер саме у ній.\n",
    "\n",
    "Розділи документацій популярних IDE:\n",
    "- [Visual Studio Code](https://code.visualstudio.com/docs/python/debugging)\n",
    "- [PyCharm](https://www.jetbrains.com/help/pycharm/debugging-your-first-python-application.html)\n",
    "- [PyCharm частина два](https://www.jetbrains.com/help/pycharm/part-1-debugging-python-code.html)\n",
    "\n"
   ]
  },
  {
   "cell_type": "markdown",
   "metadata": {},
   "source": [
    "## Логування застосунку"
   ]
  },
  {
   "cell_type": "markdown",
   "metadata": {},
   "source": [
    "Python має дуже потужний пакет логування, який так і називається — `logging`. \n",
    "- Цей пакет дає можливість налаштувати журнал для застосунку в пару рядків або налаштувати складні багаторівневі механізми логування. \n",
    "- Пакет `logging` — це дуже гнучкий та потужний інструмент, і знати про його можливості просто обов'язково для будь-якого Python-розробника.\n",
    "\n",
    "Приклад налаштування логування в консоль:"
   ]
  },
  {
   "cell_type": "code",
   "execution_count": 1,
   "metadata": {},
   "outputs": [
    {
     "name": "stderr",
     "output_type": "stream",
     "text": [
      "WARNING:root:This is a warning!\n"
     ]
    }
   ],
   "source": [
    "import logging\n",
    "\n",
    "# print a log message to the console.\n",
    "logging.warning('This is a warning!')\n"
   ]
  },
  {
   "cell_type": "markdown",
   "metadata": {},
   "source": [
    "В результаті в консолі:\n",
    "\n",
    "`WARNING:root:This is a warning!`\n"
   ]
  },
  {
   "cell_type": "markdown",
   "metadata": {},
   "source": [
    "Трохи змінимо інформацію, що логується:"
   ]
  },
  {
   "cell_type": "code",
   "execution_count": 2,
   "metadata": {},
   "outputs": [
    {
     "name": "stderr",
     "output_type": "stream",
     "text": [
      "WARNING:root:An example message.\n",
      "WARNING:root:Another message\n"
     ]
    }
   ],
   "source": [
    "import logging\n",
    "\n",
    "logging.basicConfig(\n",
    "    format='%(asctime)s %(message)s',\n",
    "    level=logging.DEBUG,\n",
    "        handlers=[\n",
    "        logging.FileHandler(\"program.log\"),\n",
    "        logging.StreamHandler()\n",
    "    ])\n",
    "logging.warning('An example message.')\n",
    "logging.warning('Another message')\n"
   ]
  },
  {
   "cell_type": "markdown",
   "metadata": {},
   "source": [
    "На відміну від функції print, логер вміє:\n",
    "\n",
    "- логувати із зазначенням модуля, функції, у якій сталася подія.\n",
    "- логувати одночасно в кілька місць (файл, консоль, віддалений хост тощо).\n",
    "- логувати з кількох потоків у потокобезпечному режимі (повідомлення будуть цілісними і не змішуються, як це може бути при використанні print).\n",
    "- змінювати рівні логування (робити логування більш/менш детальним), змінюючи лише один параметр для проекту.\n",
    "- логувати у файли в циклічному режимі (перезаписуючи найстаріший або після досягнення певного розміру)."
   ]
  }
 ],
 "metadata": {
  "kernelspec": {
   "display_name": "Python 3",
   "language": "python",
   "name": "python3"
  },
  "language_info": {
   "codemirror_mode": {
    "name": "ipython",
    "version": 3
   },
   "file_extension": ".py",
   "mimetype": "text/x-python",
   "name": "python",
   "nbconvert_exporter": "python",
   "pygments_lexer": "ipython3",
   "version": "3.12.2"
  }
 },
 "nbformat": 4,
 "nbformat_minor": 2
}
