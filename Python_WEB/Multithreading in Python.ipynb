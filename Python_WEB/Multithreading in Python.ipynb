{
 "cells": [
  {
   "cell_type": "markdown",
   "metadata": {},
   "source": [
    "# Вступ до багатопотоковості"
   ]
  },
  {
   "cell_type": "markdown",
   "metadata": {},
   "source": [
    "Код, що виконує паралельно кілька завдань, називається асинхронним. \n",
    "\n",
    "Найпростіший спосіб реалізувати асинхронність — це виконувати завдання в окремих потоках всередині одного процесу.\n",
    "\n",
    "**Процес** — `область пам'яті` (віртуальна) + `набір ресурсів` + `1 і більше потоків`.\n",
    "\n",
    "**Потік** — `послідовність інструкцій та системних викликів` всередині процесу.\n",
    "\n",
    "Всі потоки мають доступ до всіх ресурсів свого процесу. Усі процеси ізольовані один від одного, і будь-яка міжпроцесна взаємодія відбувається тільки через операції введення/виведення (системні виклики)."
   ]
  },
  {
   "cell_type": "markdown",
   "metadata": {},
   "source": [
    "## IO and CPU bound tasks"
   ]
  },
  {
   "cell_type": "markdown",
   "metadata": {},
   "source": [
    "### IO tasks\n",
    "\n",
    "Завдання, які виконують операції введення/виведення (читання/запис файлів, запити в мережі тощо), називаються **IO (Input Output)-bound** завданнями. Домогтися паралелізму виконання **IO** завдань у Python можна, використовуючи потоки.\n",
    "\n",
    "Однак потрібно пам'ятати, що асинхронний код завжди на порядок складніший для розуміння та відлагодження. \n",
    "- Для багатопотокових застосунків складно писати тести та складно перевіряти всілякі ситуації, які відбуваються рідко та залежать від порядку викликів у різних потоках. \n",
    "- Загальне правило для програмування будь-якою мовою: **якщо є можливість обійтися синхронним кодом, то так і потрібно зробити.**"
   ]
  },
  {
   "cell_type": "markdown",
   "metadata": {},
   "source": [
    "### CPU tasks\n",
    "Інший тип блокуючих викликів — це важкі з точки зору обчислень операції. \n",
    "\n",
    "Такі завдання називаються **CPU-bound** завданнями. \n",
    "- Як і для IO-bound завдань, можна винести виконання блокуючих операцій (складних обчислень) в окремий потік, щоб застосунок продовжував взаємодіяти з користувачем, здійснюючи обчислення.\n",
    "\n",
    "Загалом, операційна система передає управління потокам (як і передача управління процесами). Це означає, що будь-якої миті, перед будь-яким викликом ОС (Операційна Система) може призупинити виконання коду потоку та розпочати виконувати код іншого потоку, щоб потім так само далі призупинити і його для передачі управління.\n"
   ]
  },
  {
   "cell_type": "markdown",
   "metadata": {},
   "source": [
    "[Гарна стаття](https://medium.com/swift-india/concurrency-parallelism-threads-processes-async-and-sync-related-39fd951bc61d) про асинхронний код."
   ]
  },
  {
   "cell_type": "markdown",
   "metadata": {},
   "source": [
    "## Global Interpreter Lock (GIL)"
   ]
  },
  {
   "cell_type": "markdown",
   "metadata": {},
   "source": [
    "Потоки можуть виконуватися дійсно паралельно (якщо ядер процесора більше 1), процеси — тим більше. \n",
    "\n",
    "Але у Python є механізм, який примусово блокує виконання коду різними потоками одного Python процесу в один і той самий час.\n",
    "\n",
    "**Тільки один потік всередині процесу Python виконується, всі інші (якщо такі є) знаходяться в режимі 'Sleep'.**\n",
    "Операції, пов'язані з введенням/виведенням **(системні виклики) не блокуються GIL**, але не їх послідовність.\n",
    "\n",
    "Це означає, що якщо ви зробите кілька **IO** викликів у різних потоках, то вам не гарантується черговість завершення цих потоків, але гарантується, що коли виконується код будь-якого з потоків, всі інші потоки чекають черги і нічого не роблять. Це буде так, навіть якщо код виконується на сучасному процесорі з кількома ядрами"
   ]
  },
  {
   "cell_type": "markdown",
   "metadata": {},
   "source": [
    "### Чому в Python є GIL?\n",
    "\n",
    "- Простий і зрозумілий збирач сміття.\n",
    "- **Виключає можливість одночасного доступу до ресурсів/пам'яті**. \n",
    "- Немає потреби враховувати особливості конкретної ОС для обробки таких ситуацій.\n",
    "- Це спадщина епохи одноядерних процесорів, коли додаткові потоки/процеси уповільнювали виконання програми.\n",
    "\n",
    "Python розроблявся в епоху одноядерних процесорів і навіть теоретично ніхто тоді не міг припустити дійсне одночасне виконання коду в різних потоках. Через це було зроблено низку архітектурних рішень, які вже не змінити, і на Python накладено обмеження GIL.\n"
   ]
  },
  {
   "cell_type": "markdown",
   "metadata": {},
   "source": [
    "### Як обійти GIL:\n",
    "\n",
    "- Написати частину коду, яку потрібно запускати паралельно, на Python і використовувати потоки.\n",
    "- Використовувати Multiprocessing."
   ]
  },
  {
   "cell_type": "markdown",
   "metadata": {},
   "source": [
    "### Чому не потрібно цього робити:\n",
    "\n",
    "- Python — скриптова мова і швидкість роботи не її сильна сторона. Якщо потрібна швидкість, то, можливо, є сенс розглянути інший інструмент.\n",
    "- Створення процесів використовує деяку кількість ресурсів системи (пам'ять та процесорний час).\n",
    "- Перемикання між процесами також використовує процесорний час."
   ]
  },
  {
   "cell_type": "markdown",
   "metadata": {},
   "source": [
    "## Створення потоків у Python\n",
    "\n",
    "[Документація](https://docs.python.org/3/library/concurrency.html) про доступні в Python механізми написання поток"
   ]
  },
  {
   "cell_type": "markdown",
   "metadata": {},
   "source": [
    "### Потік як клас\n",
    "​\n",
    "- Щоб створити потік, найпростіше імпортувати клас `Thread` з модуля `threading` і наслідуватись від цього класу. \n",
    "- Далі вам потрібно визначити метод `run` у вашого класу, **цей метод буде виконуватись в окремому потоці**. \n",
    "- Щоб розпочати виконання коду в окремому потоці, потрібно викликати метод `start,` який визначений у `Thread`. \n",
    "\n",
    "Давайте напишемо клас `MyThread`, що в окремому потоці спить вказаний час і після цього виводить у консоль 'Wake up!':\n"
   ]
  },
  {
   "cell_type": "code",
   "execution_count": 3,
   "metadata": {},
   "outputs": [
    {
     "name": "stdout",
     "output_type": "stream",
     "text": [
      "Usefull message\n"
     ]
    },
    {
     "name": "stderr",
     "output_type": "stream",
     "text": [
      "Thread-13 Wake up!\n",
      "Thread-11 Wake up!\n",
      "Thread-14 Wake up!\n",
      "Thread-12 Wake up!\n",
      "Thread-13 args: ('Count thread - 3',)\n",
      "Thread-11 args: ('Count thread - 1',)\n",
      "Thread-14 args: ('Count thread - 4',)\n",
      "Thread-12 args: ('Count thread - 2',)\n"
     ]
    }
   ],
   "source": [
    "from threading import Thread\n",
    "import logging\n",
    "from time import sleep\n",
    "\n",
    "\n",
    "class MyThread(Thread):\n",
    "    def __init__(self, group=None, target=None, name=None, args=(), kwargs=None, *, daemon=None):\n",
    "        super().__init__(group=group, target=target, name=name, daemon=daemon)\n",
    "        self.args = args\n",
    "        self.kwargs = kwargs\n",
    "\n",
    "    def run(self) -> None:\n",
    "        sleep(2)\n",
    "        logging.debug('Wake up!')\n",
    "        logging.debug(f\"args: {self.args}\")\n",
    "\n",
    "\n",
    "if __name__ == '__main__':\n",
    "    logging.basicConfig(level=logging.DEBUG, format='%(threadName)s %(message)s')\n",
    "    for i in range(5):\n",
    "        thread = MyThread(args=(f\"Count thread - {i}\",))\n",
    "        thread.start()\n",
    "    print('Usefull message')\n"
   ]
  },
  {
   "cell_type": "markdown",
   "metadata": {},
   "source": [
    "### Потік як функтор"
   ]
  },
  {
   "cell_type": "markdown",
   "metadata": {},
   "source": [
    "Є інший спосіб виконати код окремого потоку. Для цього потрібно, щоб код виконання був функтором (функцією або класом, який має метод __call__). Тоді об'єкт можна передати як іменований аргумент target у Thread"
   ]
  },
  {
   "cell_type": "code",
   "execution_count": 2,
   "metadata": {},
   "outputs": [
    {
     "name": "stdout",
     "output_type": "stream",
     "text": [
      "Some stuff\n"
     ]
    },
    {
     "name": "stderr",
     "output_type": "stream",
     "text": [
      "Thread-9 Wake up!\n",
      "Thread-10 Wake up!\n",
      "Thread-10 args: ('Count thread - 0',)\n"
     ]
    }
   ],
   "source": [
    "from threading import Thread\n",
    "from time import sleep\n",
    "import logging\n",
    "\n",
    "\n",
    "class UsefulClass():\n",
    "    def __init__(self, second_num):\n",
    "        self.delay = second_num\n",
    "\n",
    "    def __call__(self):\n",
    "        sleep(self.delay)\n",
    "        logging.debug('Wake up!')\n",
    "\n",
    "\n",
    "if __name__ == '__main__':\n",
    "    logging.basicConfig(level=logging.DEBUG, format='%(threadName)s %(message)s')\n",
    "    t2 = UsefulClass(2)\n",
    "    thread = Thread(target=t2)\n",
    "    thread.start()\n",
    "    print('Some stuff')\n"
   ]
  },
  {
   "cell_type": "markdown",
   "metadata": {},
   "source": [
    "### Потік у функції"
   ]
  },
  {
   "cell_type": "markdown",
   "metadata": {},
   "source": [
    "У процесі створення екземпляра класу `Thread` можна передати аргументу target функцію та передати їй аргументи\n",
    "\n",
    "Зверніть увагу, що аргументи, які потрібно передати у функцію, передаються як `кортеж` `args` у `Thread`. Іменовані аргументи для функції можна так само передати як `словник` `kwargs` у `Thread`."
   ]
  },
  {
   "cell_type": "code",
   "execution_count": 4,
   "metadata": {},
   "outputs": [
    {
     "name": "stderr",
     "output_type": "stream",
     "text": [
      "Thread-15 (example_work) Wake up!\n"
     ]
    },
    {
     "name": "stderr",
     "output_type": "stream",
     "text": [
      "Thread-16 (example_work) Wake up!\n",
      "Thread-17 (example_work) Wake up!\n",
      "Thread-18 (example_work) Wake up!\n",
      "Thread-19 (example_work) Wake up!\n"
     ]
    }
   ],
   "source": [
    "from threading import Thread\n",
    "from time import sleep\n",
    "import logging\n",
    "\n",
    "\n",
    "def example_work(delay):\n",
    "    sleep(delay)\n",
    "    logging.debug('Wake up!')\n",
    "\n",
    "\n",
    "if __name__ == '__main__':\n",
    "    logging.basicConfig(level=logging.DEBUG, format='%(threadName)s %(message)s')\n",
    "    for i in range(5):\n",
    "        thread = Thread(target=example_work, args=(i,))\n",
    "        thread.start()\n"
   ]
  },
  {
   "cell_type": "markdown",
   "metadata": {},
   "source": [
    "### Очікування виконання потоку"
   ]
  },
  {
   "cell_type": "markdown",
   "metadata": {},
   "source": [
    "Коли потрібно в основному застосунку дочекатися виконання потоку, можна скористатися блокуючим методом `join`.\n",
    "\n",
    "Основний потік дочекався `[el.join() for el in threads]`, доки завершаться всі потоки thread зі списку `threads`, і тільки потім вивів `End program`:"
   ]
  },
  {
   "cell_type": "code",
   "execution_count": 5,
   "metadata": {},
   "outputs": [
    {
     "name": "stderr",
     "output_type": "stream",
     "text": [
      "MainThread Start program\n",
      "Thread-20 (example_work) Wake up!\n",
      "Thread-21 (example_work) Wake up!\n",
      "Thread-22 (example_work) Wake up!\n",
      "Thread-23 (example_work) Wake up!\n",
      "Thread-24 (example_work) Wake up!\n",
      "MainThread End program\n"
     ]
    }
   ],
   "source": [
    "from threading import Thread\n",
    "import logging\n",
    "from time import sleep\n",
    "\n",
    "\n",
    "def example_work(params):\n",
    "    sleep(params)\n",
    "    logging.debug('Wake up!')\n",
    "\n",
    "\n",
    "if __name__ == '__main__':\n",
    "    logging.basicConfig(level=logging.DEBUG, format='%(threadName)s %(message)s')\n",
    "    logging.debug('Start program')\n",
    "    threads = []\n",
    "    for i in range(5):\n",
    "        thread = Thread(target=example_work, args=(i,))\n",
    "        thread.start()\n",
    "        threads.append(thread)\n",
    "\n",
    "    [el.join() for el in threads]\n",
    "\n",
    "    logging.debug('End program')\n"
   ]
  },
  {
   "cell_type": "markdown",
   "metadata": {},
   "source": [
    "Ви також можете перевірити — чи виконується потік, викликавши метод `is_alive`\n",
    "\n",
    "Це може бути корисним, якщо ви хочете перевіряти стан потоку самостійно і не блокувати застосунок в очікуванні завершення.:"
   ]
  },
  {
   "cell_type": "code",
   "execution_count": 6,
   "metadata": {},
   "outputs": [
    {
     "name": "stdout",
     "output_type": "stream",
     "text": [
      "True False\n"
     ]
    },
    {
     "name": "stderr",
     "output_type": "stream",
     "text": [
      "Thread-26 Wake up!\n",
      "Thread-25 Wake up!\n"
     ]
    },
    {
     "name": "stdout",
     "output_type": "stream",
     "text": [
      "False False\n",
      "After all...\n"
     ]
    }
   ],
   "source": [
    "from threading import Thread\n",
    "from time import sleep\n",
    "import logging\n",
    "\n",
    "\n",
    "class UsefulClass:\n",
    "    def __init__(self, second_num):\n",
    "        self.delay = second_num\n",
    "\n",
    "    def __call__(self):\n",
    "        sleep(self.delay)\n",
    "        logging.debug('Wake up!')\n",
    "\n",
    "\n",
    "if __name__ == '__main__':\n",
    "    logging.basicConfig(level=logging.DEBUG, format='%(threadName)s %(message)s')\n",
    "    t2 = UsefulClass(2)\n",
    "    thread = Thread(target=t2)\n",
    "    thread_locking = Thread(target=t2)\n",
    "\n",
    "    thread.start()\n",
    "    print(thread.is_alive(), thread_locking.is_alive())\n",
    "    thread_locking.start()\n",
    "    thread.join()\n",
    "    thread_locking.join()\n",
    "    print(thread.is_alive(), thread_locking.is_alive())\n",
    "    print('After all...')\n"
   ]
  },
  {
   "cell_type": "markdown",
   "metadata": {},
   "source": [
    "### Потоки Timer"
   ]
  },
  {
   "cell_type": "markdown",
   "metadata": {},
   "source": [
    "Екземпляри класу `Timer` починають працювати з деякою затримкою, яку визначає програміст. Крім того, ці потоки можна скасувати будь-якої миті в період затримки. Наприклад, ви передумали стартувати певний потік.\n",
    "\n",
    "Тут ми запланували виконання двох потоків, через 0.5 та 0.7 секунд. Але потім через 0.6 секунди скасували виконання другого потоку `second.cancel()`\n"
   ]
  },
  {
   "cell_type": "code",
   "execution_count": 10,
   "metadata": {},
   "outputs": [
    {
     "name": "stderr",
     "output_type": "stream",
     "text": [
      "MainThread Start timers\n",
      "MainThread End program\n"
     ]
    }
   ],
   "source": [
    "from threading import Timer\n",
    "import logging\n",
    "from time import sleep\n",
    "\n",
    "\n",
    "def example_work_():\n",
    "    logging.debug('Start!')\n",
    "\n",
    "\n",
    "if __name__ == '__main__':\n",
    "    logging.basicConfig(level=logging.DEBUG, format='%(threadName)s %(message)s')\n",
    "\n",
    "    first = Timer(0.3, example_work_)\n",
    "    first.name = 'First thread'\n",
    "    second = Timer(0.7, example_work_)\n",
    "    second.name = 'Second thread'\n",
    "    logging.debug('Start timers')\n",
    "    first.start()\n",
    "    second.start()\n",
    "    sleep(0.6)\n",
    "    second.cancel()\n",
    "\n",
    "    logging.debug('End program')\n"
   ]
  },
  {
   "cell_type": "markdown",
   "metadata": {},
   "source": [
    "## Контроль доступу до ресурсів"
   ]
  },
  {
   "cell_type": "markdown",
   "metadata": {},
   "source": [
    "Оскільки ОС може на будь-якому виклику перервати виконання потоку та передати контроль іншому потоку, ви не можете бути впевненим, що робота із загальним ресурсом буде коректно завершеною і ресурс не опиниться в невизначеному стані.\n"
   ]
  },
  {
   "cell_type": "markdown",
   "metadata": {},
   "source": [
    "### Lock, RLock"
   ]
  },
  {
   "cell_type": "markdown",
   "metadata": {},
   "source": [
    "Для цього є механізм блокування. \n",
    "\n",
    "У Python є два примітива блокувань: **Lock та RLock**. \n",
    "- `Lock` трохи швидший і більш низькорівневий, але він **не рекурсивний** \n",
    "     - і може бути ситуація потрапляння в `DeadLock`, коли виконання коду заблокується, кілька потоків чекатимуть, доки хтось віддасть `Lock`, а його ніхто ніколи вже не віддасть. Це і є ситуація, коли програма \"зависла\".\n",
    "- `RLock` трохи повільніший, зате **виключає взаємне блокування**. \n",
    "     - Рекомендується завжди використовувати саме його, якщо немає вагомих причин використовувати `Lock`.\n",
    "\n",
    "**NOTE**\n",
    "**Якщо провести аналогію з життя, то `Lock` це коли у кожного потоку один і той самий ключ і будь-який потік може відкрити замок, хто б його не закрив із потоків. З `RLock` ситуація трохи інша, у кожного потоку свій ключ і свій замок.**\n",
    "\n",
    "**Потік може відкрити лише свій замок своїм ключем і не відкриє замок, якщо його закрив інший потік.**\n"
   ]
  },
  {
   "cell_type": "code",
   "execution_count": 11,
   "metadata": {},
   "outputs": [
    {
     "name": "stderr",
     "output_type": "stream",
     "text": [
      "MainThread Started\n"
     ]
    },
    {
     "name": "stderr",
     "output_type": "stream",
     "text": [
      "Thread-35 (func) Done 2.0050466060638428\n",
      "Thread-36 (func) Done 4.012096643447876\n"
     ]
    }
   ],
   "source": [
    "from threading import Thread, RLock\n",
    "import logging\n",
    "from time import time, sleep\n",
    "\n",
    "lock = RLock()\n",
    "\n",
    "\n",
    "def func(locker, delay):\n",
    "    timer = time()\n",
    "    locker.acquire()\n",
    "    sleep(delay)\n",
    "    locker.release()\n",
    "    logging.debug(f'Done {time() - timer}')\n",
    "\n",
    "\n",
    "if __name__ == '__main__':\n",
    "    logging.basicConfig(level=logging.DEBUG, format='%(threadName)s %(message)s')\n",
    "    t1 = Thread(target=func, args=(lock, 2))\n",
    "    t2 = Thread(target=func, args=(lock, 2))\n",
    "    t1.start()\n",
    "    t2.start()\n",
    "    logging.debug('Started')\n"
   ]
  },
  {
   "cell_type": "markdown",
   "metadata": {},
   "source": [
    "#### Could you please explain me this code in simple words? \n",
    "How it works, what is the order of execution the lines of code and why?🙏"
   ]
  },
  {
   "cell_type": "markdown",
   "metadata": {},
   "source": [
    "Certainly! This code demonstrates the use of threading in Python to execute two functions concurrently. Here's a breakdown of how it works:\n",
    "\n",
    "1. We import necessary modules: `Thread` and `RLock` from `threading`, `logging`, `time`, and `sleep`.\n",
    "\n",
    "2. We define a `lock` object using `RLock()`. This is a reentrant lock that allows the same thread to acquire the lock multiple times.\n",
    "\n",
    "3. We define a function `func(locker, delay)` that simulates some task by acquiring the lock, sleeping for a specified duration (`delay`), and then releasing the lock. It also logs the time taken by the task.\n",
    "\n",
    "4. Inside the `if __name__ == '__main__':` block, we configure logging to display debug messages with thread names and their messages.\n",
    "\n",
    "5. We create two `Thread` objects (`t1` and `t2`) that target the `func` function. Each thread is passed the same lock object (`lock`) and a delay value of `2` seconds.\n",
    "\n",
    "6. We start both threads (`t1` and `t2`) using the `start()` method.\n",
    "\n",
    "7. Finally, we log a debug message indicating that the threads have started.\n",
    "\n",
    "The order of execution is as follows:\n",
    "\n",
    "- The main thread starts by configuring logging.\n",
    "- It then creates two threads (`t1` and `t2`) but does not start them yet.\n",
    "- The main thread logs a message indicating that the threads have started.\n",
    "- Both `t1` and `t2` acquire the lock (`lock`) and start executing the `func` function concurrently.\n",
    "- Each thread sleeps for `2` seconds, simulating some time-consuming task.\n",
    "- Once the tasks are complete, the threads release the lock.\n",
    "- The main thread continues to execute and may exit, depending on whether there are any other statements after the logging.\n",
    "\n",
    "Throughout the execution, the lock ensures that only one thread can execute the critical section of the `func` function at a time, preventing potential race conditions or conflicts between the threads accessing shared resources."
   ]
  },
  {
   "cell_type": "markdown",
   "metadata": {},
   "source": [
    "The `logging.debug('Started')` line is executed after the `t1.start()` and `t2.start()` lines in the code because of the order of statements within the `if __name__ == '__main__':` block. \n",
    "\n",
    "In Python, statements within a block are executed sequentially from top to bottom. Therefore, `t1.start()` and `t2.start()` are executed before `logging.debug('Started')` because they appear earlier in the code.\n",
    "\n",
    "Here's the sequence of execution:\n",
    "\n",
    "1. The `logging.basicConfig()` function is called to configure logging.\n",
    "2. Two `Thread` objects (`t1` and `t2`) are created, but they are not started yet.\n",
    "3. The `start()` method is called on both `t1` and `t2`, initiating the execution of their respective target functions (`func`) concurrently.\n",
    "4. After starting the threads, the main thread continues executing and reaches the `logging.debug('Started')` statement, logging the message \"Started\".\n",
    "\n",
    "So, while `t1.start()` and `t2.start()` initiate the execution of the threads, the logging statement is executed afterward, allowing you to see that the threads have been started."
   ]
  },
  {
   "cell_type": "markdown",
   "metadata": {},
   "source": [
    "#### Aha, so it means that while t1 and t2 are starting execution, the main thread logs ‘Started’\n",
    "\n",
    "That’s why the expected result is:\n",
    "\n",
    "MainThread Started\n",
    "Thread-1 Done 2.0003550052642822\n",
    "Thread-2 Done 4.000735521316528\n"
   ]
  },
  {
   "cell_type": "markdown",
   "metadata": {},
   "source": [
    "Exactly! You've got it right. Here's how the execution flow goes:\n",
    "\n",
    "1. The main thread (`MainThread`) executes the `t1.start()` and `t2.start()` statements, initiating the execution of the `func` function in separate threads (`Thread-1` and `Thread-2`).\n",
    "2. While `Thread-1` and `Thread-2` are executing their respective `func` functions, the main thread continues its execution and logs the message `'Started'`.\n",
    "3. Meanwhile, `Thread-1` and `Thread-2` complete their tasks, logging the time taken for each operation (`Done 2.0003550052642822` and `Done 4.000735521316528`, respectively).\n",
    "\n",
    "So, the main thread logs \"Started\" while the other threads are still running, and then it continues its execution concurrently with those threads."
   ]
  },
  {
   "cell_type": "markdown",
   "metadata": {},
   "source": [
    "#### And one more question - what is it the main thread?\n",
    "How to define it in the code?"
   ]
  },
  {
   "cell_type": "markdown",
   "metadata": {},
   "source": [
    "The main thread in Python is the thread where your Python program starts its execution. It's the initial thread created when your program runs and where your `__main__` module's code is executed. \n",
    "\n",
    "In Python, you can check if you're in the main thread by using the condition `if __name__ == '__main__':`. This condition evaluates to `True` if the current module is being run as the main program, and `False` otherwise. It's commonly used to prevent code in the module from being executed when the module is imported as a module into another program.\n",
    "\n",
    "Here's an example:\n",
    "\n",
    "```python\n",
    "import threading\n",
    "\n",
    "def my_function():\n",
    "    print(\"Running in a thread\")\n",
    "\n",
    "if __name__ == \"__main__\":\n",
    "    print(\"This code runs in the main thread\")\n",
    "\n",
    "    # Create and start a new thread\n",
    "    thread = threading.Thread(target=my_function)\n",
    "    thread.start()\n",
    "\n",
    "    # Wait for the thread to finish\n",
    "    thread.join()\n",
    "\n",
    "    print(\"Back in the main thread\")\n",
    "```\n",
    "\n",
    "In this example, the code inside the `if __name__ == '__main__':` block runs in the main thread. We then create a new thread and start it to execute the `my_function()` function concurrently. Finally, we wait for the thread to finish using the `join()` method and print a message indicating that we're back in the main thread."
   ]
  },
  {
   "cell_type": "markdown",
   "metadata": {},
   "source": [
    "#### Could you clarify some points:\n",
    "1. For the case where we don’t use thread module and just run the code - the code executes in one thread, right?\n",
    "import threading\n",
    "\n",
    "def my_function():\n",
    "    print(\"Running in a thread\")\n",
    "\n",
    "if __name__ == \"__main__\":\n",
    "    print(\"This code runs in the main thread\")\n",
    "\n",
    "2. Could you explain how thread.join() works? "
   ]
  },
  {
   "cell_type": "markdown",
   "metadata": {},
   "source": [
    "Sure, let me clarify those points:\n",
    "\n",
    "1. **Execution without threading module**: When you run Python code without explicitly creating threads using the `threading` module, the code executes in a single thread, which is the main thread. All the code in your Python program runs sequentially in this single thread unless you explicitly create additional threads using `threading.Thread`.\n",
    "\n",
    "    In your example:\n",
    "    ```python\n",
    "    import threading\n",
    "\n",
    "    def my_function():\n",
    "        print(\"Running in a thread\")\n",
    "\n",
    "    if __name__ == \"__main__\":\n",
    "        print(\"This code runs in the main thread\")\n",
    "    ```\n",
    "    The code will execute in a single thread (the main thread). The `my_function()` function is not being executed concurrently in a separate thread because there are no threads created explicitly.\n",
    "\n",
    "2. **`thread.join()` method**: The `join()` method is used to wait for a thread to complete its execution before proceeding to the next steps in the main thread. When you call `thread.join()` on a thread object `thread`, the main thread will wait until `thread` finishes executing its target function before continuing further.\n",
    "\n",
    "    Here's how it works in the context of your example:\n",
    "    ```python\n",
    "    # Create and start a new thread\n",
    "    thread = threading.Thread(target=my_function)\n",
    "    thread.start()\n",
    "\n",
    "    # Wait for the thread to finish\n",
    "    thread.join()\n",
    "\n",
    "    print(\"Back in the main thread\")\n",
    "    ```\n",
    "    In this code snippet, after starting the `thread` to execute the `my_function()` function, the main thread encounters the `thread.join()` line. At this point, the main thread will pause and wait until the `thread` finishes executing `my_function()`. Once `my_function()` completes its execution, the main thread will resume from the `thread.join()` line and continue with the next statement, printing \"Back in the main thread\"."
   ]
  },
  {
   "cell_type": "markdown",
   "metadata": {},
   "source": [
    "### Але найчастіше для блокування використовують контекст виконання:\n"
   ]
  },
  {
   "cell_type": "code",
   "execution_count": 12,
   "metadata": {},
   "outputs": [
    {
     "name": "stderr",
     "output_type": "stream",
     "text": [
      "MainThread Started\n"
     ]
    },
    {
     "name": "stderr",
     "output_type": "stream",
     "text": [
      "Thread-37 (func) Done 2.00314998626709\n",
      "Thread-38 (func) Done 4.011469125747681\n"
     ]
    }
   ],
   "source": [
    "from threading import Thread, RLock\n",
    "import logging\n",
    "from time import time, sleep\n",
    "\n",
    "lock = RLock()\n",
    "\n",
    "\n",
    "def func(locker, delay):\n",
    "    timer = time()\n",
    "    with locker:\n",
    "        sleep(delay)\n",
    "    logging.debug(f'Done {time() - timer}')\n",
    "\n",
    "\n",
    "if __name__ == '__main__':\n",
    "    logging.basicConfig(level=logging.DEBUG, format='%(threadName)s %(message)s')\n",
    "    t1 = Thread(target=func, args=(lock, 2))\n",
    "    t2 = Thread(target=func, args=(lock, 2))\n",
    "    t1.start()\n",
    "    t2.start()\n",
    "    logging.debug('Started')\n"
   ]
  },
  {
   "cell_type": "markdown",
   "metadata": {},
   "source": [
    "### Семафори"
   ]
  },
  {
   "cell_type": "markdown",
   "metadata": {},
   "source": [
    "Семафори підходять до блокування іншим шляхом та вказують, що кілька потоків можуть користуватися ресурсом одночасно і цим обмежують кількість потоків. \n",
    "- Наприклад, ми не хочемо надсилати десятки тисяч запитів до мережі одночасно, щоб не створювати навантаження на обладнання і вкажемо семафор, щоб не більше ста потоків могли одночасно надсилати запити. \n",
    "- Щойно якийсь із потоків закінчить роботу і семафор його відпустить, то наступний потік із черги очікування зможе зробити свій запит.\n",
    "\n",
    "Як приклад розглянемо виконання 10 потоків і обмежимо виконання за допомогою семафору до двох одночасно\n",
    "\n",
    "У цьому прикладі ми створили семафор, що обмежує до 2. Виконавши код, побачимо:\n",
    "\n",
    "```\n",
    "Th-0 Got semaphore\n",
    "Th-1 Got semaphore\n",
    "Th-1 finished\n",
    "Th-0 finished\n",
    "Th-2 Got semaphore\n",
    "Th-3 Got semaphore\n",
    "Th-3 finished\n",
    "Th-2 finished\n",
    "Th-4 Got semaphore\n",
    "Th-5 Got semaphore\n",
    "Th-5 finished\n",
    "Th-4 finished\n",
    "Th-6 Got semaphore\n",
    "Th-7 Got semaphore\n",
    "Th-7 finished\n",
    "Th-6 finished\n",
    "Th-8 Got semaphore\n",
    "Th-9 Got semaphore\n",
    "Th-9 finished\n",
    "Th-8 finished\n",
    "```\n",
    "\n"
   ]
  },
  {
   "cell_type": "code",
   "execution_count": null,
   "metadata": {},
   "outputs": [
    {
     "name": "stderr",
     "output_type": "stream",
     "text": [
      "Th-0 Got semaphore\n",
      "Th-1 Got semaphore\n"
     ]
    },
    {
     "name": "stderr",
     "output_type": "stream",
     "text": [
      "Th-0 finished\n",
      "Th-1 finished\n",
      "Th-2 Got semaphore\n",
      "Th-3 Got semaphore\n",
      "Th-2 finished\n",
      "Th-3 finished\n",
      "Th-4 Got semaphore\n",
      "Th-5 Got semaphore\n",
      "Th-4 finished\n",
      "Th-5 finished\n",
      "Th-6 Got semaphore\n",
      "Th-7 Got semaphore\n",
      "Th-6 finished\n",
      "Th-7 finished\n",
      "Th-8 Got semaphore\n",
      "Th-9 Got semaphore\n",
      "Th-8 finished\n",
      "Th-9 finished\n"
     ]
    }
   ],
   "source": [
    "from threading import Semaphore, Thread\n",
    "import logging\n",
    "from time import sleep\n",
    "\n",
    "\n",
    "def worker(condition):\n",
    "    with condition:\n",
    "        logging.debug(f'Got semaphore')\n",
    "        sleep(1)\n",
    "        logging.debug(f'finished')\n",
    "\n",
    "\n",
    "if __name__ == '__main__':\n",
    "    logging.basicConfig(level=logging.DEBUG, format='%(threadName)s %(message)s')\n",
    "    pool = Semaphore(2)\n",
    "    for num in range(10):\n",
    "        thread = Thread(name=f'Th-{num}', target=worker, args=(pool, ))\n",
    "        thread.start()\n"
   ]
  },
  {
   "cell_type": "markdown",
   "metadata": {},
   "source": [
    "## Синхронізація потоків"
   ]
  },
  {
   "cell_type": "markdown",
   "metadata": {},
   "source": [
    "### Condition"
   ]
  },
  {
   "cell_type": "markdown",
   "metadata": {},
   "source": [
    "Є примітиви синхронізації, які дозволяють потокам очікувати сигнал від інших потоків — це **Condition**. \n",
    "\n",
    "Створимо дві різні функції: одна **master** повідомлятиме, що **worker** може продовжити роботу. \n",
    "\n",
    "При цьому вони будуть виконуватись у різних потоках.\n",
    "\n",
    "- Спочатку `master` у потоці виконує якусь роботу. \n",
    "- Після цього він виконує метод c`ondition.notify_all()` чим дозволяє запустити інші потоки, доки вони чекають виконання. \n",
    "- Вони очікують на виконання в точці виклику методу `condition.wait()`.\n",
    "\n",
    "- Якщо ж `master `повинен дозволити роботу лише одному з `worker`, можна викликати метод `condition.notify()`, тоді тільки один з тих, хто очікує дозволу worker продовжить роботу. Другий чекатиме, доки не буде виконано наступне `condition.notify`.\n"
   ]
  },
  {
   "cell_type": "code",
   "execution_count": 14,
   "metadata": {},
   "outputs": [
    {
     "name": "stderr",
     "output_type": "stream",
     "text": [
      "worker_one Worker ready to work\n",
      "worker_two Worker ready to work\n",
      "master Master doing some work\n",
      "MainThread End program\n"
     ]
    },
    {
     "name": "stderr",
     "output_type": "stream",
     "text": [
      "master Informing that workers can do the work\n",
      "worker_one The worker can do the work\n",
      "worker_two The worker can do the work\n"
     ]
    }
   ],
   "source": [
    "from threading import Thread, Condition\n",
    "import logging\n",
    "from time import sleep\n",
    "\n",
    "\n",
    "def worker(condition: Condition):\n",
    "    logging.debug('Worker ready to work')\n",
    "    with condition:\n",
    "        condition.wait()\n",
    "        logging.debug('The worker can do the work')\n",
    "\n",
    "\n",
    "def master(condition: Condition):\n",
    "    logging.debug('Master doing some work')\n",
    "    sleep(2)\n",
    "    with condition:\n",
    "        logging.debug('Informing that workers can do the work')\n",
    "        condition.notify_all()\n",
    "\n",
    "\n",
    "if __name__ == '__main__':\n",
    "    logging.basicConfig(level=logging.DEBUG, format='%(threadName)s %(message)s')\n",
    "    condition = Condition()\n",
    "    master = Thread(name='master', target=master, args=(condition,))\n",
    "\n",
    "    worker_one = Thread(name='worker_one', target=worker, args=(condition, ))\n",
    "    worker_two = Thread(name='worker_two', target=worker, args=(condition,))\n",
    "    worker_one.start()\n",
    "    worker_two.start()\n",
    "    master.start()\n",
    "\n",
    "    logging.debug('End program')\n"
   ]
  },
  {
   "cell_type": "markdown",
   "metadata": {},
   "source": [
    "### Event"
   ]
  },
  {
   "cell_type": "markdown",
   "metadata": {},
   "source": [
    "Інший примітив синхронізації — це **потокобезпечний прапорець класу `Event`**. \n",
    "- Клас `Event` має внутрішній прапорець, який можуть встановлювати або скидати інші потоки. \n",
    "- Для цього використовують метод `set`, щоб встановити прапор та метод `clear` для скидання. \n",
    "- Методу `wait` класу `Event` зупиняє роботу потоку до того часу, доки інший потік не встановить прапор методом `set`. \n",
    "- Є можливість перевірити, чи встановлено прапор методом `is_set`.\n",
    "\n",
    "Таким чином, `master` може встановити прапорець класу `Event`, і всі `worker` потоки продовжать роботу тільки після отримання дозволу."
   ]
  },
  {
   "cell_type": "code",
   "execution_count": 15,
   "metadata": {},
   "outputs": [
    {
     "name": "stderr",
     "output_type": "stream",
     "text": [
      "worker_one Worker ready to work\n",
      "worker_two Worker ready to work\n",
      "master Master doing some work\n",
      "MainThread End program\n"
     ]
    },
    {
     "name": "stderr",
     "output_type": "stream",
     "text": [
      "master Informing that workers can do the work\n",
      "worker_two The worker can do the work\n",
      "worker_one The worker can do the work\n"
     ]
    }
   ],
   "source": [
    "from threading import Thread, Event\n",
    "import logging\n",
    "from time import sleep\n",
    "\n",
    "\n",
    "def worker(event: Event):\n",
    "    logging.debug('Worker ready to work')\n",
    "    event.wait()\n",
    "    logging.debug('The worker can do the work')\n",
    "\n",
    "\n",
    "def master(event: Event):\n",
    "    logging.debug('Master doing some work')\n",
    "    sleep(2)\n",
    "    logging.debug('Informing that workers can do the work')\n",
    "    event.set()\n",
    "\n",
    "\n",
    "if __name__ == '__main__':\n",
    "    logging.basicConfig(level=logging.DEBUG, format='%(threadName)s %(message)s')\n",
    "    event = Event()\n",
    "    master = Thread(name='master', target=master, args=(event, ))\n",
    "\n",
    "    worker_one = Thread(name='worker_one', target=worker, args=(event, ))\n",
    "    worker_two = Thread(name='worker_two', target=worker, args=(event,))\n",
    "    worker_one.start()\n",
    "    worker_two.start()\n",
    "    master.start()\n",
    "\n",
    "    logging.debug('End program')\n"
   ]
  },
  {
   "cell_type": "markdown",
   "metadata": {},
   "source": [
    "Виникає закономірне питання, навіщо, якщо результат той самий? \n",
    "- Справа в тому, що ми можемо керувати виконанням, перезапуском та зупинкою роботи потоків через клас `Event`. \n",
    "- Наприклад, у наступному прикладі ми **перериваємо виконання потоку**, який працює в нескінченному циклі та інакше просто ніколи не завершиться.\n"
   ]
  },
  {
   "cell_type": "code",
   "execution_count": 16,
   "metadata": {},
   "outputs": [
    {
     "name": "stderr",
     "output_type": "stream",
     "text": [
      "Thread-39 (example_work) Run event work\n",
      "Thread-39 (example_work) Run event work\n",
      "Thread-39 (example_work) Run event work\n",
      "Thread-39 (example_work) Run event work\n",
      "MainThread End program\n"
     ]
    },
    {
     "name": "stderr",
     "output_type": "stream",
     "text": [
      "Thread-39 (example_work) Run event work\n"
     ]
    }
   ],
   "source": [
    "from threading import Thread, Event\n",
    "import logging\n",
    "from time import sleep\n",
    "\n",
    "\n",
    "def example_work(event_for_exit: Event):\n",
    "    while True:\n",
    "        sleep(1)\n",
    "        logging.debug('Run event work')\n",
    "\n",
    "        if event_for_exit.is_set():\n",
    "            break\n",
    "\n",
    "\n",
    "if __name__ == '__main__':\n",
    "    logging.basicConfig(level=logging.DEBUG, format='%(threadName)s %(message)s')\n",
    "    event = Event()\n",
    "    thread = Thread(target=example_work, args=(event,))\n",
    "    thread.start()\n",
    "\n",
    "    sleep(5)\n",
    "    event.set()\n",
    "\n",
    "    logging.debug('End program')\n"
   ]
  },
  {
   "cell_type": "markdown",
   "metadata": {},
   "source": [
    "### Barrier"
   ]
  },
  {
   "cell_type": "markdown",
   "metadata": {},
   "source": [
    "Останній примітив синхронізації, який ми розглянемо в `Python` — це бар'єр `Barrier`. \n",
    "- Він дозволяє задати умову, **щоб кілька потоків продовжили роботу лише після того, як задане число потоків добереться у виконанні коду до цього \"бар'єру\"**.\n",
    "\n",
    "Використовується, коли вам потрібно, щоб робота застосунку продовжилася лише після того, як усі потоки зроблять якусь частину своєї роботи та дійдуть до деякої точки, з якою можна знову продовжувати.\n",
    "\n",
    "Розглянемо наступний приклад:\n",
    "\n",
    "Потік може дістатися бар'єру і чекати його за допомогою функції `wait()`. \n",
    "- Це блокуючий виклик, який повернеться, коли решта потоків (попередньо налаштована кількість `barrier = Barrier(5)`) дістануться бар'єру.\n",
    "\n",
    "Функція очікування `wait()` повертає ціле число, яка вказує на кількість учасників, що залишилися до бар'єру. Якщо потік був останнім, що прибув, то повернене значення буде нульовим.\n",
    "\n",
    "**Головна вимога, щоб кількість потоків, що запускаються, в нашому випадку 10 - `range(10)`, була кратною кількості бар'єру, у нашому випадку 5 - `Barrier(5)`.**\n",
    "\n"
   ]
  },
  {
   "cell_type": "code",
   "execution_count": null,
   "metadata": {},
   "outputs": [
    {
     "name": "stderr",
     "output_type": "stream",
     "text": [
      "Th-0 Start thread: Thu Mar 28 08:57:38 2024\n",
      "Th-1 Start thread: Thu Mar 28 08:57:38 2024\n",
      "Th-2 Start thread: Thu Mar 28 08:57:38 2024\n",
      "Th-3 Start thread: Thu Mar 28 08:57:38 2024\n",
      "Th-4 Start thread: Thu Mar 28 08:57:38 2024\n",
      "Th-5 Start thread: Thu Mar 28 08:57:38 2024\n",
      "Th-6 Start thread: Thu Mar 28 08:57:38 2024\n",
      "Th-7 Start thread: Thu Mar 28 08:57:38 2024\n"
     ]
    },
    {
     "name": "stderr",
     "output_type": "stream",
     "text": [
      "Th-8 Start thread: Thu Mar 28 08:57:38 2024\n",
      "Th-9 Start thread: Thu Mar 28 08:57:38 2024\n",
      "Th-5 count: 4\n",
      "Th-1 count: 0\n",
      "Th-3 count: 1\n",
      "Th-8 count: 3\n",
      "Th-6 count: 2\n",
      "Th-6 Barrier overcome: Thu Mar 28 08:57:40 2024\n",
      "Th-1 Barrier overcome: Thu Mar 28 08:57:40 2024\n",
      "Th-3 Barrier overcome: Thu Mar 28 08:57:40 2024\n",
      "Th-8 Barrier overcome: Thu Mar 28 08:57:40 2024\n",
      "Th-5 Barrier overcome: Thu Mar 28 08:57:40 2024\n",
      "Th-9 count: 4\n",
      "Th-0 count: 0\n",
      "Th-2 count: 1\n",
      "Th-7 count: 3\n",
      "Th-4 count: 2\n",
      "Th-9 Barrier overcome: Thu Mar 28 08:57:41 2024\n",
      "Th-0 Barrier overcome: Thu Mar 28 08:57:41 2024\n",
      "Th-2 Barrier overcome: Thu Mar 28 08:57:41 2024\n",
      "Th-7 Barrier overcome: Thu Mar 28 08:57:41 2024\n",
      "Th-4 Barrier overcome: Thu Mar 28 08:57:41 2024\n"
     ]
    }
   ],
   "source": [
    "from random import randint\n",
    "from threading import Thread, Barrier\n",
    "import logging\n",
    "from time import sleep, ctime\n",
    "\n",
    "\n",
    "def worker(barrier: Barrier):\n",
    "    logging.debug(f'Start thread: {ctime()}')\n",
    "    sleep(randint(1, 3))  # Simulate some work\n",
    "    r = barrier.wait()\n",
    "    logging.debug(f'count: {r}')\n",
    "    logging.debug(f'Barrier overcome: {ctime()}')\n",
    "\n",
    "\n",
    "if __name__ == '__main__':\n",
    "    logging.basicConfig(level=logging.DEBUG, format='%(threadName)s %(message)s')\n",
    "    barrier = Barrier(5)\n",
    "\n",
    "    for num in range(10):\n",
    "        thread = Thread(name=f'Th-{num}', target=worker, args=(barrier, ))\n",
    "        thread.start()\n"
   ]
  },
  {
   "cell_type": "markdown",
   "metadata": {},
   "source": [
    "## Пул потоків"
   ]
  },
  {
   "cell_type": "markdown",
   "metadata": {},
   "source": [
    "В `Python` існує ще один механізм написання асинхронного коду. \n",
    "- Ви можете скористатися пакетом `concurrent.futures`. \n",
    "- Він дозволяє піднятися на вищий рівень абстракції, коли вам просто потрібно паралельно виконати ряд однотипних завдань і немає необхідності вдаватися до низькорівневих деталей реалізації.\n",
    "\n",
    "Основна ідея полягає у використанні реалізації абстрактного класу `Executor`. \n",
    "- У `concurrent.futures` є дві реалізації цього абстрактного базового класу: \n",
    "     - `ProcessPoolExecutor` — для виконання коду окремих процесів (з ним ми познайомимося пізніше) та \n",
    "     - `ThreadPoolExecutor` — для виконання в окремих потоках.\n",
    "\n",
    "Кожен такий `Executor` приховує набір потоків або процесів, яким ви можете дати роботу та отримати результат її виконання. Вам не потрібно вручну управляти створенням потоків та їх коректним завершенням.\n",
    "\n",
    "Звичайно, все ще потрібно пам'ятати про доступ до загальних ресурсів та примітиви синхронізації.\n",
    "\n",
    "\n",
    "У цьому прикладі \n",
    "- ми створюємо `ThreadPoolExecutor `\n",
    "- та задаємо, що робота буде виконуватися не більше ніж 2 потоками. \n",
    "- Пул можна створити в менеджері контексту як у прикладі, щоб бути впевненим, що всі ресурси будуть коректно повернуті до системи після завершення. - Але це не обов'язково, можна створити пул і потім викликати у нього метод `shutdown`, щоб завершити всі потоки та повернути ресурси системі.\n",
    "\n",
    "- Далі ми передаємо в пул функцію, яку потрібно виконати у кілька потоків, та набір аргументів цієї функції — кожен для виконання в окремому потоці. - В `executor` є метод `map`, він використовується, коли потрібно паралельно виконати функцію з різними вхідними аргументами в окремих потоках.\n",
    "- Результатом виклику `map` буде ітератор за результатами виконання в окремих потоках.\n",
    "\n",
    "Зверніть увагу, що код паралельно виконується не більше ніж двома потоками — ThreadPoolExecutor-0_0 та ThreadPoolExecutor-0_1. Результат повертається лише після того, як усі вхідні дані оброблені."
   ]
  },
  {
   "cell_type": "code",
   "execution_count": 18,
   "metadata": {},
   "outputs": [
    {
     "name": "stderr",
     "output_type": "stream",
     "text": [
      "ThreadPoolExecutor-0_0 greeting for: Bill\n",
      "ThreadPoolExecutor-0_1 greeting for: Jill\n",
      "ThreadPoolExecutor-0_0 greeting for: Till\n",
      "ThreadPoolExecutor-0_1 greeting for: Sam\n",
      "ThreadPoolExecutor-0_1 greeting for: Tom\n",
      "ThreadPoolExecutor-0_0 greeting for: John\n",
      "MainThread ['Hello Bill', 'Hello Jill', 'Hello Till', 'Hello Sam', 'Hello Tom', 'Hello John']\n"
     ]
    }
   ],
   "source": [
    "import concurrent.futures\n",
    "import logging\n",
    "from random import randint\n",
    "from time import sleep\n",
    "\n",
    "\n",
    "def greeting(name):\n",
    "    logging.debug(f'greeting for: {name}')\n",
    "    sleep(randint(0, 3))\n",
    "    return f\"Hello {name}\"\n",
    "\n",
    "\n",
    "arguments = (\n",
    "    \"Bill\",\n",
    "    \"Jill\",\n",
    "    \"Till\",\n",
    "    \"Sam\",\n",
    "    \"Tom\",\n",
    "    \"John\",\n",
    ")\n",
    "\n",
    "if __name__ == '__main__':\n",
    "    logging.basicConfig(level=logging.DEBUG, format='%(threadName)s %(message)s')\n",
    "    with concurrent.futures.ThreadPoolExecutor(max_workers=2) as executor:\n",
    "        results = list(executor.map(greeting, arguments))\n",
    "\n",
    "    logging.debug(results)\n"
   ]
  }
 ],
 "metadata": {
  "kernelspec": {
   "display_name": "Python 3",
   "language": "python",
   "name": "python3"
  },
  "language_info": {
   "codemirror_mode": {
    "name": "ipython",
    "version": 3
   },
   "file_extension": ".py",
   "mimetype": "text/x-python",
   "name": "python",
   "nbconvert_exporter": "python",
   "pygments_lexer": "ipython3",
   "version": "3.12.2"
  }
 },
 "nbformat": 4,
 "nbformat_minor": 2
}
