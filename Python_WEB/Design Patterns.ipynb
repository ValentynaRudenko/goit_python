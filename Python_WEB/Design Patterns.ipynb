{
 "cells": [
  {
   "cell_type": "markdown",
   "metadata": {},
   "source": [
    "# Design Patterns"
   ]
  },
  {
   "cell_type": "markdown",
   "metadata": {},
   "source": [
    "Паттерн не є конкретним кодом, а є **загальною концепцією або прикладом вирішення тієї чи іншої проблеми**, яку необхідно реалізувати відповідно до вимог вашої програми. \n",
    "\n",
    "Паттерн також є **алгоритмом**. \n",
    "\n",
    "- **Алгоритм** — це чіткий набір дій, кулінарний рецепт приготування страви. \n",
    "- **Паттерн**, за аналогією, — це креслення або схема будівлі, і конкретна програмна реалізація може відрізнятися від програми до програми.\n",
    "\n",
    "Паттерни за призначенням поділяються на три основні групи:\n",
    "\n",
    "- **Породжувальні** патерни турбуються про гнучке створення об'єктів без внесення до програми зайвих залежностей.\n",
    "- **Структурні** патерни показують різноманітні способи побудови зв'язків між об'єктами.\n",
    "- **Поведінкові** патерни піклуються про ефективну комунікацію між об'єктами."
   ]
  },
  {
   "cell_type": "markdown",
   "metadata": {},
   "source": [
    "## Абстрактні базові класи\n",
    "\n",
    "Абстрактні класи — це класи, \n",
    "- **призначені для наслідування**, \n",
    "- але **уникають реалізації конкретних методів**, \n",
    "- залишаючи лише сигнатури методів, які повинні реалізовувати підкласи. \n",
    "\n",
    "Абстрактні класи активно використовуються при написанні патернів"
   ]
  },
  {
   "cell_type": "markdown",
   "metadata": {},
   "source": [
    "### Наївна реалізація"
   ]
  },
  {
   "cell_type": "markdown",
   "metadata": {},
   "source": [
    "Найпростіший та найінтуїтивніший приклад створення абстрактного класу:\n"
   ]
  },
  {
   "cell_type": "code",
   "execution_count": null,
   "metadata": {},
   "outputs": [],
   "source": [
    "class MyABC:\n",
    "    def foo(self):\n",
    "        raise NotImplementedError()\n",
    "\n",
    "    def bar(self):\n",
    "        raise NotImplementedError()\n"
   ]
  },
  {
   "cell_type": "markdown",
   "metadata": {},
   "source": [
    "У цьому прикладі ми створили клас `MyABC` у якого є методи `foo` та `bar`, які викликають виняток `NotImplementedError`, якщо ми спробуємо їх викликати.\n",
    "Таким чином ми визначаємо інтерфейс — `клас-батько`, від якого потрібно наслідуватись і перевизначити методи `foo` та `bar`.\n",
    "\n",
    "Клас `інтерфейс` або `абстрактний базовий клас` — це спосіб писати код, що самодокументується.\n",
    "\n",
    "Однак очевидно, що за такого підходу у вас все ж таки є можливість припуститися помилки і не перевизначити якийсь із методів класу батька. \n",
    "\n",
    "Виняток трапиться лише тоді, коли буде викликаний метод, який не перевизначили:"
   ]
  },
  {
   "cell_type": "code",
   "execution_count": 1,
   "metadata": {},
   "outputs": [
    {
     "name": "stdout",
     "output_type": "stream",
     "text": [
      "foo\n"
     ]
    },
    {
     "ename": "NotImplementedError",
     "evalue": "",
     "output_type": "error",
     "traceback": [
      "\u001b[0;31m---------------------------------------------------------------------------\u001b[0m",
      "\u001b[0;31mNotImplementedError\u001b[0m                       Traceback (most recent call last)",
      "Cell \u001b[0;32mIn[1], line 16\u001b[0m\n\u001b[1;32m     14\u001b[0m a \u001b[38;5;241m=\u001b[39m ActualMy()\n\u001b[1;32m     15\u001b[0m a\u001b[38;5;241m.\u001b[39mfoo()     \u001b[38;5;66;03m# foo\u001b[39;00m\n\u001b[0;32m---> 16\u001b[0m \u001b[43ma\u001b[49m\u001b[38;5;241;43m.\u001b[39;49m\u001b[43mbar\u001b[49m\u001b[43m(\u001b[49m\u001b[43m)\u001b[49m     \u001b[38;5;66;03m# raises NotImplementedError\u001b[39;00m\n",
      "Cell \u001b[0;32mIn[1], line 6\u001b[0m, in \u001b[0;36mMyABC.bar\u001b[0;34m(self)\u001b[0m\n\u001b[1;32m      5\u001b[0m \u001b[38;5;28;01mdef\u001b[39;00m \u001b[38;5;21mbar\u001b[39m(\u001b[38;5;28mself\u001b[39m):\n\u001b[0;32m----> 6\u001b[0m     \u001b[38;5;28;01mraise\u001b[39;00m \u001b[38;5;167;01mNotImplementedError\u001b[39;00m()\n",
      "\u001b[0;31mNotImplementedError\u001b[0m: "
     ]
    }
   ],
   "source": [
    "class MyABC:\n",
    "    def foo(self):\n",
    "        raise NotImplementedError()\n",
    "\n",
    "    def bar(self):\n",
    "        raise NotImplementedError()\n",
    "\n",
    "\n",
    "class ActualMy(MyABC):\n",
    "    def foo(self):\n",
    "        print('foo')\n",
    "\n",
    "\n",
    "a = ActualMy()\n",
    "a.foo()     # foo\n",
    "a.bar()     # raises NotImplementedError\n"
   ]
  },
  {
   "cell_type": "markdown",
   "metadata": {},
   "source": [
    "Така особливість реалізації зводить нанівець всі переваги абстрактних класів. Цих недоліків позбавлений наступний спосіб реалізації абстрактних класів із використанням модуля abc."
   ]
  },
  {
   "cell_type": "markdown",
   "metadata": {},
   "source": [
    "### Реалізація з використанням abc"
   ]
  },
  {
   "cell_type": "markdown",
   "metadata": {},
   "source": [
    "Для роботи з абстрактними базовими класами можна скористатися модулем `abc`, в якому є `метаклас для створення абстрактних класів` та декоратор `abstractmethod`, щоб позначити, **який метод є обов'язковим для реалізації у спадкоємців.**"
   ]
  },
  {
   "cell_type": "code",
   "execution_count": 2,
   "metadata": {},
   "outputs": [
    {
     "ename": "TypeError",
     "evalue": "Can't instantiate abstract class Child without an implementation for abstract methods 'baz', 'foo'",
     "output_type": "error",
     "traceback": [
      "\u001b[0;31m---------------------------------------------------------------------------\u001b[0m",
      "\u001b[0;31mTypeError\u001b[0m                                 Traceback (most recent call last)",
      "Cell \u001b[0;32mIn[2], line 18\u001b[0m\n\u001b[1;32m     14\u001b[0m \u001b[38;5;28;01mclass\u001b[39;00m \u001b[38;5;21;01mChild\u001b[39;00m(MyBaseClass):\n\u001b[1;32m     15\u001b[0m     \u001b[38;5;28;01mpass\u001b[39;00m\n\u001b[0;32m---> 18\u001b[0m c \u001b[38;5;241m=\u001b[39m \u001b[43mChild\u001b[49m\u001b[43m(\u001b[49m\u001b[43m)\u001b[49m  \u001b[38;5;66;03m# TypeError: Can't instantiate abstract class Child with abstract methods baz, foo\u001b[39;00m\n",
      "\u001b[0;31mTypeError\u001b[0m: Can't instantiate abstract class Child without an implementation for abstract methods 'baz', 'foo'"
     ]
    }
   ],
   "source": [
    "from abc import abstractmethod, ABCMeta\n",
    "\n",
    "\n",
    "class MyBaseClass(metaclass=ABCMeta):\n",
    "    @abstractmethod\n",
    "    def foo(self):\n",
    "        pass\n",
    "\n",
    "    @abstractmethod\n",
    "    def baz(self):\n",
    "        pass\n",
    "\n",
    "\n",
    "class Child(MyBaseClass):\n",
    "    pass\n",
    "\n",
    "\n",
    "c = Child()  # TypeError: Can't instantiate abstract class Child with abstract methods baz, foo\n"
   ]
  },
  {
   "cell_type": "markdown",
   "metadata": {},
   "source": [
    "Визначивши метаклас для абстрактного класу `MyBaseClass` та задекорувавши методи `foo` та `baz`, ми отримаємо виняток `TypeError`, як тільки спробуємо створити об'єкт класу спадкоємця,` в якому якийсь із абстрактних методів не був визначений.`\n",
    "\n",
    "Такий підхід набагато надійніший.\n",
    "\n",
    "**!!!** `Метакласи` – **це класи, екземпляри яких є класами.** \n",
    "**Щоб створити свій власний метаклас у `Python`, потрібно скористатися підкласом `type`, — стандартним метакласом у `Python`.**"
   ]
  },
  {
   "cell_type": "code",
   "execution_count": 3,
   "metadata": {},
   "outputs": [
    {
     "name": "stdout",
     "output_type": "stream",
     "text": [
      "ExampleClass\n",
      "1\n"
     ]
    }
   ],
   "source": [
    "ExampleClass = type('ExampleClass', (object,) , {'some_var': 1})\n",
    "\n",
    "print(ExampleClass.__name__) # ExampleClass\n",
    "print(ExampleClass.some_var) # 1\n"
   ]
  },
  {
   "cell_type": "markdown",
   "metadata": {},
   "source": [
    "**!!! `Метакласи в Python` потрібні для метапрограмування, коли вам, з якоїсь причини, необхідно `динамічно генерувати нові класи` безпосередньо під час виконання коду, залежно від якихось умов.**\n",
    "**У 99.9% випадків вам це не знадобиться. Більше того, майже завжди є кращий і/або зручніший спосіб зробити те саме, але без використання метакласів.**"
   ]
  },
  {
   "cell_type": "markdown",
   "metadata": {},
   "source": [
    "Якщо ж використовувати метакласи незручно або може виникнути конфлікт, то можна досягти того самого без метакласів:"
   ]
  },
  {
   "cell_type": "code",
   "execution_count": null,
   "metadata": {},
   "outputs": [],
   "source": [
    "from abc import abstractmethod, ABC\n",
    "\n",
    "\n",
    "class MyBaseClass(ABC):\n",
    "    @abstractmethod\n",
    "    def foo(self):\n",
    "        pass\n",
    "\n",
    "    @abstractmethod\n",
    "    def baz(self):\n",
    "        pass\n",
    "\n",
    "\n",
    "class Child(MyBaseClass):\n",
    "    pass\n",
    "\n",
    "\n",
    "c = Child() # TypeError: Can't instantiate abstract class Child with abstract methods baz, foo\n"
   ]
  },
  {
   "cell_type": "markdown",
   "metadata": {},
   "source": [
    "### Коли варто використовувати абстрактні класи\n"
   ]
  },
  {
   "cell_type": "markdown",
   "metadata": {},
   "source": [
    "Оскільки Python — мова з **динамічною типізацією**, то використовувати об'єкт того або іншого класу можна без огляду на його тип (клас, ланцюжок наслідування), аби **потрібні атрибути були реалізовані.**\n",
    "\n",
    "Це робить розробку легшою на початкових етапах, поки коду не багато і задум програміста не складно розгадати. \n",
    "Але з розвитком проекту залежності стають складнішими, і ймовірність помилки зростає. \n",
    "\n",
    "**Використання абстрактних базових класів робить код самодокументованим і дозволяє значно зменшити ймовірність припуститися помилки, забувши реалізувати потрібний метод або зробивши це неправильно.**\n",
    "\n",
    "Приклад використання абстрактних базових класів — це робота з різними інтерфейсами представлення або отримання інформації.\n",
    "Наприклад, нам потрібно надати одну й ту саму інформацію у різних форматах: pdf, cls, txt, html.\n",
    "\n",
    "Щоб мати можливість додавати нові формати без помилок, ми можемо створити абстрактний базовий клас створення документів:\n",
    "\n",
    "Тепер будь-який клас, який відповідає за конкретний формат генерації документів, повинен наслідуватись від Document та реалізовувати generate.\n",
    "\n",
    "З таким підходом додавати нові формати стане набагато легше.\n"
   ]
  },
  {
   "cell_type": "code",
   "execution_count": null,
   "metadata": {},
   "outputs": [],
   "source": [
    "from abc import ABC, abstractmethod\n",
    "\n",
    "\n",
    "class Document(ABC)\n",
    "\n",
    "    @abstractmethod\n",
    "    def generate(self, data):\n",
    "        pass\n"
   ]
  },
  {
   "cell_type": "markdown",
   "metadata": {},
   "source": [
    "## Породжувальні патерни\n"
   ]
  },
  {
   "cell_type": "markdown",
   "metadata": {},
   "source": [
    "### Абстрактна фабрика (Abstract Factory)\n",
    "\n",
    "Паттерн проектування, який дозволяє створювати **сімейства пов'язаних об'єктів**, не прив'язуючись до конкретних класів об'єктів, що створюються. \n",
    "\n",
    "Наприклад, для генерації сімейства звітів для відділу маркетингу вам потрібно згенерувати річний, квартальний, щомісячний звіти. При цьому є вимоги, що звіти потрібно генерувати у різних форматах: pdf, html, csv."
   ]
  },
  {
   "cell_type": "markdown",
   "metadata": {},
   "source": [
    "Зверніть увагу, що \n",
    "- абстрактна фабрика `AbstractReport` визначає, **які періоди звітів** повинні генерувати конкретні фабрики (щомісячний, квартальний, річний), \n",
    "- а конкретні фабрики повертають **безпосередньо класи звітів**, що відповідають формату та потрібному періоду. \n",
    "- Таким чином, коли знадобиться додати ще один період (піврічний наприклад), то ви зміните `AbstractReport`, і будь-яка сучасна IDE підкаже, які класи спадкоємці ще повинні реалізовувати необхідний метод. Це спрощує розробку, зменшує ймовірність помилки та робить код легшим для розуміння.\n",
    "\n",
    "Часто може виникнути бажання збільшити зону відповідальності кожного класу та, замість безлічі дуже маленьких по суті CsvMonthReport, CsvQuarterReport, CsvYearReport, реалізувати один великий CsvReport, який буде вміти все, що треба.\n",
    "- **Це помилковий підхід, намагайтеся писати компактні та вузькоспеціалізовані класи, замість великих та складних.**"
   ]
  },
  {
   "cell_type": "markdown",
   "metadata": {},
   "source": [
    "### Фабричний метод (Factory Method)\n",
    "\n",
    "Паттерн проектування, який визначає загальний інтерфейс для створення об'єктів в суперкласі, дозволяючи підкласам змінювати тип об'єктів, що створюються.\n"
   ]
  },
  {
   "cell_type": "markdown",
   "metadata": {},
   "source": [
    "Ви зробили для вашої компанії маркетингову SMS розсилку для споживачів. \n",
    "\n",
    "У якийсь момент компанія замовила мобільний застосунок, щоб представляти свій продукт. \n",
    "\n",
    "І виникла необхідність **реалізувати маркетингові push розсилки для користувачів**. \n",
    "\n",
    "Звучить чудово, але ось невдача, більшість вашого коду жорстко зав'язана на смс розсилці. І додавання push розсилок торкнеться більшої частини написаного вами коду. А поява email, telegram тощо розсилок змусить виконувати цю роботу знову і знову. Все це призводить до коду, що важко читати, наповненого умовними перевірками.\n",
    "\n",
    "Рішенням є використання патерну `фабричний метод`. \n",
    "Він пропонує створювати об'єкти не напряму, а через виклик особливого фабричного методу. \n",
    "\n",
    "Щоб ця система працювала, **всі об'єкти, що повертаються, повинні мати спільний інтерфейс**. \n",
    "- Підкласи зможуть виробляти об'єкти різних класів, що відповідають одному й тому самому інтерфейсу. Найкраще це зрозуміти, розглянувши конкретний приклад."
   ]
  },
  {
   "cell_type": "code",
   "execution_count": 4,
   "metadata": {},
   "outputs": [
    {
     "name": "stdout",
     "output_type": "stream",
     "text": [
      "The application performs Push mailing lists.\n",
      "We know nothing about the creator code that works\n",
      "Result: Push mailing has been completed\n",
      "\n",
      "\n",
      "The application performs SMS mailing.\n",
      "We know nothing about the creator code that works\n",
      "Result: SMS mailing has been completed\n"
     ]
    }
   ],
   "source": [
    "from abc import ABC, abstractmethod\n",
    "\n",
    "\n",
    "class Creator(ABC):\n",
    "    @abstractmethod\n",
    "    def create(self):\n",
    "        pass\n",
    "\n",
    "    def send_messages(self) -> str:\n",
    "        product = self.create()\n",
    "        result = product.sending()\n",
    "        return result\n",
    "\n",
    "\n",
    "class SendingMessages(ABC):\n",
    "    @abstractmethod\n",
    "    def sending(self) -> str:\n",
    "        pass\n",
    "\n",
    "\n",
    "class CreatorPush(Creator):\n",
    "    def create(self) -> SendingMessages:\n",
    "        return SendingPushMessages()\n",
    "\n",
    "\n",
    "class CreatorSMS(Creator):\n",
    "    def create(self) -> SendingMessages:\n",
    "        return SendingSMSMessages()\n",
    "\n",
    "\n",
    "class SendingPushMessages(SendingMessages):\n",
    "    def sending(self) -> str:\n",
    "        return \"Push mailing has been completed\"\n",
    "\n",
    "\n",
    "class SendingSMSMessages(SendingMessages):\n",
    "    def sending(self) -> str:\n",
    "        return \"SMS mailing has been completed\"\n",
    "\n",
    "\n",
    "def client_code(creator: Creator) -> None:\n",
    "    print(\"We know nothing about the creator code that works\")\n",
    "    result = creator.send_messages()\n",
    "    print(f\"Result: {result}\")\n",
    "\n",
    "\n",
    "if __name__ == \"__main__\":\n",
    "    print(\"The application performs Push mailing lists.\")\n",
    "    client_code(CreatorPush())\n",
    "    print(\"\\n\")\n",
    "\n",
    "    print(\"The application performs SMS mailing.\")\n",
    "    client_code(CreatorSMS())\n"
   ]
  },
  {
   "cell_type": "markdown",
   "metadata": {},
   "source": [
    "### Одинак (Singletone)\n",
    "\n",
    "Паттерн проектування, який гарантує, **що клас має лише один екземпляр** і **надає до нього глобальну точку доступу**.\n",
    "\n",
    "Одинак вирішує дві проблеми:\n",
    "\n",
    "- Гарантує наявність єдиного екземпляра класу.\n",
    "- Надає глобальну точку доступу.\n",
    "\n",
    "Паттерн одинак гарантує, що жодний інший код не замінить створений екземпляр класу, тому ви завжди впевнені в наявності лише одного об'єкта-одинака.\n",
    "\n",
    "Найчастіше застосовується для доступу до якогось спільного ресурсу, наприклад бази даних."
   ]
  },
  {
   "cell_type": "code",
   "execution_count": 5,
   "metadata": {},
   "outputs": [
    {
     "name": "stdout",
     "output_type": "stream",
     "text": [
      "Singleton instances\n",
      "Element: 0  number : 4\n",
      "Element: 1  number : 4\n",
      "Element: 2  number : 4\n",
      "Element: 3  number : 4\n",
      "Element: 4  number : 4\n",
      "Instances of a regular class\n",
      "Element: 0  number : 8\n",
      "Element: 1  number : 2\n",
      "Element: 2  number : 4\n",
      "Element: 3  number : 8\n",
      "Element: 4  number : 9\n"
     ]
    }
   ],
   "source": [
    "import random\n",
    "\n",
    "\n",
    "class Singleton:\n",
    "    \"\"\"Classic singleton\"\"\"\n",
    "\n",
    "    __instance = None\n",
    "\n",
    "    def __init__(self):\n",
    "        self.number = random.randint(1, 10)\n",
    "\n",
    "    def __new__(cls):\n",
    "        if cls.__instance is None:\n",
    "            cls.__instance = super().__new__(Singleton)\n",
    "        return cls.__instance\n",
    "\n",
    "\n",
    "class Regular:\n",
    "    \"\"\"Simple class to compare behavior\"\"\"\n",
    "\n",
    "    def __init__(self, *args, **kwargs):\n",
    "        self.number = random.randint(1, 10)\n",
    "\n",
    "\n",
    "def testing():\n",
    "    print(\"Singleton instances\")\n",
    "    list_singleton = [Singleton() for i in range(0, 5)]\n",
    "    for index, element in enumerate(list_singleton):\n",
    "        print(f\"Element: {index}  number : {element.number}\")\n",
    "\n",
    "    print(\"Instances of a regular class\")\n",
    "    list_regular = [Regular() for i in range(0, 5)]\n",
    "    for index, element in enumerate(list_regular):\n",
    "        print(f\"Element: {index}  number : {element.number}\")\n",
    "\n",
    "\n",
    "if __name__ == \"__main__\":\n",
    "    testing()\n"
   ]
  },
  {
   "cell_type": "markdown",
   "metadata": {},
   "source": [
    "## Структурні патерни"
   ]
  },
  {
   "cell_type": "markdown",
   "metadata": {},
   "source": [
    "### Фасад (Facade)\n",
    "\n",
    "Паттерн проектування, який надає **простий інтерфейс до складної системі класів, бібліотеки або фреймворку.**\n"
   ]
  },
  {
   "cell_type": "markdown",
   "metadata": {},
   "source": [
    "Паттерн вирішує проблему, коли бізнес-логіка ваших класів тісно починає переплітатися з деталями реалізації сторонніх бібліотек. Код стає заплутаним, а заплутаний код стає важче підтримувати. Для таких цілей і використовують патерн Фасад. Простими словами, всю складну логіку ми ховаємо за простим інтерфейсом.\n",
    "\n",
    "Прикладом може бути замовлення в інтернет-магазині. У вас є фасад – це сайт, на якому ви робите замовлення. Від вас захована вся функціональність, ви не телефонуєте на склад, не виписуєте накладну тощо. Все просто – є фасад сайту, де мінімум необхідного функціоналу для роботи.\n",
    "\n",
    "Якщо коротко підбити підсумок –**ми використовуємо патерн Фасад, замість прямої роботи з об'єктами складної форми.**"
   ]
  },
  {
   "cell_type": "code",
   "execution_count": 6,
   "metadata": {},
   "outputs": [
    {
     "name": "stdout",
     "output_type": "stream",
     "text": [
      "Send Allen Raymond email: Male text email\n",
      "Send Chaim Lewis email: Male text email\n",
      "Send Kennedy Lane email: Female text email\n",
      "Send Wylie Pope email: Female text email\n",
      "Done"
     ]
    }
   ],
   "source": [
    "class FacadeNewsletter:\n",
    "    def __init__(self, users_system, email_system) -> None:\n",
    "        self._users_system = users_system\n",
    "        self._email_system = email_system\n",
    "\n",
    "    def sending(self) -> str:\n",
    "        users = self._users_system.get_users()\n",
    "        male, female = self._users_system.separate_users(users)\n",
    "        text_for_male = self._email_system.get_text_email(\"male\")\n",
    "        text_for_female = self._email_system.get_text_email(\"female\")\n",
    "        self._email_system.send_emails(male, text_for_male)\n",
    "        self._email_system.send_emails(female, text_for_female)\n",
    "        return \"Done\"\n",
    "\n",
    "\n",
    "class UsersSystem:\n",
    "    def get_users(self) -> list:\n",
    "        users = [\n",
    "            {\n",
    "                \"name\": \"Allen Raymond\",\n",
    "                \"email\": \"nulla.ante@vestibul.co.uk\",\n",
    "                \"gender\": \"male\",\n",
    "            },\n",
    "            {\n",
    "                \"name\": \"Chaim Lewis\",\n",
    "                \"email\": \"dui.in@egetlacus.ca\",\n",
    "                \"gender\": \"male\",\n",
    "            },\n",
    "            {\n",
    "                \"name\": \"Kennedy Lane\",\n",
    "                \"email\": \"mattis.Cras@nonenimMauris.net\",\n",
    "                \"gender\": \"female\",\n",
    "            },\n",
    "            {\n",
    "                \"name\": \"Wylie Pope\",\n",
    "                \"email\": \"est@utquamvel.net\",\n",
    "                \"gender\": \"female\",\n",
    "            },\n",
    "        ]\n",
    "        return users\n",
    "\n",
    "    def separate_users(self, users) -> tuple:\n",
    "        male = []\n",
    "        female = []\n",
    "        for person in users:\n",
    "            if person.get(\"gender\", None) == \"male\":\n",
    "                male.append(person)\n",
    "            else:\n",
    "                female.append(person)\n",
    "        return male, female\n",
    "\n",
    "\n",
    "class EmailSystem:\n",
    "    def get_text_email(self, gender) -> str:\n",
    "        text = \"Default text\"\n",
    "        if gender == \"male\":\n",
    "            text = \"Male text email\"\n",
    "        if gender == \"female\":\n",
    "            text = \"Female text email\"\n",
    "\n",
    "        return text\n",
    "\n",
    "    def send_emails(self, users, text) -> str:\n",
    "        for person in users:\n",
    "            print(f\"Send {person.get('name')} email: {text}\")\n",
    "        return \"Done\"\n",
    "\n",
    "\n",
    "def client_code(newsletter) -> None:\n",
    "    print(newsletter.sending(), end=\"\")\n",
    "\n",
    "\n",
    "if __name__ == \"__main__\":\n",
    "    facade = FacadeNewsletter(UsersSystem(), EmailSystem())\n",
    "    client_code(facade)\n"
   ]
  },
  {
   "cell_type": "markdown",
   "metadata": {},
   "source": [
    "### Адаптер\n",
    "\n",
    "Патерн проектування, що дозволяє **об'єктам з несумісними інтерфейсами працювати разом.** \n",
    "З патерном Адаптер ми вже познайомилися, коли розглядали принцип **SOLID – Dependency inversion.**"
   ]
  },
  {
   "cell_type": "markdown",
   "metadata": {},
   "source": [
    "У нашому випадку банк надавав інформацію у форматі JSON виду:\n"
   ]
  },
  {
   "cell_type": "code",
   "execution_count": null,
   "metadata": {},
   "outputs": [],
   "source": [
    "[\n",
    "  {\n",
    "    'ccy': 'EUR',\n",
    "    'base_ccy': 'UAH',\n",
    "    'buy': '37.89060',\n",
    "    'sale': '39.06250'\n",
    "  },\n",
    "  {\n",
    "    'ccy': 'USD',\n",
    "    'base_ccy': 'UAH',\n",
    "    'buy': '36.56860',\n",
    "    'sale': '37.45318'\n",
    "  }\n",
    "]\n"
   ]
  },
  {
   "cell_type": "markdown",
   "metadata": {},
   "source": [
    "Наша функція виведення даних `pretty_view` працює зі словниками наступного вигляду:"
   ]
  },
  {
   "cell_type": "code",
   "execution_count": null,
   "metadata": {},
   "outputs": [],
   "source": [
    "{\n",
    "  'EUR': {\n",
    "    'buy': 37.8906,\n",
    "    'sale': 39.0625\n",
    "  },\n",
    "  'USD': {\n",
    "    'buy': 36.5686,\n",
    "    'sale': 37.45318\n",
    "  }\n",
    "}\n"
   ]
  },
  {
   "cell_type": "markdown",
   "metadata": {},
   "source": [
    "На допомогу нам приходить функція-адаптер `data_adapter`, яка і перетворює дані з `API` в необхідний словник:"
   ]
  },
  {
   "cell_type": "code",
   "execution_count": null,
   "metadata": {},
   "outputs": [],
   "source": [
    "import requests\n",
    "\n",
    "\n",
    "class RequestConnection:\n",
    "    def __init__(self, request):\n",
    "        self.request = request\n",
    "\n",
    "    def get_json_from_url(self, url):\n",
    "        return self.request.get(url).json()\n",
    "\n",
    "\n",
    "class ApiClient:\n",
    "    def __init__(self, fetch: RequestConnection):\n",
    "        self.fetch = fetch\n",
    "\n",
    "    def get_data(self, url):\n",
    "        response = self.fetch.get_json_from_url(url)\n",
    "        return response\n",
    "\n",
    "\n",
    "def data_adapter(data: dict):\n",
    "    return [{f\"{el.get('ccy')}\": {\"buy\": float(el.get('buy')), \"sale\": float(el.get('sale'))}} for el in data]\n",
    "\n",
    "\n",
    "def pretty_view(data):\n",
    "    pattern = '|{:^10}|{:^10}|{:^10}|'\n",
    "    print(pattern.format('currency', 'sale', 'buy'))\n",
    "    for el in data:\n",
    "        currency, *_ = el.keys()\n",
    "        buy = el.get(currency).get('buy')\n",
    "        sale = el.get(currency).get('sale')\n",
    "        print(pattern.format(currency, sale, buy))\n",
    "\n",
    "\n",
    "if __name__ == '__main__':\n",
    "    api_client = ApiClient(RequestConnection(requests))\n",
    "    \n",
    "    data = api_client.get_data('https://api.privatbank.ua/p24api/pubinfo?exchange&coursid=11')\n",
    "    pretty_view(data_adapter(data))\n"
   ]
  },
  {
   "cell_type": "markdown",
   "metadata": {},
   "source": [
    "За підсумком `data_adapter` – це перекладач, який трансформує інтерфейс або дані одного об'єкта у такий вигляд, щоб він став зрозумілим іншому об'єкту.\n",
    "\n",
    "ПІДКАЗКА\n",
    "**Пакет requests у прикладі вище є зовнішнім та вимагає попереднього встановлення**\n",
    "\n",
    "`pip install requests`\n"
   ]
  },
  {
   "cell_type": "markdown",
   "metadata": {},
   "source": [
    "### Заступник (Proxy)\n",
    "\n",
    "Паттерн проектування, який дозволяє підставляти замість реальних об'єктів спеціальні об'єкти-замінники."
   ]
  },
  {
   "cell_type": "markdown",
   "metadata": {},
   "source": [
    "Абстрактний клас `Request` оголошує загальні операції як для класу `RealRequest`, так і для класу `Proxy`. Якщо клієнт працює з `RealRequest`, використовуючи цей інтерфейс, ви зможете передати йому `Proxy`, замість `RealRequest`.\n",
    "\n",
    "Найпоширенішими сферами застосування патерну `Proxy` є\n",
    "- ліниве завантаження, \n",
    "- кешування, \n",
    "- контроль доступу, \n",
    "- ведення журналу тощо.\n",
    "\n",
    "Клас `Proxy` може виконати одне з цих завдань, а потім, залежно від результату, передати виконання однойменному методу у пов'язаному об'єкті класу RealRequest.\n",
    "\n",
    "Розглянемо приклад логування деякого запиту за допомогою патерну `Proxy`:"
   ]
  },
  {
   "cell_type": "code",
   "execution_count": 7,
   "metadata": {},
   "outputs": [
    {
     "name": "stdout",
     "output_type": "stream",
     "text": [
      "RealRequest: Handling request.\n",
      "Proxy: Logging the time of request. 0.5037350654602051\n"
     ]
    }
   ],
   "source": [
    "from abc import ABC, abstractmethod\n",
    "from time import time, sleep\n",
    "\n",
    "class Request(ABC):\n",
    "    @abstractmethod\n",
    "    def request(self) -> None:\n",
    "        pass\n",
    "\n",
    "\n",
    "class RealRequest(Request):\n",
    "    def request(self) -> None:\n",
    "        print(\"RealRequest: Handling request.\")\n",
    "        sleep(0.5)\n",
    "\n",
    "\n",
    "class Proxy(Request):\n",
    "    def __init__(self, real_request) -> None:\n",
    "        self._real_request = real_request\n",
    "        self.start = None\n",
    "\n",
    "    def request(self) -> None:\n",
    "        self.start = time()\n",
    "        self._real_request.request()\n",
    "        self.log_access()\n",
    "\n",
    "    def log_access(self) -> None:\n",
    "        print(f\"Proxy: Logging the time of request. {time() - self.start}\")\n",
    "\n",
    "\n",
    "def client_code(subject) -> None:\n",
    "    subject.request()\n",
    "\n",
    "\n",
    "if __name__ == \"__main__\":\n",
    "    proxy = Proxy(RealRequest())\n",
    "    client_code(proxy)\n"
   ]
  },
  {
   "cell_type": "markdown",
   "metadata": {},
   "source": [
    "## Поведінкові патерни\n"
   ]
  },
  {
   "cell_type": "markdown",
   "metadata": {},
   "source": [
    "Ці патерни вирішують завдання ефективної та безпечної взаємодії між об'єктами програми."
   ]
  },
  {
   "cell_type": "markdown",
   "metadata": {},
   "source": [
    "### Команда (Command)\n",
    "\n",
    "Паттерн проектування, \n",
    "- **який перетворює запити на об'єкти**, дозволяючи передавати їх як **аргументи під час виклику методів**, \n",
    "- ставити запити в чергу, \n",
    "- логувати їх, \n",
    "- а також підтримувати скасування операцій."
   ]
  },
  {
   "cell_type": "code",
   "execution_count": 8,
   "metadata": {},
   "outputs": [
    {
     "name": "stdout",
     "output_type": "stream",
     "text": [
      "Send email: Send email \n",
      "Create XML order: Save report \n"
     ]
    }
   ],
   "source": [
    "from abc import ABC, abstractmethod\n",
    "\n",
    "\n",
    "class Command(ABC):\n",
    "    @abstractmethod\n",
    "    def execute(self) -> None:\n",
    "        pass\n",
    "\n",
    "\n",
    "class CommandCreateXMLOrder(Command):\n",
    "    def __init__(self, receiver, text: str) -> None:\n",
    "        self._receiver = receiver\n",
    "        self._text = text\n",
    "\n",
    "    def execute(self) -> None:\n",
    "        self._receiver.createXMLOrder(self._text)\n",
    "\n",
    "\n",
    "class CommandSendEmail(Command):\n",
    "    def __init__(self, receiver, html: str) -> None:\n",
    "        self._receiver = receiver\n",
    "        self._html = html\n",
    "\n",
    "    def execute(self) -> None:\n",
    "        self._receiver.send_email(self._html)\n",
    "\n",
    "\n",
    "class Receiver:\n",
    "    def createXMLOrder(self, text: str) -> None:\n",
    "        print(f\"Create XML order: {text} \")\n",
    "\n",
    "    def send_email(self, text: str) -> None:\n",
    "        print(f\"Send email: {text} \")\n",
    "\n",
    "\n",
    "class Invoker:\n",
    "    def __init__(self) -> None:\n",
    "        self._on_order = None\n",
    "        self._on_email = None\n",
    "\n",
    "\n",
    "    def set_on_order(self, command: Command):\n",
    "        self._on_order = command\n",
    "\n",
    "    def set_on_email(self, command: Command):\n",
    "        self._on_email = command\n",
    "\n",
    "    def generate_general_order(self) -> None:\n",
    "        self._on_order.execute()\n",
    "        self._on_email.execute()\n",
    "\n",
    "\n",
    "def client():\n",
    "    invoker = Invoker()\n",
    "    invoker.set_on_order(CommandSendEmail(Receiver(), \"Send email\"))\n",
    "    invoker.set_on_email(CommandCreateXMLOrder(Receiver(), \"Save report\"))\n",
    "    invoker.generate_general_order()\n",
    "\n",
    "\n",
    "if __name__ == \"__main__\":\n",
    "    client()\n"
   ]
  },
  {
   "cell_type": "markdown",
   "metadata": {},
   "source": [
    "Відправник клас `Invoker` **зберігає посилання на об'єкти команд**, у нашому випадку `self._on_order` та `self._on_email`, і звертається до них, коли потрібно виконати якусь дію. Він працює з командами лише через їхній спільний інтерфейс. Він не знає, яку конкретно команду використовує, оскільки отримує готовий об'єкт команди від клієнта.\n",
    "\n",
    "`Команда` — абстрактний клас `Command`, описує **загальний для всіх конкретних команд інтерфейс**. \n",
    "- Зазвичай, це один метод для запуску команди.\n",
    "\n",
    "Конкретні команди, класи `CommandCreateXMLOrder` та `CommandSendEmail`, **реалізують різні запит**и, дотримуючись спільного інтерфейсу команд. \n",
    "- Майже завжди команда **передає виклик одержувачу об'єкту бізнес-логіки, клас `Receiver`**.\n",
    "\n",
    "Одержувач клас `Receiver` містить бізнес-логіку програми, це може бути будь-який об'єкт. \n",
    "- Зазвичай, команди перенаправляють виклики одержувачам. Але іноді, щоб спростити програму, ви можете позбавитися одержувачів, перемістивши їх код в класи команд.\n",
    "\n",
    "Клієнт, у нашому випадку функція `client`, створює об'єкти конкретних команд, передаючи в них усі необхідні параметри, а іноді й посилання на об'єкти одержувачів. Після цього клієнт конфігурує відправників створеними командами.\n"
   ]
  },
  {
   "cell_type": "markdown",
   "metadata": {},
   "source": [
    "### Спостерігач (Observer)\n",
    "\n",
    "Паттерн проектування, який створює механізм підписки, що дозволяє одним об'єктам стежити і реагувати на події, що відбуваються в інших об'єктах."
   ]
  },
  {
   "cell_type": "markdown",
   "metadata": {},
   "source": [
    "Уявіть, що ви хочете придбати якийсь унікальний товар в інтернет-магазині. \n",
    "- Ви щодня заходите на сайт і перевіряєте, чи не з'явився товар. \n",
    "- Ви витрачаєте час і не щасливі, що товару все немає. \n",
    "- Можна підписатися на спам розсилку нових товарів у магазині. \n",
    "- Але більшість товарів вам зовсім не потрібні, і шукати в розсилці, чи з'явилася потрібна вам річ, чи ні — те ще заняття.\n",
    "\n",
    "Рішення — це `паттерн Спостерігач`. \n",
    "- В інтернет-магазині з'являється кнопка повідомити мене, коли товар з'явиться. \n",
    "- Ви натискаєте на неї, підписуєтеся на подію, і з появою товару магазин повідомляє вам, що товар з'явився. \n",
    "- Фактично інтернет-магазин — це **видавець**, який **володіє внутрішнім станом**, поява товару якого цікава для підписників (покупців). \n",
    "- Він містить **механізм підписки** — список підписників, а також методи підписки/відписки. \n",
    "- Коли товар з'являється видавець сповіщає своїх підписників. Для цього видавець проходить списком підписників (всіх, хто натиснув кнопку) і викликає їх метод повідомлення, заданий в інтерфейсі підписника.\n",
    "\n",
    "Давайте розглянемо конкретний приклад:\n"
   ]
  },
  {
   "cell_type": "code",
   "execution_count": null,
   "metadata": {},
   "outputs": [],
   "source": [
    "from abc import ABC, abstractmethod\n",
    "\n",
    "\n",
    "class Publisher(ABC):\n",
    "    @abstractmethod\n",
    "    def attach(self, observer):\n",
    "        pass\n",
    "\n",
    "    @abstractmethod\n",
    "    def detach(self, observer):\n",
    "        pass\n",
    "\n",
    "    @abstractmethod\n",
    "    def notify(self):\n",
    "        pass\n",
    "\n",
    "\n",
    "class PublisherMessages(Publisher):\n",
    "    _observers = []\n",
    "    _indicator = 0\n",
    "\n",
    "    def attach(self, observer):\n",
    "        self._observers.append(observer)\n",
    "\n",
    "    def detach(self, observer):\n",
    "        self._observers.remove(observer)\n",
    "\n",
    "    def notify(self):\n",
    "        for observer in self._observers:\n",
    "            observer.update(self)\n",
    "\n",
    "    def business_logic_execution(self):\n",
    "        print(f\"Application logic is being executed. Indicator: {self._indicator}\")\n",
    "        self._indicator += 1\n",
    "        self.notify()\n",
    "\n",
    "\n",
    "class Observer(ABC):\n",
    "    @abstractmethod\n",
    "    def update(self, publisher):\n",
    "        pass\n",
    "\n",
    "\n",
    "class ObserverA(Observer):\n",
    "    def update(self, publisher):\n",
    "        if publisher._indicator <= 3:\n",
    "            print(\"ObserverA: reacts to the indicator less than 2\")\n",
    "\n",
    "\n",
    "class ObserverB(Observer):\n",
    "    def update(self, publisher):\n",
    "        if publisher._indicator > 2:\n",
    "            print(\"ObserverB: reacts to the indicator greater than 2\")\n",
    "\n",
    "\n",
    "def client():\n",
    "    publisher = PublisherMessages()\n",
    "\n",
    "    observer_a = ObserverA()\n",
    "    publisher.attach(observer_a)\n",
    "\n",
    "    observer_b = ObserverB()\n",
    "    publisher.attach(observer_b)\n",
    "\n",
    "    publisher.business_logic_execution()\n",
    "    publisher.business_logic_execution()\n",
    "    publisher.detach(observer_a)\n",
    "    publisher.business_logic_execution()\n",
    "\n",
    "\n",
    "if __name__ == \"__main__\":\n",
    "\n",
    "    client()\n",
    "\n"
   ]
  },
  {
   "cell_type": "markdown",
   "metadata": {},
   "source": [
    "\n",
    "Що відбувається у нас. Ми створюємо екземпляр Видавця\n",
    "\n",
    "`publisher = PublisherMessages()`\n",
    "\n",
    "\n",
    "Після цього ми створюємо екземпляри двох підписників і підписуємо їх на видавця\n",
    "\n",
    "```python\n",
    "observer_a = ObserverA()\n",
    "publisher.attach(observer_a)\n",
    "\n",
    "observer_b = ObserverB()\n",
    "publisher.attach(observer_b)\n",
    "```\n",
    "\n",
    "\n",
    "Починаємо виконувати метод `business_logic_execution` з якоюсь бізнес-логікою Видавця.\n",
    "\n",
    "```\n",
    "publisher.business_logic_execution()\n",
    "publisher.business_logic_execution()\n",
    "publisher.detach(observer_a)\n",
    "publisher.business_logic_execution()\n",
    "```\n",
    "\n",
    "\n",
    "І при кожному виконанні методу `business_logic_execution` виконується метод `self.notify()`, який проходить списком підписників та виконує у них метод `update`. \n",
    "Всередину методу `update` ми передаємо посилання на об'єкт видавця, щоб підписник міг стежити за властивістю `_indicator` та реагувати відповідно.\n",
    "\n",
    "Все це призводить до наступного виведення:\n",
    "\n",
    "```\n",
    "Application logic is being executed. Indicator: 0\n",
    "ObserverA: reacts to the indicator less than 2\n",
    "Application logic is being executed. Indicator: 1\n",
    "ObserverA: reacts to the indicator less than 2\n",
    "Application logic is being executed. Indicator: 2\n",
    "ObserverB: reacts to the indicator greater than 2\n",
    "```\n",
    "\n"
   ]
  }
 ],
 "metadata": {
  "kernelspec": {
   "display_name": "Python 3",
   "language": "python",
   "name": "python3"
  },
  "language_info": {
   "codemirror_mode": {
    "name": "ipython",
    "version": 3
   },
   "file_extension": ".py",
   "mimetype": "text/x-python",
   "name": "python",
   "nbconvert_exporter": "python",
   "pygments_lexer": "ipython3",
   "version": "3.12.2"
  }
 },
 "nbformat": 4,
 "nbformat_minor": 2
}
